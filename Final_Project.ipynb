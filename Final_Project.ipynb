{
  "nbformat": 4,
  "nbformat_minor": 0,
  "metadata": {
    "colab": {
      "provenance": [],
      "collapsed_sections": [
        "uY8eW6dLjm2F"
      ]
    },
    "kernelspec": {
      "name": "python3",
      "display_name": "Python 3"
    },
    "language_info": {
      "name": "python"
    }
  },
  "cells": [
    {
      "cell_type": "markdown",
      "source": [
        "#Data cleaning"
      ],
      "metadata": {
        "id": "9eTcLQmuTV2b"
      }
    },
    {
      "cell_type": "code",
      "source": [
        "import pandas as pd\n",
        "import numpy as np"
      ],
      "metadata": {
        "id": "b2Hr6B4sic8_"
      },
      "execution_count": null,
      "outputs": []
    },
    {
      "cell_type": "markdown",
      "source": [
        "##Reading in data"
      ],
      "metadata": {
        "id": "1WO3IXIFTZeq"
      }
    },
    {
      "cell_type": "code",
      "execution_count": null,
      "metadata": {
        "colab": {
          "base_uri": "https://localhost:8080/"
        },
        "id": "jm3UTcxkicM8",
        "outputId": "15f3a761-aab1-4097-882f-594ba799ae44"
      },
      "outputs": [
        {
          "output_type": "stream",
          "name": "stdout",
          "text": [
            "Mounted at /content/drive\n"
          ]
        }
      ],
      "source": [
        "from google.colab import drive\n",
        "drive.mount('/content/drive')"
      ]
    },
    {
      "cell_type": "code",
      "source": [
        "df = pd.read_csv('/content/drive/My Drive/survey.csv')"
      ],
      "metadata": {
        "id": "OsEzJH1ZiqIG"
      },
      "execution_count": null,
      "outputs": []
    },
    {
      "cell_type": "code",
      "source": [
        "df"
      ],
      "metadata": {
        "id": "s6CcpVR3itLl",
        "colab": {
          "base_uri": "https://localhost:8080/",
          "height": 661
        },
        "outputId": "3e79d1e0-8e18-4f30-8891-fd8af2572214"
      },
      "execution_count": null,
      "outputs": [
        {
          "output_type": "execute_result",
          "data": {
            "text/plain": [
              "                Timestamp  Age  Gender         Country state self_employed  \\\n",
              "0     2014-08-27 11:29:31   37  Female   United States    IL           NaN   \n",
              "1     2014-08-27 11:29:37   44       M   United States    IN           NaN   \n",
              "2     2014-08-27 11:29:44   32    Male          Canada   NaN           NaN   \n",
              "3     2014-08-27 11:29:46   31    Male  United Kingdom   NaN           NaN   \n",
              "4     2014-08-27 11:30:22   31    Male   United States    TX           NaN   \n",
              "...                   ...  ...     ...             ...   ...           ...   \n",
              "1254  2015-09-12 11:17:21   26    male  United Kingdom   NaN            No   \n",
              "1255  2015-09-26 01:07:35   32    Male   United States    IL            No   \n",
              "1256  2015-11-07 12:36:58   34    male   United States    CA            No   \n",
              "1257  2015-11-30 21:25:06   46       f   United States    NC            No   \n",
              "1258  2016-02-01 23:04:31   25    Male   United States    IL            No   \n",
              "\n",
              "     family_history treatment work_interfere    no_employees  ...  \\\n",
              "0                No       Yes          Often            6-25  ...   \n",
              "1                No        No         Rarely  More than 1000  ...   \n",
              "2                No        No         Rarely            6-25  ...   \n",
              "3               Yes       Yes          Often          26-100  ...   \n",
              "4                No        No          Never         100-500  ...   \n",
              "...             ...       ...            ...             ...  ...   \n",
              "1254             No       Yes            NaN          26-100  ...   \n",
              "1255            Yes       Yes          Often          26-100  ...   \n",
              "1256            Yes       Yes      Sometimes  More than 1000  ...   \n",
              "1257             No        No            NaN         100-500  ...   \n",
              "1258            Yes       Yes      Sometimes          26-100  ...   \n",
              "\n",
              "                   leave mental_health_consequence phys_health_consequence  \\\n",
              "0          Somewhat easy                        No                      No   \n",
              "1             Don't know                     Maybe                      No   \n",
              "2     Somewhat difficult                        No                      No   \n",
              "3     Somewhat difficult                       Yes                     Yes   \n",
              "4             Don't know                        No                      No   \n",
              "...                  ...                       ...                     ...   \n",
              "1254       Somewhat easy                        No                      No   \n",
              "1255  Somewhat difficult                        No                      No   \n",
              "1256  Somewhat difficult                       Yes                     Yes   \n",
              "1257          Don't know                       Yes                      No   \n",
              "1258          Don't know                     Maybe                      No   \n",
              "\n",
              "         coworkers    supervisor mental_health_interview  \\\n",
              "0     Some of them           Yes                      No   \n",
              "1               No            No                      No   \n",
              "2              Yes           Yes                     Yes   \n",
              "3     Some of them            No                   Maybe   \n",
              "4     Some of them           Yes                     Yes   \n",
              "...            ...           ...                     ...   \n",
              "1254  Some of them  Some of them                      No   \n",
              "1255  Some of them           Yes                      No   \n",
              "1256            No            No                      No   \n",
              "1257            No            No                      No   \n",
              "1258  Some of them            No                      No   \n",
              "\n",
              "     phys_health_interview mental_vs_physical obs_consequence comments  \n",
              "0                    Maybe                Yes              No      NaN  \n",
              "1                       No         Don't know              No      NaN  \n",
              "2                      Yes                 No              No      NaN  \n",
              "3                    Maybe                 No             Yes      NaN  \n",
              "4                      Yes         Don't know              No      NaN  \n",
              "...                    ...                ...             ...      ...  \n",
              "1254                    No         Don't know              No      NaN  \n",
              "1255                    No                Yes              No      NaN  \n",
              "1256                    No                 No              No      NaN  \n",
              "1257                    No                 No              No      NaN  \n",
              "1258                    No         Don't know              No      NaN  \n",
              "\n",
              "[1259 rows x 27 columns]"
            ],
            "text/html": [
              "\n",
              "  <div id=\"df-bcc6afe9-b1eb-4608-b584-757aa909454a\">\n",
              "    <div class=\"colab-df-container\">\n",
              "      <div>\n",
              "<style scoped>\n",
              "    .dataframe tbody tr th:only-of-type {\n",
              "        vertical-align: middle;\n",
              "    }\n",
              "\n",
              "    .dataframe tbody tr th {\n",
              "        vertical-align: top;\n",
              "    }\n",
              "\n",
              "    .dataframe thead th {\n",
              "        text-align: right;\n",
              "    }\n",
              "</style>\n",
              "<table border=\"1\" class=\"dataframe\">\n",
              "  <thead>\n",
              "    <tr style=\"text-align: right;\">\n",
              "      <th></th>\n",
              "      <th>Timestamp</th>\n",
              "      <th>Age</th>\n",
              "      <th>Gender</th>\n",
              "      <th>Country</th>\n",
              "      <th>state</th>\n",
              "      <th>self_employed</th>\n",
              "      <th>family_history</th>\n",
              "      <th>treatment</th>\n",
              "      <th>work_interfere</th>\n",
              "      <th>no_employees</th>\n",
              "      <th>...</th>\n",
              "      <th>leave</th>\n",
              "      <th>mental_health_consequence</th>\n",
              "      <th>phys_health_consequence</th>\n",
              "      <th>coworkers</th>\n",
              "      <th>supervisor</th>\n",
              "      <th>mental_health_interview</th>\n",
              "      <th>phys_health_interview</th>\n",
              "      <th>mental_vs_physical</th>\n",
              "      <th>obs_consequence</th>\n",
              "      <th>comments</th>\n",
              "    </tr>\n",
              "  </thead>\n",
              "  <tbody>\n",
              "    <tr>\n",
              "      <th>0</th>\n",
              "      <td>2014-08-27 11:29:31</td>\n",
              "      <td>37</td>\n",
              "      <td>Female</td>\n",
              "      <td>United States</td>\n",
              "      <td>IL</td>\n",
              "      <td>NaN</td>\n",
              "      <td>No</td>\n",
              "      <td>Yes</td>\n",
              "      <td>Often</td>\n",
              "      <td>6-25</td>\n",
              "      <td>...</td>\n",
              "      <td>Somewhat easy</td>\n",
              "      <td>No</td>\n",
              "      <td>No</td>\n",
              "      <td>Some of them</td>\n",
              "      <td>Yes</td>\n",
              "      <td>No</td>\n",
              "      <td>Maybe</td>\n",
              "      <td>Yes</td>\n",
              "      <td>No</td>\n",
              "      <td>NaN</td>\n",
              "    </tr>\n",
              "    <tr>\n",
              "      <th>1</th>\n",
              "      <td>2014-08-27 11:29:37</td>\n",
              "      <td>44</td>\n",
              "      <td>M</td>\n",
              "      <td>United States</td>\n",
              "      <td>IN</td>\n",
              "      <td>NaN</td>\n",
              "      <td>No</td>\n",
              "      <td>No</td>\n",
              "      <td>Rarely</td>\n",
              "      <td>More than 1000</td>\n",
              "      <td>...</td>\n",
              "      <td>Don't know</td>\n",
              "      <td>Maybe</td>\n",
              "      <td>No</td>\n",
              "      <td>No</td>\n",
              "      <td>No</td>\n",
              "      <td>No</td>\n",
              "      <td>No</td>\n",
              "      <td>Don't know</td>\n",
              "      <td>No</td>\n",
              "      <td>NaN</td>\n",
              "    </tr>\n",
              "    <tr>\n",
              "      <th>2</th>\n",
              "      <td>2014-08-27 11:29:44</td>\n",
              "      <td>32</td>\n",
              "      <td>Male</td>\n",
              "      <td>Canada</td>\n",
              "      <td>NaN</td>\n",
              "      <td>NaN</td>\n",
              "      <td>No</td>\n",
              "      <td>No</td>\n",
              "      <td>Rarely</td>\n",
              "      <td>6-25</td>\n",
              "      <td>...</td>\n",
              "      <td>Somewhat difficult</td>\n",
              "      <td>No</td>\n",
              "      <td>No</td>\n",
              "      <td>Yes</td>\n",
              "      <td>Yes</td>\n",
              "      <td>Yes</td>\n",
              "      <td>Yes</td>\n",
              "      <td>No</td>\n",
              "      <td>No</td>\n",
              "      <td>NaN</td>\n",
              "    </tr>\n",
              "    <tr>\n",
              "      <th>3</th>\n",
              "      <td>2014-08-27 11:29:46</td>\n",
              "      <td>31</td>\n",
              "      <td>Male</td>\n",
              "      <td>United Kingdom</td>\n",
              "      <td>NaN</td>\n",
              "      <td>NaN</td>\n",
              "      <td>Yes</td>\n",
              "      <td>Yes</td>\n",
              "      <td>Often</td>\n",
              "      <td>26-100</td>\n",
              "      <td>...</td>\n",
              "      <td>Somewhat difficult</td>\n",
              "      <td>Yes</td>\n",
              "      <td>Yes</td>\n",
              "      <td>Some of them</td>\n",
              "      <td>No</td>\n",
              "      <td>Maybe</td>\n",
              "      <td>Maybe</td>\n",
              "      <td>No</td>\n",
              "      <td>Yes</td>\n",
              "      <td>NaN</td>\n",
              "    </tr>\n",
              "    <tr>\n",
              "      <th>4</th>\n",
              "      <td>2014-08-27 11:30:22</td>\n",
              "      <td>31</td>\n",
              "      <td>Male</td>\n",
              "      <td>United States</td>\n",
              "      <td>TX</td>\n",
              "      <td>NaN</td>\n",
              "      <td>No</td>\n",
              "      <td>No</td>\n",
              "      <td>Never</td>\n",
              "      <td>100-500</td>\n",
              "      <td>...</td>\n",
              "      <td>Don't know</td>\n",
              "      <td>No</td>\n",
              "      <td>No</td>\n",
              "      <td>Some of them</td>\n",
              "      <td>Yes</td>\n",
              "      <td>Yes</td>\n",
              "      <td>Yes</td>\n",
              "      <td>Don't know</td>\n",
              "      <td>No</td>\n",
              "      <td>NaN</td>\n",
              "    </tr>\n",
              "    <tr>\n",
              "      <th>...</th>\n",
              "      <td>...</td>\n",
              "      <td>...</td>\n",
              "      <td>...</td>\n",
              "      <td>...</td>\n",
              "      <td>...</td>\n",
              "      <td>...</td>\n",
              "      <td>...</td>\n",
              "      <td>...</td>\n",
              "      <td>...</td>\n",
              "      <td>...</td>\n",
              "      <td>...</td>\n",
              "      <td>...</td>\n",
              "      <td>...</td>\n",
              "      <td>...</td>\n",
              "      <td>...</td>\n",
              "      <td>...</td>\n",
              "      <td>...</td>\n",
              "      <td>...</td>\n",
              "      <td>...</td>\n",
              "      <td>...</td>\n",
              "      <td>...</td>\n",
              "    </tr>\n",
              "    <tr>\n",
              "      <th>1254</th>\n",
              "      <td>2015-09-12 11:17:21</td>\n",
              "      <td>26</td>\n",
              "      <td>male</td>\n",
              "      <td>United Kingdom</td>\n",
              "      <td>NaN</td>\n",
              "      <td>No</td>\n",
              "      <td>No</td>\n",
              "      <td>Yes</td>\n",
              "      <td>NaN</td>\n",
              "      <td>26-100</td>\n",
              "      <td>...</td>\n",
              "      <td>Somewhat easy</td>\n",
              "      <td>No</td>\n",
              "      <td>No</td>\n",
              "      <td>Some of them</td>\n",
              "      <td>Some of them</td>\n",
              "      <td>No</td>\n",
              "      <td>No</td>\n",
              "      <td>Don't know</td>\n",
              "      <td>No</td>\n",
              "      <td>NaN</td>\n",
              "    </tr>\n",
              "    <tr>\n",
              "      <th>1255</th>\n",
              "      <td>2015-09-26 01:07:35</td>\n",
              "      <td>32</td>\n",
              "      <td>Male</td>\n",
              "      <td>United States</td>\n",
              "      <td>IL</td>\n",
              "      <td>No</td>\n",
              "      <td>Yes</td>\n",
              "      <td>Yes</td>\n",
              "      <td>Often</td>\n",
              "      <td>26-100</td>\n",
              "      <td>...</td>\n",
              "      <td>Somewhat difficult</td>\n",
              "      <td>No</td>\n",
              "      <td>No</td>\n",
              "      <td>Some of them</td>\n",
              "      <td>Yes</td>\n",
              "      <td>No</td>\n",
              "      <td>No</td>\n",
              "      <td>Yes</td>\n",
              "      <td>No</td>\n",
              "      <td>NaN</td>\n",
              "    </tr>\n",
              "    <tr>\n",
              "      <th>1256</th>\n",
              "      <td>2015-11-07 12:36:58</td>\n",
              "      <td>34</td>\n",
              "      <td>male</td>\n",
              "      <td>United States</td>\n",
              "      <td>CA</td>\n",
              "      <td>No</td>\n",
              "      <td>Yes</td>\n",
              "      <td>Yes</td>\n",
              "      <td>Sometimes</td>\n",
              "      <td>More than 1000</td>\n",
              "      <td>...</td>\n",
              "      <td>Somewhat difficult</td>\n",
              "      <td>Yes</td>\n",
              "      <td>Yes</td>\n",
              "      <td>No</td>\n",
              "      <td>No</td>\n",
              "      <td>No</td>\n",
              "      <td>No</td>\n",
              "      <td>No</td>\n",
              "      <td>No</td>\n",
              "      <td>NaN</td>\n",
              "    </tr>\n",
              "    <tr>\n",
              "      <th>1257</th>\n",
              "      <td>2015-11-30 21:25:06</td>\n",
              "      <td>46</td>\n",
              "      <td>f</td>\n",
              "      <td>United States</td>\n",
              "      <td>NC</td>\n",
              "      <td>No</td>\n",
              "      <td>No</td>\n",
              "      <td>No</td>\n",
              "      <td>NaN</td>\n",
              "      <td>100-500</td>\n",
              "      <td>...</td>\n",
              "      <td>Don't know</td>\n",
              "      <td>Yes</td>\n",
              "      <td>No</td>\n",
              "      <td>No</td>\n",
              "      <td>No</td>\n",
              "      <td>No</td>\n",
              "      <td>No</td>\n",
              "      <td>No</td>\n",
              "      <td>No</td>\n",
              "      <td>NaN</td>\n",
              "    </tr>\n",
              "    <tr>\n",
              "      <th>1258</th>\n",
              "      <td>2016-02-01 23:04:31</td>\n",
              "      <td>25</td>\n",
              "      <td>Male</td>\n",
              "      <td>United States</td>\n",
              "      <td>IL</td>\n",
              "      <td>No</td>\n",
              "      <td>Yes</td>\n",
              "      <td>Yes</td>\n",
              "      <td>Sometimes</td>\n",
              "      <td>26-100</td>\n",
              "      <td>...</td>\n",
              "      <td>Don't know</td>\n",
              "      <td>Maybe</td>\n",
              "      <td>No</td>\n",
              "      <td>Some of them</td>\n",
              "      <td>No</td>\n",
              "      <td>No</td>\n",
              "      <td>No</td>\n",
              "      <td>Don't know</td>\n",
              "      <td>No</td>\n",
              "      <td>NaN</td>\n",
              "    </tr>\n",
              "  </tbody>\n",
              "</table>\n",
              "<p>1259 rows × 27 columns</p>\n",
              "</div>\n",
              "      <button class=\"colab-df-convert\" onclick=\"convertToInteractive('df-bcc6afe9-b1eb-4608-b584-757aa909454a')\"\n",
              "              title=\"Convert this dataframe to an interactive table.\"\n",
              "              style=\"display:none;\">\n",
              "        \n",
              "  <svg xmlns=\"http://www.w3.org/2000/svg\" height=\"24px\"viewBox=\"0 0 24 24\"\n",
              "       width=\"24px\">\n",
              "    <path d=\"M0 0h24v24H0V0z\" fill=\"none\"/>\n",
              "    <path d=\"M18.56 5.44l.94 2.06.94-2.06 2.06-.94-2.06-.94-.94-2.06-.94 2.06-2.06.94zm-11 1L8.5 8.5l.94-2.06 2.06-.94-2.06-.94L8.5 2.5l-.94 2.06-2.06.94zm10 10l.94 2.06.94-2.06 2.06-.94-2.06-.94-.94-2.06-.94 2.06-2.06.94z\"/><path d=\"M17.41 7.96l-1.37-1.37c-.4-.4-.92-.59-1.43-.59-.52 0-1.04.2-1.43.59L10.3 9.45l-7.72 7.72c-.78.78-.78 2.05 0 2.83L4 21.41c.39.39.9.59 1.41.59.51 0 1.02-.2 1.41-.59l7.78-7.78 2.81-2.81c.8-.78.8-2.07 0-2.86zM5.41 20L4 18.59l7.72-7.72 1.47 1.35L5.41 20z\"/>\n",
              "  </svg>\n",
              "      </button>\n",
              "      \n",
              "  <style>\n",
              "    .colab-df-container {\n",
              "      display:flex;\n",
              "      flex-wrap:wrap;\n",
              "      gap: 12px;\n",
              "    }\n",
              "\n",
              "    .colab-df-convert {\n",
              "      background-color: #E8F0FE;\n",
              "      border: none;\n",
              "      border-radius: 50%;\n",
              "      cursor: pointer;\n",
              "      display: none;\n",
              "      fill: #1967D2;\n",
              "      height: 32px;\n",
              "      padding: 0 0 0 0;\n",
              "      width: 32px;\n",
              "    }\n",
              "\n",
              "    .colab-df-convert:hover {\n",
              "      background-color: #E2EBFA;\n",
              "      box-shadow: 0px 1px 2px rgba(60, 64, 67, 0.3), 0px 1px 3px 1px rgba(60, 64, 67, 0.15);\n",
              "      fill: #174EA6;\n",
              "    }\n",
              "\n",
              "    [theme=dark] .colab-df-convert {\n",
              "      background-color: #3B4455;\n",
              "      fill: #D2E3FC;\n",
              "    }\n",
              "\n",
              "    [theme=dark] .colab-df-convert:hover {\n",
              "      background-color: #434B5C;\n",
              "      box-shadow: 0px 1px 3px 1px rgba(0, 0, 0, 0.15);\n",
              "      filter: drop-shadow(0px 1px 2px rgba(0, 0, 0, 0.3));\n",
              "      fill: #FFFFFF;\n",
              "    }\n",
              "  </style>\n",
              "\n",
              "      <script>\n",
              "        const buttonEl =\n",
              "          document.querySelector('#df-bcc6afe9-b1eb-4608-b584-757aa909454a button.colab-df-convert');\n",
              "        buttonEl.style.display =\n",
              "          google.colab.kernel.accessAllowed ? 'block' : 'none';\n",
              "\n",
              "        async function convertToInteractive(key) {\n",
              "          const element = document.querySelector('#df-bcc6afe9-b1eb-4608-b584-757aa909454a');\n",
              "          const dataTable =\n",
              "            await google.colab.kernel.invokeFunction('convertToInteractive',\n",
              "                                                     [key], {});\n",
              "          if (!dataTable) return;\n",
              "\n",
              "          const docLinkHtml = 'Like what you see? Visit the ' +\n",
              "            '<a target=\"_blank\" href=https://colab.research.google.com/notebooks/data_table.ipynb>data table notebook</a>'\n",
              "            + ' to learn more about interactive tables.';\n",
              "          element.innerHTML = '';\n",
              "          dataTable['output_type'] = 'display_data';\n",
              "          await google.colab.output.renderOutput(dataTable, element);\n",
              "          const docLink = document.createElement('div');\n",
              "          docLink.innerHTML = docLinkHtml;\n",
              "          element.appendChild(docLink);\n",
              "        }\n",
              "      </script>\n",
              "    </div>\n",
              "  </div>\n",
              "  "
            ]
          },
          "metadata": {},
          "execution_count": 4
        }
      ]
    },
    {
      "cell_type": "code",
      "source": [
        "for col in df.columns:\n",
        "    print(col)"
      ],
      "metadata": {
        "id": "iKfGPP5Kiu95",
        "colab": {
          "base_uri": "https://localhost:8080/"
        },
        "outputId": "d8cf6bde-7d1a-4363-9358-5e19935f7969"
      },
      "execution_count": null,
      "outputs": [
        {
          "output_type": "stream",
          "name": "stdout",
          "text": [
            "Timestamp\n",
            "Age\n",
            "Gender\n",
            "Country\n",
            "state\n",
            "self_employed\n",
            "family_history\n",
            "treatment\n",
            "work_interfere\n",
            "no_employees\n",
            "remote_work\n",
            "tech_company\n",
            "benefits\n",
            "care_options\n",
            "wellness_program\n",
            "seek_help\n",
            "anonymity\n",
            "leave\n",
            "mental_health_consequence\n",
            "phys_health_consequence\n",
            "coworkers\n",
            "supervisor\n",
            "mental_health_interview\n",
            "phys_health_interview\n",
            "mental_vs_physical\n",
            "obs_consequence\n",
            "comments\n"
          ]
        }
      ]
    },
    {
      "cell_type": "code",
      "source": [
        "for col in df.columns:\n",
        "    print(np.sum(df[col].isna()))"
      ],
      "metadata": {
        "id": "9aQOcNKaixVi",
        "colab": {
          "base_uri": "https://localhost:8080/"
        },
        "outputId": "94ace8b1-fe1a-4234-c912-ce7fe985409d"
      },
      "execution_count": null,
      "outputs": [
        {
          "output_type": "stream",
          "name": "stdout",
          "text": [
            "0\n",
            "0\n",
            "0\n",
            "0\n",
            "515\n",
            "18\n",
            "0\n",
            "0\n",
            "264\n",
            "0\n",
            "0\n",
            "0\n",
            "0\n",
            "0\n",
            "0\n",
            "0\n",
            "0\n",
            "0\n",
            "0\n",
            "0\n",
            "0\n",
            "0\n",
            "0\n",
            "0\n",
            "0\n",
            "0\n",
            "1095\n"
          ]
        }
      ]
    },
    {
      "cell_type": "markdown",
      "source": [
        "##Cleaning the 'age' column\n",
        "For this column, I decided to clip the age range from 18-70, so that there would not be any extreme outliers."
      ],
      "metadata": {
        "id": "mpQukaTtfUmS"
      }
    },
    {
      "cell_type": "code",
      "source": [
        "df['Age'] = [age if age >18 else 18 for age in df['Age']]\n",
        "df['Age'] = [age if age <70 else 70 for age in df['Age']]"
      ],
      "metadata": {
        "id": "fSf-YscwjFqY"
      },
      "execution_count": null,
      "outputs": []
    },
    {
      "cell_type": "code",
      "source": [
        "df['Age'].unique()"
      ],
      "metadata": {
        "id": "8TDUU6WmjKpR",
        "colab": {
          "base_uri": "https://localhost:8080/"
        },
        "outputId": "ff72c692-3e2f-4f4f-e0b6-b1a574259f7a"
      },
      "execution_count": null,
      "outputs": [
        {
          "output_type": "execute_result",
          "data": {
            "text/plain": [
              "array([37, 44, 32, 31, 33, 35, 39, 42, 23, 29, 36, 27, 46, 41, 34, 30, 40,\n",
              "       38, 50, 24, 18, 28, 26, 22, 19, 25, 45, 21, 43, 56, 60, 54, 70, 55,\n",
              "       48, 20, 57, 58, 47, 62, 51, 65, 49, 53, 61])"
            ]
          },
          "metadata": {},
          "execution_count": 8
        }
      ]
    },
    {
      "cell_type": "code",
      "source": [
        "np.sum(df['Age'].isna())"
      ],
      "metadata": {
        "id": "npSmDTXzjMPh",
        "colab": {
          "base_uri": "https://localhost:8080/"
        },
        "outputId": "3ea5e14c-472c-479c-9fcb-5e8bed6f9d9f"
      },
      "execution_count": null,
      "outputs": [
        {
          "output_type": "execute_result",
          "data": {
            "text/plain": [
              "0"
            ]
          },
          "metadata": {},
          "execution_count": 9
        }
      ]
    },
    {
      "cell_type": "markdown",
      "source": [
        "##Cleaning the 'gender' column\n",
        "For this column, I looked at all the unique values and decided to put all these values into 3 categories: male, female, and other."
      ],
      "metadata": {
        "id": "NXOxGW5tjVWk"
      }
    },
    {
      "cell_type": "code",
      "source": [
        "df['Gender'].unique()"
      ],
      "metadata": {
        "id": "TjFefN5EjV0P",
        "colab": {
          "base_uri": "https://localhost:8080/"
        },
        "outputId": "c85975ed-4b6d-4dc6-991e-101055ee6dbb"
      },
      "execution_count": null,
      "outputs": [
        {
          "output_type": "execute_result",
          "data": {
            "text/plain": [
              "array(['Female', 'M', 'Male', 'male', 'female', 'm', 'Male-ish', 'maile',\n",
              "       'Trans-female', 'Cis Female', 'F', 'something kinda male?',\n",
              "       'Cis Male', 'Woman', 'f', 'Mal', 'Male (CIS)', 'queer/she/they',\n",
              "       'non-binary', 'Femake', 'woman', 'Make', 'Nah', 'All', 'Enby',\n",
              "       'fluid', 'Genderqueer', 'Female ', 'Androgyne', 'Agender',\n",
              "       'cis-female/femme', 'Guy (-ish) ^_^', 'male leaning androgynous',\n",
              "       'Male ', 'Man', 'Trans woman', 'msle', 'Neuter', 'Female (trans)',\n",
              "       'queer', 'Female (cis)', 'Mail', 'cis male', 'A little about you',\n",
              "       'Malr', 'p', 'femail', 'Cis Man',\n",
              "       'ostensibly male, unsure what that really means'], dtype=object)"
            ]
          },
          "metadata": {},
          "execution_count": 10
        }
      ]
    },
    {
      "cell_type": "code",
      "source": [
        "malenames = [\"male\", \"man\", \"m\", \"cis male\",\"mal\", \"male \",\"cis man\",\"maile\",\"male (cis)\",\"mail\",\"msle\",\"malr\"]\n",
        "femalenames = [\"female\", \"f\", \"cis female\",\"femake\", \"woman\",\"cis-female/femme\",\"female (cis)\",\"female \"]\n",
        "for i in range(len(df)):\n",
        "  if (df.iloc[i, 2].lower() in malenames):\n",
        "    df.iloc[i, 2] = 'M'\n",
        "  elif (df.iloc[i, 2].lower() in femalenames):\n",
        "    df.iloc[i, 2] = 'F'\n",
        "  else:\n",
        "    df.iloc[i, 2] = 'O'\n",
        "#othernames = [\"male-ish\",\"trans-female\",\"something kinda male?\",\"queer/she/they\",\"non-binary\", \"Make\", \"Nah\", \"All\", \"Enby\", \"fluid\", 'Genderqueer']\n",
        "df['Gender'].unique()"
      ],
      "metadata": {
        "id": "9vXIB2zFjYUg",
        "colab": {
          "base_uri": "https://localhost:8080/"
        },
        "outputId": "e0643054-9cf5-49b5-ccfb-bd5331388758"
      },
      "execution_count": null,
      "outputs": [
        {
          "output_type": "execute_result",
          "data": {
            "text/plain": [
              "array(['F', 'M', 'O'], dtype=object)"
            ]
          },
          "metadata": {},
          "execution_count": 11
        }
      ]
    },
    {
      "cell_type": "code",
      "source": [
        "np.sum(df['Gender'].isna())"
      ],
      "metadata": {
        "id": "CuPaEigYjbwV",
        "colab": {
          "base_uri": "https://localhost:8080/"
        },
        "outputId": "50e97d81-4452-403b-d0b2-60d3797be8a4"
      },
      "execution_count": null,
      "outputs": [
        {
          "output_type": "execute_result",
          "data": {
            "text/plain": [
              "0"
            ]
          },
          "metadata": {},
          "execution_count": 12
        }
      ]
    },
    {
      "cell_type": "markdown",
      "source": [
        "##'Comments' column\n",
        "Since most values in the Comments column were null, I decided to drop the comments column."
      ],
      "metadata": {
        "id": "h00WUCz3jgkI"
      }
    },
    {
      "cell_type": "code",
      "source": [
        "df = df.drop(['comments'], axis = 1)"
      ],
      "metadata": {
        "id": "Us84Qm8ejhEA"
      },
      "execution_count": null,
      "outputs": []
    },
    {
      "cell_type": "markdown",
      "source": [
        "##'Treatment' column\n",
        "I made sure that all individuals had treatement reported.\n"
      ],
      "metadata": {
        "id": "iiOPYJRyjjGW"
      }
    },
    {
      "cell_type": "code",
      "source": [
        "np.sum(df['treatment'].isna())"
      ],
      "metadata": {
        "id": "oxfQtIMbjllr",
        "colab": {
          "base_uri": "https://localhost:8080/"
        },
        "outputId": "2d938036-354f-43be-ea0f-357b2adc824b"
      },
      "execution_count": null,
      "outputs": [
        {
          "output_type": "execute_result",
          "data": {
            "text/plain": [
              "0"
            ]
          },
          "metadata": {},
          "execution_count": 14
        }
      ]
    },
    {
      "cell_type": "markdown",
      "source": [
        "##Dropping columns\n",
        "I dropped columns with too many null values or that were not relevant to the project, such as state, work interfere, and timestamp."
      ],
      "metadata": {
        "id": "uY8eW6dLjm2F"
      }
    },
    {
      "cell_type": "code",
      "source": [
        "df = df.drop(['state'], axis = 1)"
      ],
      "metadata": {
        "id": "oZpx3by9jnYm"
      },
      "execution_count": null,
      "outputs": []
    },
    {
      "cell_type": "code",
      "source": [
        "df = df.drop(['work_interfere'], axis = 1)"
      ],
      "metadata": {
        "id": "5AVpO9gvjsvq"
      },
      "execution_count": null,
      "outputs": []
    },
    {
      "cell_type": "code",
      "source": [
        "for col in df.columns:\n",
        "    print(col)"
      ],
      "metadata": {
        "id": "zaq6aifEjux1",
        "colab": {
          "base_uri": "https://localhost:8080/"
        },
        "outputId": "9a88d940-5cfb-4996-b346-78e72bad1e56"
      },
      "execution_count": null,
      "outputs": [
        {
          "output_type": "stream",
          "name": "stdout",
          "text": [
            "Timestamp\n",
            "Age\n",
            "Gender\n",
            "Country\n",
            "self_employed\n",
            "family_history\n",
            "treatment\n",
            "no_employees\n",
            "remote_work\n",
            "tech_company\n",
            "benefits\n",
            "care_options\n",
            "wellness_program\n",
            "seek_help\n",
            "anonymity\n",
            "leave\n",
            "mental_health_consequence\n",
            "phys_health_consequence\n",
            "coworkers\n",
            "supervisor\n",
            "mental_health_interview\n",
            "phys_health_interview\n",
            "mental_vs_physical\n",
            "obs_consequence\n"
          ]
        }
      ]
    },
    {
      "cell_type": "code",
      "source": [
        "for col in df.columns:\n",
        "    print(np.sum(df[col].isna()))"
      ],
      "metadata": {
        "id": "RGYmW1oojzAp",
        "colab": {
          "base_uri": "https://localhost:8080/"
        },
        "outputId": "ae7b0cd0-ae96-4290-94c2-cc9fc38c4518"
      },
      "execution_count": null,
      "outputs": [
        {
          "output_type": "stream",
          "name": "stdout",
          "text": [
            "0\n",
            "0\n",
            "0\n",
            "0\n",
            "18\n",
            "0\n",
            "0\n",
            "0\n",
            "0\n",
            "0\n",
            "0\n",
            "0\n",
            "0\n",
            "0\n",
            "0\n",
            "0\n",
            "0\n",
            "0\n",
            "0\n",
            "0\n",
            "0\n",
            "0\n",
            "0\n",
            "0\n"
          ]
        }
      ]
    },
    {
      "cell_type": "code",
      "source": [
        "df= df.dropna()"
      ],
      "metadata": {
        "id": "TNeoG4qsjzhi"
      },
      "execution_count": null,
      "outputs": []
    },
    {
      "cell_type": "code",
      "source": [
        "df = df.drop(['Timestamp'], axis = 1)"
      ],
      "metadata": {
        "id": "dHEruwJdj1KX"
      },
      "execution_count": null,
      "outputs": []
    },
    {
      "cell_type": "code",
      "source": [
        "df.head()"
      ],
      "metadata": {
        "id": "4bOKPv-Sj3By",
        "colab": {
          "base_uri": "https://localhost:8080/"
        },
        "outputId": "810b9d7a-82d1-410e-8c49-36ae8f603eb6"
      },
      "execution_count": null,
      "outputs": [
        {
          "output_type": "execute_result",
          "data": {
            "text/plain": [
              "    Age Gender        Country self_employed family_history treatment  \\\n",
              "18   46      M  United States           Yes            Yes        No   \n",
              "19   36      M         France           Yes            Yes        No   \n",
              "20   29      M  United States            No            Yes       Yes   \n",
              "21   31      M  United States           Yes             No        No   \n",
              "22   46      M  United States            No             No       Yes   \n",
              "\n",
              "   no_employees remote_work tech_company benefits  ...   anonymity  \\\n",
              "18          1-5         Yes          Yes      Yes  ...         Yes   \n",
              "19         6-25         Yes          Yes       No  ...         Yes   \n",
              "20      100-500          No          Yes      Yes  ...          No   \n",
              "21          1-5         Yes          Yes       No  ...         Yes   \n",
              "22       26-100         Yes          Yes      Yes  ...  Don't know   \n",
              "\n",
              "                 leave mental_health_consequence phys_health_consequence  \\\n",
              "18           Very easy                        No                      No   \n",
              "19       Somewhat easy                        No                      No   \n",
              "20  Somewhat difficult                     Maybe                      No   \n",
              "21  Somewhat difficult                        No                      No   \n",
              "22          Don't know                     Maybe                      No   \n",
              "\n",
              "       coworkers    supervisor mental_health_interview phys_health_interview  \\\n",
              "18           Yes           Yes                      No                   Yes   \n",
              "19  Some of them  Some of them                   Maybe                 Maybe   \n",
              "20  Some of them  Some of them                      No                    No   \n",
              "21  Some of them  Some of them                      No                 Maybe   \n",
              "22  Some of them           Yes                      No                 Maybe   \n",
              "\n",
              "   mental_vs_physical obs_consequence  \n",
              "18                Yes             Yes  \n",
              "19         Don't know              No  \n",
              "20                 No              No  \n",
              "21                Yes              No  \n",
              "22                 No              No  \n",
              "\n",
              "[5 rows x 23 columns]"
            ],
            "text/html": [
              "\n",
              "  <div id=\"df-cd18c706-2204-4f46-8169-8c5588d4206c\">\n",
              "    <div class=\"colab-df-container\">\n",
              "      <div>\n",
              "<style scoped>\n",
              "    .dataframe tbody tr th:only-of-type {\n",
              "        vertical-align: middle;\n",
              "    }\n",
              "\n",
              "    .dataframe tbody tr th {\n",
              "        vertical-align: top;\n",
              "    }\n",
              "\n",
              "    .dataframe thead th {\n",
              "        text-align: right;\n",
              "    }\n",
              "</style>\n",
              "<table border=\"1\" class=\"dataframe\">\n",
              "  <thead>\n",
              "    <tr style=\"text-align: right;\">\n",
              "      <th></th>\n",
              "      <th>Age</th>\n",
              "      <th>Gender</th>\n",
              "      <th>Country</th>\n",
              "      <th>self_employed</th>\n",
              "      <th>family_history</th>\n",
              "      <th>treatment</th>\n",
              "      <th>no_employees</th>\n",
              "      <th>remote_work</th>\n",
              "      <th>tech_company</th>\n",
              "      <th>benefits</th>\n",
              "      <th>...</th>\n",
              "      <th>anonymity</th>\n",
              "      <th>leave</th>\n",
              "      <th>mental_health_consequence</th>\n",
              "      <th>phys_health_consequence</th>\n",
              "      <th>coworkers</th>\n",
              "      <th>supervisor</th>\n",
              "      <th>mental_health_interview</th>\n",
              "      <th>phys_health_interview</th>\n",
              "      <th>mental_vs_physical</th>\n",
              "      <th>obs_consequence</th>\n",
              "    </tr>\n",
              "  </thead>\n",
              "  <tbody>\n",
              "    <tr>\n",
              "      <th>18</th>\n",
              "      <td>46</td>\n",
              "      <td>M</td>\n",
              "      <td>United States</td>\n",
              "      <td>Yes</td>\n",
              "      <td>Yes</td>\n",
              "      <td>No</td>\n",
              "      <td>1-5</td>\n",
              "      <td>Yes</td>\n",
              "      <td>Yes</td>\n",
              "      <td>Yes</td>\n",
              "      <td>...</td>\n",
              "      <td>Yes</td>\n",
              "      <td>Very easy</td>\n",
              "      <td>No</td>\n",
              "      <td>No</td>\n",
              "      <td>Yes</td>\n",
              "      <td>Yes</td>\n",
              "      <td>No</td>\n",
              "      <td>Yes</td>\n",
              "      <td>Yes</td>\n",
              "      <td>Yes</td>\n",
              "    </tr>\n",
              "    <tr>\n",
              "      <th>19</th>\n",
              "      <td>36</td>\n",
              "      <td>M</td>\n",
              "      <td>France</td>\n",
              "      <td>Yes</td>\n",
              "      <td>Yes</td>\n",
              "      <td>No</td>\n",
              "      <td>6-25</td>\n",
              "      <td>Yes</td>\n",
              "      <td>Yes</td>\n",
              "      <td>No</td>\n",
              "      <td>...</td>\n",
              "      <td>Yes</td>\n",
              "      <td>Somewhat easy</td>\n",
              "      <td>No</td>\n",
              "      <td>No</td>\n",
              "      <td>Some of them</td>\n",
              "      <td>Some of them</td>\n",
              "      <td>Maybe</td>\n",
              "      <td>Maybe</td>\n",
              "      <td>Don't know</td>\n",
              "      <td>No</td>\n",
              "    </tr>\n",
              "    <tr>\n",
              "      <th>20</th>\n",
              "      <td>29</td>\n",
              "      <td>M</td>\n",
              "      <td>United States</td>\n",
              "      <td>No</td>\n",
              "      <td>Yes</td>\n",
              "      <td>Yes</td>\n",
              "      <td>100-500</td>\n",
              "      <td>No</td>\n",
              "      <td>Yes</td>\n",
              "      <td>Yes</td>\n",
              "      <td>...</td>\n",
              "      <td>No</td>\n",
              "      <td>Somewhat difficult</td>\n",
              "      <td>Maybe</td>\n",
              "      <td>No</td>\n",
              "      <td>Some of them</td>\n",
              "      <td>Some of them</td>\n",
              "      <td>No</td>\n",
              "      <td>No</td>\n",
              "      <td>No</td>\n",
              "      <td>No</td>\n",
              "    </tr>\n",
              "    <tr>\n",
              "      <th>21</th>\n",
              "      <td>31</td>\n",
              "      <td>M</td>\n",
              "      <td>United States</td>\n",
              "      <td>Yes</td>\n",
              "      <td>No</td>\n",
              "      <td>No</td>\n",
              "      <td>1-5</td>\n",
              "      <td>Yes</td>\n",
              "      <td>Yes</td>\n",
              "      <td>No</td>\n",
              "      <td>...</td>\n",
              "      <td>Yes</td>\n",
              "      <td>Somewhat difficult</td>\n",
              "      <td>No</td>\n",
              "      <td>No</td>\n",
              "      <td>Some of them</td>\n",
              "      <td>Some of them</td>\n",
              "      <td>No</td>\n",
              "      <td>Maybe</td>\n",
              "      <td>Yes</td>\n",
              "      <td>No</td>\n",
              "    </tr>\n",
              "    <tr>\n",
              "      <th>22</th>\n",
              "      <td>46</td>\n",
              "      <td>M</td>\n",
              "      <td>United States</td>\n",
              "      <td>No</td>\n",
              "      <td>No</td>\n",
              "      <td>Yes</td>\n",
              "      <td>26-100</td>\n",
              "      <td>Yes</td>\n",
              "      <td>Yes</td>\n",
              "      <td>Yes</td>\n",
              "      <td>...</td>\n",
              "      <td>Don't know</td>\n",
              "      <td>Don't know</td>\n",
              "      <td>Maybe</td>\n",
              "      <td>No</td>\n",
              "      <td>Some of them</td>\n",
              "      <td>Yes</td>\n",
              "      <td>No</td>\n",
              "      <td>Maybe</td>\n",
              "      <td>No</td>\n",
              "      <td>No</td>\n",
              "    </tr>\n",
              "  </tbody>\n",
              "</table>\n",
              "<p>5 rows × 23 columns</p>\n",
              "</div>\n",
              "      <button class=\"colab-df-convert\" onclick=\"convertToInteractive('df-cd18c706-2204-4f46-8169-8c5588d4206c')\"\n",
              "              title=\"Convert this dataframe to an interactive table.\"\n",
              "              style=\"display:none;\">\n",
              "        \n",
              "  <svg xmlns=\"http://www.w3.org/2000/svg\" height=\"24px\"viewBox=\"0 0 24 24\"\n",
              "       width=\"24px\">\n",
              "    <path d=\"M0 0h24v24H0V0z\" fill=\"none\"/>\n",
              "    <path d=\"M18.56 5.44l.94 2.06.94-2.06 2.06-.94-2.06-.94-.94-2.06-.94 2.06-2.06.94zm-11 1L8.5 8.5l.94-2.06 2.06-.94-2.06-.94L8.5 2.5l-.94 2.06-2.06.94zm10 10l.94 2.06.94-2.06 2.06-.94-2.06-.94-.94-2.06-.94 2.06-2.06.94z\"/><path d=\"M17.41 7.96l-1.37-1.37c-.4-.4-.92-.59-1.43-.59-.52 0-1.04.2-1.43.59L10.3 9.45l-7.72 7.72c-.78.78-.78 2.05 0 2.83L4 21.41c.39.39.9.59 1.41.59.51 0 1.02-.2 1.41-.59l7.78-7.78 2.81-2.81c.8-.78.8-2.07 0-2.86zM5.41 20L4 18.59l7.72-7.72 1.47 1.35L5.41 20z\"/>\n",
              "  </svg>\n",
              "      </button>\n",
              "      \n",
              "  <style>\n",
              "    .colab-df-container {\n",
              "      display:flex;\n",
              "      flex-wrap:wrap;\n",
              "      gap: 12px;\n",
              "    }\n",
              "\n",
              "    .colab-df-convert {\n",
              "      background-color: #E8F0FE;\n",
              "      border: none;\n",
              "      border-radius: 50%;\n",
              "      cursor: pointer;\n",
              "      display: none;\n",
              "      fill: #1967D2;\n",
              "      height: 32px;\n",
              "      padding: 0 0 0 0;\n",
              "      width: 32px;\n",
              "    }\n",
              "\n",
              "    .colab-df-convert:hover {\n",
              "      background-color: #E2EBFA;\n",
              "      box-shadow: 0px 1px 2px rgba(60, 64, 67, 0.3), 0px 1px 3px 1px rgba(60, 64, 67, 0.15);\n",
              "      fill: #174EA6;\n",
              "    }\n",
              "\n",
              "    [theme=dark] .colab-df-convert {\n",
              "      background-color: #3B4455;\n",
              "      fill: #D2E3FC;\n",
              "    }\n",
              "\n",
              "    [theme=dark] .colab-df-convert:hover {\n",
              "      background-color: #434B5C;\n",
              "      box-shadow: 0px 1px 3px 1px rgba(0, 0, 0, 0.15);\n",
              "      filter: drop-shadow(0px 1px 2px rgba(0, 0, 0, 0.3));\n",
              "      fill: #FFFFFF;\n",
              "    }\n",
              "  </style>\n",
              "\n",
              "      <script>\n",
              "        const buttonEl =\n",
              "          document.querySelector('#df-cd18c706-2204-4f46-8169-8c5588d4206c button.colab-df-convert');\n",
              "        buttonEl.style.display =\n",
              "          google.colab.kernel.accessAllowed ? 'block' : 'none';\n",
              "\n",
              "        async function convertToInteractive(key) {\n",
              "          const element = document.querySelector('#df-cd18c706-2204-4f46-8169-8c5588d4206c');\n",
              "          const dataTable =\n",
              "            await google.colab.kernel.invokeFunction('convertToInteractive',\n",
              "                                                     [key], {});\n",
              "          if (!dataTable) return;\n",
              "\n",
              "          const docLinkHtml = 'Like what you see? Visit the ' +\n",
              "            '<a target=\"_blank\" href=https://colab.research.google.com/notebooks/data_table.ipynb>data table notebook</a>'\n",
              "            + ' to learn more about interactive tables.';\n",
              "          element.innerHTML = '';\n",
              "          dataTable['output_type'] = 'display_data';\n",
              "          await google.colab.output.renderOutput(dataTable, element);\n",
              "          const docLink = document.createElement('div');\n",
              "          docLink.innerHTML = docLinkHtml;\n",
              "          element.appendChild(docLink);\n",
              "        }\n",
              "      </script>\n",
              "    </div>\n",
              "  </div>\n",
              "  "
            ]
          },
          "metadata": {},
          "execution_count": 21
        }
      ]
    },
    {
      "cell_type": "markdown",
      "source": [
        "##Saving cleaned data"
      ],
      "metadata": {
        "id": "Aiqtx8GCj6_H"
      }
    },
    {
      "cell_type": "code",
      "source": [
        "df.to_csv('/content/drive/My Drive/survey_cleaned.csv',index =False)"
      ],
      "metadata": {
        "id": "-bnnHLcXj7WW"
      },
      "execution_count": null,
      "outputs": []
    },
    {
      "cell_type": "markdown",
      "source": [
        "#Data Exploration"
      ],
      "metadata": {
        "id": "Jqpzj27cj8kU"
      }
    },
    {
      "cell_type": "code",
      "source": [
        "df = pd.read_csv('/content/drive/My Drive/survey_cleaned.csv')"
      ],
      "metadata": {
        "id": "DL1dh5_VRPCG"
      },
      "execution_count": null,
      "outputs": []
    },
    {
      "cell_type": "code",
      "source": [
        "import matplotlib.pyplot as plt\n",
        "import numpy as np"
      ],
      "metadata": {
        "id": "U0JpwIXlkBjg"
      },
      "execution_count": null,
      "outputs": []
    },
    {
      "cell_type": "markdown",
      "source": [
        "##Finding baseline accuracy"
      ],
      "metadata": {
        "id": "vl2axXQbzEbE"
      }
    },
    {
      "cell_type": "code",
      "source": [
        "df['treatment'].value_counts()"
      ],
      "metadata": {
        "colab": {
          "base_uri": "https://localhost:8080/"
        },
        "id": "DkkT9WaVzEFV",
        "outputId": "8f375b18-cdfc-4b78-bf55-7909b7adca32"
      },
      "execution_count": null,
      "outputs": [
        {
          "output_type": "execute_result",
          "data": {
            "text/plain": [
              "Yes    628\n",
              "No     613\n",
              "Name: treatment, dtype: int64"
            ]
          },
          "metadata": {},
          "execution_count": 25
        }
      ]
    },
    {
      "cell_type": "code",
      "source": [
        "628/(628+613)"
      ],
      "metadata": {
        "colab": {
          "base_uri": "https://localhost:8080/"
        },
        "id": "f6x5HQ2qz7dR",
        "outputId": "23bb6041-5620-4abb-981c-4a986da88ce2"
      },
      "execution_count": null,
      "outputs": [
        {
          "output_type": "execute_result",
          "data": {
            "text/plain": [
              "0.5060435132957293"
            ]
          },
          "metadata": {},
          "execution_count": 26
        }
      ]
    },
    {
      "cell_type": "markdown",
      "source": [
        "##Plotting a histogram with treatment values"
      ],
      "metadata": {
        "id": "DWc2S3noRUwE"
      }
    },
    {
      "cell_type": "code",
      "source": [
        "df['treatment'].unique()"
      ],
      "metadata": {
        "id": "GW9yieN9RMcG",
        "colab": {
          "base_uri": "https://localhost:8080/"
        },
        "outputId": "4e5f32d6-1e83-4556-a323-b64e6d41091a"
      },
      "execution_count": null,
      "outputs": [
        {
          "output_type": "execute_result",
          "data": {
            "text/plain": [
              "array(['No', 'Yes'], dtype=object)"
            ]
          },
          "metadata": {},
          "execution_count": 27
        }
      ]
    },
    {
      "cell_type": "code",
      "source": [
        "list(df['treatment'].value_counts())"
      ],
      "metadata": {
        "id": "p-CFGKsWRVz5",
        "colab": {
          "base_uri": "https://localhost:8080/"
        },
        "outputId": "da315fda-7198-4e9a-cfe2-5ba77b57dfc3"
      },
      "execution_count": null,
      "outputs": [
        {
          "output_type": "execute_result",
          "data": {
            "text/plain": [
              "[628, 613]"
            ]
          },
          "metadata": {},
          "execution_count": 28
        }
      ]
    },
    {
      "cell_type": "code",
      "source": [
        "df['treatment'].value_counts().index"
      ],
      "metadata": {
        "colab": {
          "base_uri": "https://localhost:8080/"
        },
        "id": "P961zJfCzo6T",
        "outputId": "5a3842f1-5e06-4b53-b30b-7fe24a32face"
      },
      "execution_count": null,
      "outputs": [
        {
          "output_type": "execute_result",
          "data": {
            "text/plain": [
              "Index(['Yes', 'No'], dtype='object')"
            ]
          },
          "metadata": {},
          "execution_count": 29
        }
      ]
    },
    {
      "cell_type": "code",
      "source": [
        "plt.bar(df['treatment'].value_counts().index, list(df['treatment'].value_counts()))\n",
        "\n",
        "plt.xlabel(\"Treatment received\")\n",
        "plt.ylabel(\"No. of employees receiving treatment\")\n",
        "plt.title(\"Employees receiving mental health treatment\")\n",
        "plt.show()"
      ],
      "metadata": {
        "id": "duNH8M8sRXwr",
        "colab": {
          "base_uri": "https://localhost:8080/",
          "height": 472
        },
        "outputId": "e608dd0c-ba42-4458-b1a1-572b0ee7a5ba"
      },
      "execution_count": null,
      "outputs": [
        {
          "output_type": "display_data",
          "data": {
            "text/plain": [
              "<Figure size 640x480 with 1 Axes>"
            ],
            "image/png": "[encoded data removed]"
          },
          "metadata": {}
        }
      ]
    },
    {
      "cell_type": "markdown",
      "source": [
        "##Plotting the distribution of ages in the dataset"
      ],
      "metadata": {
        "id": "wFpIKe6ERdqY"
      }
    },
    {
      "cell_type": "code",
      "source": [
        "plt.boxplot(df['Age'])\n",
        "plt.title(\"Ages of employees\")"
      ],
      "metadata": {
        "id": "1-W6fgxyReDr",
        "colab": {
          "base_uri": "https://localhost:8080/",
          "height": 470
        },
        "outputId": "485c10f9-07b1-4a6c-aa6b-2252508681eb"
      },
      "execution_count": null,
      "outputs": [
        {
          "output_type": "execute_result",
          "data": {
            "text/plain": [
              "Text(0.5, 1.0, 'Ages of employees')"
            ]
          },
          "metadata": {},
          "execution_count": 31
        },
        {
          "output_type": "display_data",
          "data": {
            "text/plain": [
              "<Figure size 640x480 with 1 Axes>"
            ],
            "image/png": "[encoded data removed]"
          },
          "metadata": {}
        }
      ]
    },
    {
      "cell_type": "code",
      "source": [
        "plt.hist(df['Age'])\n",
        "plt.title(\"Ages of employees\")"
      ],
      "metadata": {
        "id": "ISHyMNJ4RhqK",
        "colab": {
          "base_uri": "https://localhost:8080/",
          "height": 470
        },
        "outputId": "f632fe2c-b4c4-43e1-db0f-4662cce70716"
      },
      "execution_count": null,
      "outputs": [
        {
          "output_type": "execute_result",
          "data": {
            "text/plain": [
              "Text(0.5, 1.0, 'Ages of employees')"
            ]
          },
          "metadata": {},
          "execution_count": 32
        },
        {
          "output_type": "display_data",
          "data": {
            "text/plain": [
              "<Figure size 640x480 with 1 Axes>"
            ],
            "image/png": "[encoded data removed]"
          },
          "metadata": {}
        }
      ]
    },
    {
      "cell_type": "markdown",
      "source": [
        "##Plotting the number of people in each gender category"
      ],
      "metadata": {
        "id": "7RMzO1laRkIh"
      }
    },
    {
      "cell_type": "code",
      "source": [
        "plt.bar(df['Gender'].unique(), list(df['Gender'].value_counts()))\n",
        "\n",
        "plt.xlabel(\"Gender\")\n",
        "plt.ylabel(\"No. of employees of certain gender\")\n",
        "plt.title(\"Gender of employees\")\n",
        "plt.show()"
      ],
      "metadata": {
        "id": "uwsLdtj2RmMF",
        "colab": {
          "base_uri": "https://localhost:8080/",
          "height": 472
        },
        "outputId": "4d50a374-7a1c-40cc-beed-d1ae80c0890b"
      },
      "execution_count": null,
      "outputs": [
        {
          "output_type": "display_data",
          "data": {
            "text/plain": [
              "<Figure size 640x480 with 1 Axes>"
            ],
            "image/png": "[encoded data removed]"
          },
          "metadata": {}
        }
      ]
    },
    {
      "cell_type": "code",
      "source": [
        "x = df['treatment'].unique()\n",
        "y1 = np.array(df[df['Gender'] == 'M']['treatment'].value_counts(sort=False))\n",
        "y2 = np.array(df[df['Gender'] == 'F']['treatment'].value_counts(sort=False))\n",
        "y3 = np.array(df[df['Gender'] == 'O']['treatment'].value_counts(sort=False))\n",
        "\n",
        "# plot bars in stack manner\n",
        "plt.bar(x, y1, color='r')\n",
        "plt.bar(x, y2, bottom=y1, color='b')\n",
        "plt.bar(x, y3, bottom=y1+y2, color='y')\n",
        "\n",
        "plt.xlabel(\"Treatment received\")\n",
        "plt.ylabel(\"Number of employees\")\n",
        "plt.legend([\"Male\", \"Female\", \"Other\"])\n",
        "plt.title(\"Treatment received by gender\")\n",
        "plt.show()"
      ],
      "metadata": {
        "id": "PBUYeRR_Rm6G",
        "colab": {
          "base_uri": "https://localhost:8080/",
          "height": 472
        },
        "outputId": "a05d0c84-96fd-4e65-9f70-93e9a70123ef"
      },
      "execution_count": null,
      "outputs": [
        {
          "output_type": "display_data",
          "data": {
            "text/plain": [
              "<Figure size 640x480 with 1 Axes>"
            ],
            "image/png": "[encoded data removed]"
          },
          "metadata": {}
        }
      ]
    },
    {
      "cell_type": "code",
      "source": [
        "df[df['Gender'] == 'M']['treatment'].value_counts(sort = False)"
      ],
      "metadata": {
        "id": "Hn1ze3suRqcN",
        "colab": {
          "base_uri": "https://localhost:8080/"
        },
        "outputId": "184b50b7-47bf-4b8b-846b-57b9ef1834dd"
      },
      "execution_count": null,
      "outputs": [
        {
          "output_type": "execute_result",
          "data": {
            "text/plain": [
              "No     531\n",
              "Yes    442\n",
              "Name: treatment, dtype: int64"
            ]
          },
          "metadata": {},
          "execution_count": 35
        }
      ]
    },
    {
      "cell_type": "code",
      "source": [
        "442/(531+442)"
      ],
      "metadata": {
        "id": "eot5xcUbRso3",
        "colab": {
          "base_uri": "https://localhost:8080/"
        },
        "outputId": "3e4b2985-2dc3-4e9a-b6c5-bfc4f915fc6a"
      },
      "execution_count": null,
      "outputs": [
        {
          "output_type": "execute_result",
          "data": {
            "text/plain": [
              "0.45426515930113054"
            ]
          },
          "metadata": {},
          "execution_count": 36
        }
      ]
    },
    {
      "cell_type": "code",
      "source": [
        "df[df['Gender'] == 'F']['treatment'].value_counts(sort = False)"
      ],
      "metadata": {
        "id": "-6BwF5yNRuLk",
        "colab": {
          "base_uri": "https://localhost:8080/"
        },
        "outputId": "ebea4456-5b46-43c2-8793-2aa5e3253361"
      },
      "execution_count": null,
      "outputs": [
        {
          "output_type": "execute_result",
          "data": {
            "text/plain": [
              "Yes    165\n",
              "No      76\n",
              "Name: treatment, dtype: int64"
            ]
          },
          "metadata": {},
          "execution_count": 37
        }
      ]
    },
    {
      "cell_type": "code",
      "source": [
        "165/(165+76)"
      ],
      "metadata": {
        "id": "dlFdRNg5RwRR",
        "colab": {
          "base_uri": "https://localhost:8080/"
        },
        "outputId": "35caca39-c5f6-4b7a-b8ac-e5f91cbda879"
      },
      "execution_count": null,
      "outputs": [
        {
          "output_type": "execute_result",
          "data": {
            "text/plain": [
              "0.6846473029045643"
            ]
          },
          "metadata": {},
          "execution_count": 38
        }
      ]
    },
    {
      "cell_type": "code",
      "source": [
        "df[df['Gender'] == 'O']['treatment'].value_counts(sort = False)"
      ],
      "metadata": {
        "id": "VnVq7ByuRxxd",
        "colab": {
          "base_uri": "https://localhost:8080/"
        },
        "outputId": "6c80f156-8f73-4003-f7fa-c983206118d2"
      },
      "execution_count": null,
      "outputs": [
        {
          "output_type": "execute_result",
          "data": {
            "text/plain": [
              "Yes    21\n",
              "No      6\n",
              "Name: treatment, dtype: int64"
            ]
          },
          "metadata": {},
          "execution_count": 39
        }
      ]
    },
    {
      "cell_type": "code",
      "source": [
        "21/(21+6)"
      ],
      "metadata": {
        "id": "7BWivKpxR0IQ",
        "colab": {
          "base_uri": "https://localhost:8080/"
        },
        "outputId": "9537d505-2e19-4a36-cae6-a934ec769146"
      },
      "execution_count": null,
      "outputs": [
        {
          "output_type": "execute_result",
          "data": {
            "text/plain": [
              "0.7777777777777778"
            ]
          },
          "metadata": {},
          "execution_count": 40
        }
      ]
    },
    {
      "cell_type": "code",
      "source": [
        "x = df['Gender'].unique()\n",
        "y1 = np.array(df[df['treatment'] == 'No']['Gender'].value_counts(sort=False))\n",
        "y2 = np.array(df[df['treatment'] == 'Yes']['Gender'].value_counts(sort=False))\n",
        "\n",
        "plt.bar(x, y1, color='r')\n",
        "plt.bar(x, y2, bottom=y1, color='b')\n",
        "\n",
        "plt.xlabel(\"Gender\")\n",
        "plt.ylabel(\"Number of employees\")\n",
        "plt.legend([\"No\", \"Yes\"])\n",
        "plt.title(\"Treatment received by gender\")\n",
        "plt.show()"
      ],
      "metadata": {
        "id": "79UBFixwR2C-",
        "colab": {
          "base_uri": "https://localhost:8080/",
          "height": 472
        },
        "outputId": "3c282cea-9042-4791-d072-d94e57b9b6c4"
      },
      "execution_count": null,
      "outputs": [
        {
          "output_type": "display_data",
          "data": {
            "text/plain": [
              "<Figure size 640x480 with 1 Axes>"
            ],
            "image/png": "[encoded data removed]"
          },
          "metadata": {}
        }
      ]
    },
    {
      "cell_type": "markdown",
      "source": [
        "##Plotting the number of people working in each of the 'number of employees' categories"
      ],
      "metadata": {
        "id": "kaWu2ibsR68N"
      }
    },
    {
      "cell_type": "code",
      "source": [
        "df['no_employees']"
      ],
      "metadata": {
        "colab": {
          "base_uri": "https://localhost:8080/"
        },
        "id": "yeL1Dv84w6TJ",
        "outputId": "d9847f11-a78d-4b77-8e03-176aa0d973b8"
      },
      "execution_count": null,
      "outputs": [
        {
          "output_type": "execute_result",
          "data": {
            "text/plain": [
              "0                  1-5\n",
              "1                 6-25\n",
              "2              100-500\n",
              "3                  1-5\n",
              "4               26-100\n",
              "             ...      \n",
              "1236            26-100\n",
              "1237            26-100\n",
              "1238    More than 1000\n",
              "1239           100-500\n",
              "1240            26-100\n",
              "Name: no_employees, Length: 1241, dtype: object"
            ]
          },
          "metadata": {},
          "execution_count": 42
        }
      ]
    },
    {
      "cell_type": "code",
      "source": [
        "x = df['no_employees'].unique()\n",
        "y = df['no_employees'].value_counts()\n",
        "plt.figure(figsize=(8,6))\n",
        "plt.bar(x,y)\n",
        "plt.title(\"Number of employees\")"
      ],
      "metadata": {
        "id": "oUibzC3RR7Qo",
        "colab": {
          "base_uri": "https://localhost:8080/",
          "height": 563
        },
        "outputId": "e6c91933-952f-472e-a3e8-3d0e28aee2d0"
      },
      "execution_count": null,
      "outputs": [
        {
          "output_type": "execute_result",
          "data": {
            "text/plain": [
              "Text(0.5, 1.0, 'Number of employees')"
            ]
          },
          "metadata": {},
          "execution_count": 43
        },
        {
          "output_type": "display_data",
          "data": {
            "text/plain": [
              "<Figure size 800x600 with 1 Axes>"
            ],
            "image/png": "[encoded data removed]"
          },
          "metadata": {}
        }
      ]
    },
    {
      "cell_type": "markdown",
      "source": [
        "##Plotting the relationship between age and treatment"
      ],
      "metadata": {
        "id": "d56Aus8IR_eB"
      }
    },
    {
      "cell_type": "code",
      "source": [
        "df['Age'].unique().shape"
      ],
      "metadata": {
        "id": "FViGwHtiR9Qh",
        "colab": {
          "base_uri": "https://localhost:8080/"
        },
        "outputId": "51016065-d8da-49a0-80d9-fca583570bfd"
      },
      "execution_count": null,
      "outputs": [
        {
          "output_type": "execute_result",
          "data": {
            "text/plain": [
              "(45,)"
            ]
          },
          "metadata": {},
          "execution_count": 44
        }
      ]
    },
    {
      "cell_type": "code",
      "source": [
        "np.array(df[df['treatment'] == 'Yes']['Age'].value_counts(sort=False)).shape"
      ],
      "metadata": {
        "id": "1N_VeMgpSByn",
        "colab": {
          "base_uri": "https://localhost:8080/"
        },
        "outputId": "5b6f84c5-ec30-426d-e782-77de0f9e3f37"
      },
      "execution_count": null,
      "outputs": [
        {
          "output_type": "execute_result",
          "data": {
            "text/plain": [
              "(43,)"
            ]
          },
          "metadata": {},
          "execution_count": 45
        }
      ]
    },
    {
      "cell_type": "code",
      "source": [
        "#x = df['Age'].unique()\n",
        "y1 = np.array(df[df['treatment'] == 'No']['Age']) #.value_counts(sort=False))\n",
        "y2 = np.array(df[df['treatment'] == 'Yes']['Age']) #.value_counts(sort=False))\n",
        "\n",
        "plt.hist(y1, alpha = 0.75)\n",
        "plt.hist(y2, alpha = 0.75)\n",
        "\n",
        "plt.xlabel(\"Age\")\n",
        "plt.ylabel(\"Number of employees\")\n",
        "plt.legend([\"No treatment\", \"Received treatment\"])\n",
        "plt.title(\"Distribution of ages\")\n",
        "plt.show()"
      ],
      "metadata": {
        "id": "NUpxrcFgSDRH",
        "colab": {
          "base_uri": "https://localhost:8080/",
          "height": 472
        },
        "outputId": "e5951cb2-5d77-40c0-9cdb-b7ee9dff56c5"
      },
      "execution_count": null,
      "outputs": [
        {
          "output_type": "display_data",
          "data": {
            "text/plain": [
              "<Figure size 640x480 with 1 Axes>"
            ],
            "image/png": "[encoded data removed]"
          },
          "metadata": {}
        }
      ]
    },
    {
      "cell_type": "markdown",
      "source": [
        "##Plotting the relationship between remote work and treatment"
      ],
      "metadata": {
        "id": "9Gy09PIASIEU"
      }
    },
    {
      "cell_type": "code",
      "source": [
        "x = df['remote_work'].unique()\n",
        "y1 = np.array(df[df['treatment'] == 'No']['remote_work'].value_counts(sort=False))\n",
        "y2 = np.array(df[df['treatment'] == 'Yes']['remote_work'].value_counts(sort=False))\n",
        "\n",
        "plt.bar(x, y1, color='r')\n",
        "plt.bar(x, y2, bottom=y1, color='b')\n",
        "\n",
        "plt.xlabel(\"Remote work\")\n",
        "plt.ylabel(\"Number of employees\")\n",
        "plt.legend([\"No\", \"Yes\"])\n",
        "plt.title(\"Treatment received by employees working remotely\")\n",
        "plt.show()"
      ],
      "metadata": {
        "id": "FnAtGHIiSIZ2",
        "colab": {
          "base_uri": "https://localhost:8080/",
          "height": 472
        },
        "outputId": "be878bed-2e5d-4dde-e43a-9940602b7917"
      },
      "execution_count": null,
      "outputs": [
        {
          "output_type": "display_data",
          "data": {
            "text/plain": [
              "<Figure size 640x480 with 1 Axes>"
            ],
            "image/png": "[encoded data removed]"
          },
          "metadata": {}
        }
      ]
    },
    {
      "cell_type": "markdown",
      "source": [
        "#Logistic Regression Model"
      ],
      "metadata": {
        "id": "VLXKTKPuSPs3"
      }
    },
    {
      "cell_type": "code",
      "source": [
        "import warnings\n",
        "warnings.filterwarnings('ignore')"
      ],
      "metadata": {
        "id": "YQEBakaoSYpc"
      },
      "execution_count": null,
      "outputs": []
    },
    {
      "cell_type": "markdown",
      "source": [
        "##Performing one-hot-encoding and integer encoding on X, and converting our target column to zeros and ones"
      ],
      "metadata": {
        "id": "kcpVyx6SlZm6"
      }
    },
    {
      "cell_type": "code",
      "source": [
        "for col in df:\n",
        "  print(col,df[col].unique())"
      ],
      "metadata": {
        "id": "2iGM45TXSgOO",
        "colab": {
          "base_uri": "https://localhost:8080/"
        },
        "outputId": "cb3b77e3-52d2-49c0-8195-1b3411ec4b52"
      },
      "execution_count": null,
      "outputs": [
        {
          "output_type": "stream",
          "name": "stdout",
          "text": [
            "Age [46 36 29 31 41 33 35 34 37 32 30 42 40 27 38 50 24 18 28 26 22 44 23 19\n",
            " 25 39 45 21 43 56 60 54 70 55 48 20 57 58 47 62 51 65 49 53 61]\n",
            "Gender ['M' 'F' 'O']\n",
            "Country ['United States' 'France' 'United Kingdom' 'Canada' 'Portugal'\n",
            " 'Netherlands' 'Switzerland' 'Poland' 'Australia' 'Germany' 'Russia'\n",
            " 'Mexico' 'Brazil' 'Slovenia' 'Costa Rica' 'Austria' 'Ireland' 'India'\n",
            " 'South Africa' 'Italy' 'Bulgaria' 'Sweden' 'Colombia' 'Latvia' 'Romania'\n",
            " 'Belgium' 'New Zealand' 'Zimbabwe' 'Spain' 'Finland' 'Uruguay' 'Israel'\n",
            " 'Bosnia and Herzegovina' 'Hungary' 'Singapore' 'Japan' 'Nigeria'\n",
            " 'Croatia' 'Norway' 'Thailand' 'Denmark' 'Bahamas, The' 'Greece' 'Moldova'\n",
            " 'Georgia' 'China' 'Czech Republic' 'Philippines']\n",
            "self_employed ['Yes' 'No']\n",
            "family_history ['Yes' 'No']\n",
            "treatment ['No' 'Yes']\n",
            "no_employees ['1-5' '6-25' '100-500' '26-100' 'More than 1000' '500-1000']\n",
            "remote_work ['Yes' 'No']\n",
            "tech_company ['Yes' 'No']\n",
            "benefits ['Yes' 'No' \"Don't know\"]\n",
            "care_options ['Not sure' 'No' 'Yes']\n",
            "wellness_program ['Yes' 'No' \"Don't know\"]\n",
            "seek_help [\"Don't know\" 'No' 'Yes']\n",
            "anonymity ['Yes' 'No' \"Don't know\"]\n",
            "leave ['Very easy' 'Somewhat easy' 'Somewhat difficult' \"Don't know\"\n",
            " 'Very difficult']\n",
            "mental_health_consequence ['No' 'Maybe' 'Yes']\n",
            "phys_health_consequence ['No' 'Maybe' 'Yes']\n",
            "coworkers ['Yes' 'Some of them' 'No']\n",
            "supervisor ['Yes' 'Some of them' 'No']\n",
            "mental_health_interview ['No' 'Maybe' 'Yes']\n",
            "phys_health_interview ['Yes' 'Maybe' 'No']\n",
            "mental_vs_physical ['Yes' \"Don't know\" 'No']\n",
            "obs_consequence ['Yes' 'No']\n"
          ]
        }
      ]
    },
    {
      "cell_type": "code",
      "source": [
        "df['Country'].value_counts()"
      ],
      "metadata": {
        "colab": {
          "base_uri": "https://localhost:8080/"
        },
        "id": "jkGgu_Cklax9",
        "outputId": "1821d7b1-0bc8-4b2c-b3a0-ca32c84ddb50"
      },
      "execution_count": null,
      "outputs": [
        {
          "output_type": "execute_result",
          "data": {
            "text/plain": [
              "United States             740\n",
              "United Kingdom            183\n",
              "Canada                     68\n",
              "Germany                    45\n",
              "Ireland                    27\n",
              "Netherlands                27\n",
              "Australia                  21\n",
              "France                     13\n",
              "India                      10\n",
              "New Zealand                 8\n",
              "Switzerland                 7\n",
              "Poland                      7\n",
              "Sweden                      7\n",
              "Italy                       7\n",
              "Belgium                     6\n",
              "South Africa                6\n",
              "Brazil                      6\n",
              "Israel                      5\n",
              "Singapore                   4\n",
              "Austria                     3\n",
              "Bulgaria                    3\n",
              "Finland                     3\n",
              "Mexico                      3\n",
              "Russia                      3\n",
              "Greece                      2\n",
              "Denmark                     2\n",
              "Portugal                    2\n",
              "Colombia                    2\n",
              "Croatia                     2\n",
              "Moldova                     1\n",
              "China                       1\n",
              "Georgia                     1\n",
              "Bahamas, The                1\n",
              "Czech Republic              1\n",
              "Thailand                    1\n",
              "Norway                      1\n",
              "Romania                     1\n",
              "Nigeria                     1\n",
              "Japan                       1\n",
              "Hungary                     1\n",
              "Bosnia and Herzegovina      1\n",
              "Uruguay                     1\n",
              "Spain                       1\n",
              "Zimbabwe                    1\n",
              "Latvia                      1\n",
              "Costa Rica                  1\n",
              "Slovenia                    1\n",
              "Philippines                 1\n",
              "Name: Country, dtype: int64"
            ]
          },
          "metadata": {},
          "execution_count": 50
        }
      ]
    },
    {
      "cell_type": "code",
      "source": [
        "countries = [\"United States\",\"United Kingdom\",\"Canada\",\"Germany\",\"Ireland\",\"Netherlands\",\"Australia\",\"France\",\"India\"]\n",
        "for i in range(len(df)):\n",
        "  if (df.iloc[i, 2] not in countries):\n",
        "    df.iloc[i, 2] = 'Other'\n",
        "df['Country'].unique()"
      ],
      "metadata": {
        "colab": {
          "base_uri": "https://localhost:8080/"
        },
        "id": "wGfYz14cld7k",
        "outputId": "7eb7883a-14d3-4663-8a35-683617d96c61"
      },
      "execution_count": null,
      "outputs": [
        {
          "output_type": "execute_result",
          "data": {
            "text/plain": [
              "array(['United States', 'France', 'United Kingdom', 'Canada', 'Other',\n",
              "       'Netherlands', 'Australia', 'Germany', 'Ireland', 'India'],\n",
              "      dtype=object)"
            ]
          },
          "metadata": {},
          "execution_count": 51
        }
      ]
    },
    {
      "cell_type": "code",
      "source": [
        "# dataframe of just categorical features\n",
        "df_categorical = df[['Gender','Country']]\n",
        "\n",
        "# one-hot encoding categorical features\n",
        "dummies = pd.get_dummies(df_categorical)\n",
        "dummies.head()\n",
        "# dropping the original columns from the dataframe\n",
        "df = df.drop(['Gender','Country'], axis = 1)\n",
        "\n",
        "# appending dummies (one-hot encoded categories) to dataframe\n",
        "df = pd.concat([df, dummies], axis=1)\n",
        "\n",
        "df.head()"
      ],
      "metadata": {
        "colab": {
          "base_uri": "https://localhost:8080/",
          "height": 317
        },
        "id": "NR5FH4Iflh6S",
        "outputId": "82dd9efa-7cf4-41ec-ee68-398ddc0083a8"
      },
      "execution_count": null,
      "outputs": [
        {
          "output_type": "execute_result",
          "data": {
            "text/plain": [
              "   Age self_employed family_history treatment no_employees remote_work  \\\n",
              "0   46           Yes            Yes        No          1-5         Yes   \n",
              "1   36           Yes            Yes        No         6-25         Yes   \n",
              "2   29            No            Yes       Yes      100-500          No   \n",
              "3   31           Yes             No        No          1-5         Yes   \n",
              "4   46            No             No       Yes       26-100         Yes   \n",
              "\n",
              "  tech_company benefits care_options wellness_program  ... Country_Australia  \\\n",
              "0          Yes      Yes     Not sure              Yes  ...                 0   \n",
              "1          Yes       No           No              Yes  ...                 0   \n",
              "2          Yes      Yes          Yes               No  ...                 0   \n",
              "3          Yes       No           No               No  ...                 0   \n",
              "4          Yes      Yes          Yes               No  ...                 0   \n",
              "\n",
              "  Country_Canada Country_France Country_Germany Country_India Country_Ireland  \\\n",
              "0              0              0               0             0               0   \n",
              "1              0              1               0             0               0   \n",
              "2              0              0               0             0               0   \n",
              "3              0              0               0             0               0   \n",
              "4              0              0               0             0               0   \n",
              "\n",
              "  Country_Netherlands Country_Other Country_United Kingdom  \\\n",
              "0                   0             0                      0   \n",
              "1                   0             0                      0   \n",
              "2                   0             0                      0   \n",
              "3                   0             0                      0   \n",
              "4                   0             0                      0   \n",
              "\n",
              "  Country_United States  \n",
              "0                     1  \n",
              "1                     0  \n",
              "2                     1  \n",
              "3                     1  \n",
              "4                     1  \n",
              "\n",
              "[5 rows x 34 columns]"
            ],
            "text/html": [
              "\n",
              "  <div id=\"df-6d62fa70-d5ec-4662-abcb-05e17961c3f5\">\n",
              "    <div class=\"colab-df-container\">\n",
              "      <div>\n",
              "<style scoped>\n",
              "    .dataframe tbody tr th:only-of-type {\n",
              "        vertical-align: middle;\n",
              "    }\n",
              "\n",
              "    .dataframe tbody tr th {\n",
              "        vertical-align: top;\n",
              "    }\n",
              "\n",
              "    .dataframe thead th {\n",
              "        text-align: right;\n",
              "    }\n",
              "</style>\n",
              "<table border=\"1\" class=\"dataframe\">\n",
              "  <thead>\n",
              "    <tr style=\"text-align: right;\">\n",
              "      <th></th>\n",
              "      <th>Age</th>\n",
              "      <th>self_employed</th>\n",
              "      <th>family_history</th>\n",
              "      <th>treatment</th>\n",
              "      <th>no_employees</th>\n",
              "      <th>remote_work</th>\n",
              "      <th>tech_company</th>\n",
              "      <th>benefits</th>\n",
              "      <th>care_options</th>\n",
              "      <th>wellness_program</th>\n",
              "      <th>...</th>\n",
              "      <th>Country_Australia</th>\n",
              "      <th>Country_Canada</th>\n",
              "      <th>Country_France</th>\n",
              "      <th>Country_Germany</th>\n",
              "      <th>Country_India</th>\n",
              "      <th>Country_Ireland</th>\n",
              "      <th>Country_Netherlands</th>\n",
              "      <th>Country_Other</th>\n",
              "      <th>Country_United Kingdom</th>\n",
              "      <th>Country_United States</th>\n",
              "    </tr>\n",
              "  </thead>\n",
              "  <tbody>\n",
              "    <tr>\n",
              "      <th>0</th>\n",
              "      <td>46</td>\n",
              "      <td>Yes</td>\n",
              "      <td>Yes</td>\n",
              "      <td>No</td>\n",
              "      <td>1-5</td>\n",
              "      <td>Yes</td>\n",
              "      <td>Yes</td>\n",
              "      <td>Yes</td>\n",
              "      <td>Not sure</td>\n",
              "      <td>Yes</td>\n",
              "      <td>...</td>\n",
              "      <td>0</td>\n",
              "      <td>0</td>\n",
              "      <td>0</td>\n",
              "      <td>0</td>\n",
              "      <td>0</td>\n",
              "      <td>0</td>\n",
              "      <td>0</td>\n",
              "      <td>0</td>\n",
              "      <td>0</td>\n",
              "      <td>1</td>\n",
              "    </tr>\n",
              "    <tr>\n",
              "      <th>1</th>\n",
              "      <td>36</td>\n",
              "      <td>Yes</td>\n",
              "      <td>Yes</td>\n",
              "      <td>No</td>\n",
              "      <td>6-25</td>\n",
              "      <td>Yes</td>\n",
              "      <td>Yes</td>\n",
              "      <td>No</td>\n",
              "      <td>No</td>\n",
              "      <td>Yes</td>\n",
              "      <td>...</td>\n",
              "      <td>0</td>\n",
              "      <td>0</td>\n",
              "      <td>1</td>\n",
              "      <td>0</td>\n",
              "      <td>0</td>\n",
              "      <td>0</td>\n",
              "      <td>0</td>\n",
              "      <td>0</td>\n",
              "      <td>0</td>\n",
              "      <td>0</td>\n",
              "    </tr>\n",
              "    <tr>\n",
              "      <th>2</th>\n",
              "      <td>29</td>\n",
              "      <td>No</td>\n",
              "      <td>Yes</td>\n",
              "      <td>Yes</td>\n",
              "      <td>100-500</td>\n",
              "      <td>No</td>\n",
              "      <td>Yes</td>\n",
              "      <td>Yes</td>\n",
              "      <td>Yes</td>\n",
              "      <td>No</td>\n",
              "      <td>...</td>\n",
              "      <td>0</td>\n",
              "      <td>0</td>\n",
              "      <td>0</td>\n",
              "      <td>0</td>\n",
              "      <td>0</td>\n",
              "      <td>0</td>\n",
              "      <td>0</td>\n",
              "      <td>0</td>\n",
              "      <td>0</td>\n",
              "      <td>1</td>\n",
              "    </tr>\n",
              "    <tr>\n",
              "      <th>3</th>\n",
              "      <td>31</td>\n",
              "      <td>Yes</td>\n",
              "      <td>No</td>\n",
              "      <td>No</td>\n",
              "      <td>1-5</td>\n",
              "      <td>Yes</td>\n",
              "      <td>Yes</td>\n",
              "      <td>No</td>\n",
              "      <td>No</td>\n",
              "      <td>No</td>\n",
              "      <td>...</td>\n",
              "      <td>0</td>\n",
              "      <td>0</td>\n",
              "      <td>0</td>\n",
              "      <td>0</td>\n",
              "      <td>0</td>\n",
              "      <td>0</td>\n",
              "      <td>0</td>\n",
              "      <td>0</td>\n",
              "      <td>0</td>\n",
              "      <td>1</td>\n",
              "    </tr>\n",
              "    <tr>\n",
              "      <th>4</th>\n",
              "      <td>46</td>\n",
              "      <td>No</td>\n",
              "      <td>No</td>\n",
              "      <td>Yes</td>\n",
              "      <td>26-100</td>\n",
              "      <td>Yes</td>\n",
              "      <td>Yes</td>\n",
              "      <td>Yes</td>\n",
              "      <td>Yes</td>\n",
              "      <td>No</td>\n",
              "      <td>...</td>\n",
              "      <td>0</td>\n",
              "      <td>0</td>\n",
              "      <td>0</td>\n",
              "      <td>0</td>\n",
              "      <td>0</td>\n",
              "      <td>0</td>\n",
              "      <td>0</td>\n",
              "      <td>0</td>\n",
              "      <td>0</td>\n",
              "      <td>1</td>\n",
              "    </tr>\n",
              "  </tbody>\n",
              "</table>\n",
              "<p>5 rows × 34 columns</p>\n",
              "</div>\n",
              "      <button class=\"colab-df-convert\" onclick=\"convertToInteractive('df-6d62fa70-d5ec-4662-abcb-05e17961c3f5')\"\n",
              "              title=\"Convert this dataframe to an interactive table.\"\n",
              "              style=\"display:none;\">\n",
              "        \n",
              "  <svg xmlns=\"http://www.w3.org/2000/svg\" height=\"24px\"viewBox=\"0 0 24 24\"\n",
              "       width=\"24px\">\n",
              "    <path d=\"M0 0h24v24H0V0z\" fill=\"none\"/>\n",
              "    <path d=\"M18.56 5.44l.94 2.06.94-2.06 2.06-.94-2.06-.94-.94-2.06-.94 2.06-2.06.94zm-11 1L8.5 8.5l.94-2.06 2.06-.94-2.06-.94L8.5 2.5l-.94 2.06-2.06.94zm10 10l.94 2.06.94-2.06 2.06-.94-2.06-.94-.94-2.06-.94 2.06-2.06.94z\"/><path d=\"M17.41 7.96l-1.37-1.37c-.4-.4-.92-.59-1.43-.59-.52 0-1.04.2-1.43.59L10.3 9.45l-7.72 7.72c-.78.78-.78 2.05 0 2.83L4 21.41c.39.39.9.59 1.41.59.51 0 1.02-.2 1.41-.59l7.78-7.78 2.81-2.81c.8-.78.8-2.07 0-2.86zM5.41 20L4 18.59l7.72-7.72 1.47 1.35L5.41 20z\"/>\n",
              "  </svg>\n",
              "      </button>\n",
              "      \n",
              "  <style>\n",
              "    .colab-df-container {\n",
              "      display:flex;\n",
              "      flex-wrap:wrap;\n",
              "      gap: 12px;\n",
              "    }\n",
              "\n",
              "    .colab-df-convert {\n",
              "      background-color: #E8F0FE;\n",
              "      border: none;\n",
              "      border-radius: 50%;\n",
              "      cursor: pointer;\n",
              "      display: none;\n",
              "      fill: #1967D2;\n",
              "      height: 32px;\n",
              "      padding: 0 0 0 0;\n",
              "      width: 32px;\n",
              "    }\n",
              "\n",
              "    .colab-df-convert:hover {\n",
              "      background-color: #E2EBFA;\n",
              "      box-shadow: 0px 1px 2px rgba(60, 64, 67, 0.3), 0px 1px 3px 1px rgba(60, 64, 67, 0.15);\n",
              "      fill: #174EA6;\n",
              "    }\n",
              "\n",
              "    [theme=dark] .colab-df-convert {\n",
              "      background-color: #3B4455;\n",
              "      fill: #D2E3FC;\n",
              "    }\n",
              "\n",
              "    [theme=dark] .colab-df-convert:hover {\n",
              "      background-color: #434B5C;\n",
              "      box-shadow: 0px 1px 3px 1px rgba(0, 0, 0, 0.15);\n",
              "      filter: drop-shadow(0px 1px 2px rgba(0, 0, 0, 0.3));\n",
              "      fill: #FFFFFF;\n",
              "    }\n",
              "  </style>\n",
              "\n",
              "      <script>\n",
              "        const buttonEl =\n",
              "          document.querySelector('#df-6d62fa70-d5ec-4662-abcb-05e17961c3f5 button.colab-df-convert');\n",
              "        buttonEl.style.display =\n",
              "          google.colab.kernel.accessAllowed ? 'block' : 'none';\n",
              "\n",
              "        async function convertToInteractive(key) {\n",
              "          const element = document.querySelector('#df-6d62fa70-d5ec-4662-abcb-05e17961c3f5');\n",
              "          const dataTable =\n",
              "            await google.colab.kernel.invokeFunction('convertToInteractive',\n",
              "                                                     [key], {});\n",
              "          if (!dataTable) return;\n",
              "\n",
              "          const docLinkHtml = 'Like what you see? Visit the ' +\n",
              "            '<a target=\"_blank\" href=https://colab.research.google.com/notebooks/data_table.ipynb>data table notebook</a>'\n",
              "            + ' to learn more about interactive tables.';\n",
              "          element.innerHTML = '';\n",
              "          dataTable['output_type'] = 'display_data';\n",
              "          await google.colab.output.renderOutput(dataTable, element);\n",
              "          const docLink = document.createElement('div');\n",
              "          docLink.innerHTML = docLinkHtml;\n",
              "          element.appendChild(docLink);\n",
              "        }\n",
              "      </script>\n",
              "    </div>\n",
              "  </div>\n",
              "  "
            ]
          },
          "metadata": {},
          "execution_count": 52
        }
      ]
    },
    {
      "cell_type": "code",
      "source": [
        "from sklearn.preprocessing import LabelEncoder\n",
        "df = df.apply(LabelEncoder().fit_transform)"
      ],
      "metadata": {
        "id": "OltVcCIYll72"
      },
      "execution_count": null,
      "outputs": []
    },
    {
      "cell_type": "code",
      "source": [
        "for col in df:\n",
        "  print(col,df[col].unique())"
      ],
      "metadata": {
        "colab": {
          "base_uri": "https://localhost:8080/"
        },
        "id": "oCYBxv2xlp8U",
        "outputId": "99ed7f88-9b83-4001-a635-defa93fe0556"
      },
      "execution_count": null,
      "outputs": [
        {
          "output_type": "stream",
          "name": "stdout",
          "text": [
            "Age [28 18 11 13 23 15 17 16 19 14 12 24 22  9 20 32  6  0 10  8  4 26  5  1\n",
            "  7 21 27  3 25 37 40 35 44 36 30  2 38 39 29 42 33 43 31 34 41]\n",
            "self_employed [1 0]\n",
            "family_history [1 0]\n",
            "treatment [0 1]\n",
            "no_employees [0 4 1 2 5 3]\n",
            "remote_work [1 0]\n",
            "tech_company [1 0]\n",
            "benefits [2 1 0]\n",
            "care_options [1 0 2]\n",
            "wellness_program [2 1 0]\n",
            "seek_help [0 1 2]\n",
            "anonymity [2 1 0]\n",
            "leave [4 2 1 0 3]\n",
            "mental_health_consequence [1 0 2]\n",
            "phys_health_consequence [1 0 2]\n",
            "coworkers [2 1 0]\n",
            "supervisor [2 1 0]\n",
            "mental_health_interview [1 0 2]\n",
            "phys_health_interview [2 0 1]\n",
            "mental_vs_physical [2 0 1]\n",
            "obs_consequence [1 0]\n",
            "Gender_F [0 1]\n",
            "Gender_M [1 0]\n",
            "Gender_O [0 1]\n",
            "Country_Australia [0 1]\n",
            "Country_Canada [0 1]\n",
            "Country_France [0 1]\n",
            "Country_Germany [0 1]\n",
            "Country_India [0 1]\n",
            "Country_Ireland [0 1]\n",
            "Country_Netherlands [0 1]\n",
            "Country_Other [0 1]\n",
            "Country_United Kingdom [0 1]\n",
            "Country_United States [1 0]\n"
          ]
        }
      ]
    },
    {
      "cell_type": "code",
      "source": [
        "df.head()"
      ],
      "metadata": {
        "colab": {
          "base_uri": "https://localhost:8080/",
          "height": 317
        },
        "id": "Lgs_iuPFltvV",
        "outputId": "564bac8f-5254-475b-9d32-06fa8d85bc63"
      },
      "execution_count": null,
      "outputs": [
        {
          "output_type": "execute_result",
          "data": {
            "text/plain": [
              "   Age  self_employed  family_history  treatment  no_employees  remote_work  \\\n",
              "0   28              1               1          0             0            1   \n",
              "1   18              1               1          0             4            1   \n",
              "2   11              0               1          1             1            0   \n",
              "3   13              1               0          0             0            1   \n",
              "4   28              0               0          1             2            1   \n",
              "\n",
              "   tech_company  benefits  care_options  wellness_program  ...  \\\n",
              "0             1         2             1                 2  ...   \n",
              "1             1         1             0                 2  ...   \n",
              "2             1         2             2                 1  ...   \n",
              "3             1         1             0                 1  ...   \n",
              "4             1         2             2                 1  ...   \n",
              "\n",
              "   Country_Australia  Country_Canada  Country_France  Country_Germany  \\\n",
              "0                  0               0               0                0   \n",
              "1                  0               0               1                0   \n",
              "2                  0               0               0                0   \n",
              "3                  0               0               0                0   \n",
              "4                  0               0               0                0   \n",
              "\n",
              "   Country_India  Country_Ireland  Country_Netherlands  Country_Other  \\\n",
              "0              0                0                    0              0   \n",
              "1              0                0                    0              0   \n",
              "2              0                0                    0              0   \n",
              "3              0                0                    0              0   \n",
              "4              0                0                    0              0   \n",
              "\n",
              "   Country_United Kingdom  Country_United States  \n",
              "0                       0                      1  \n",
              "1                       0                      0  \n",
              "2                       0                      1  \n",
              "3                       0                      1  \n",
              "4                       0                      1  \n",
              "\n",
              "[5 rows x 34 columns]"
            ],
            "text/html": [
              "\n",
              "  <div id=\"df-1d874bb2-b230-4956-8b88-cc170c74216c\">\n",
              "    <div class=\"colab-df-container\">\n",
              "      <div>\n",
              "<style scoped>\n",
              "    .dataframe tbody tr th:only-of-type {\n",
              "        vertical-align: middle;\n",
              "    }\n",
              "\n",
              "    .dataframe tbody tr th {\n",
              "        vertical-align: top;\n",
              "    }\n",
              "\n",
              "    .dataframe thead th {\n",
              "        text-align: right;\n",
              "    }\n",
              "</style>\n",
              "<table border=\"1\" class=\"dataframe\">\n",
              "  <thead>\n",
              "    <tr style=\"text-align: right;\">\n",
              "      <th></th>\n",
              "      <th>Age</th>\n",
              "      <th>self_employed</th>\n",
              "      <th>family_history</th>\n",
              "      <th>treatment</th>\n",
              "      <th>no_employees</th>\n",
              "      <th>remote_work</th>\n",
              "      <th>tech_company</th>\n",
              "      <th>benefits</th>\n",
              "      <th>care_options</th>\n",
              "      <th>wellness_program</th>\n",
              "      <th>...</th>\n",
              "      <th>Country_Australia</th>\n",
              "      <th>Country_Canada</th>\n",
              "      <th>Country_France</th>\n",
              "      <th>Country_Germany</th>\n",
              "      <th>Country_India</th>\n",
              "      <th>Country_Ireland</th>\n",
              "      <th>Country_Netherlands</th>\n",
              "      <th>Country_Other</th>\n",
              "      <th>Country_United Kingdom</th>\n",
              "      <th>Country_United States</th>\n",
              "    </tr>\n",
              "  </thead>\n",
              "  <tbody>\n",
              "    <tr>\n",
              "      <th>0</th>\n",
              "      <td>28</td>\n",
              "      <td>1</td>\n",
              "      <td>1</td>\n",
              "      <td>0</td>\n",
              "      <td>0</td>\n",
              "      <td>1</td>\n",
              "      <td>1</td>\n",
              "      <td>2</td>\n",
              "      <td>1</td>\n",
              "      <td>2</td>\n",
              "      <td>...</td>\n",
              "      <td>0</td>\n",
              "      <td>0</td>\n",
              "      <td>0</td>\n",
              "      <td>0</td>\n",
              "      <td>0</td>\n",
              "      <td>0</td>\n",
              "      <td>0</td>\n",
              "      <td>0</td>\n",
              "      <td>0</td>\n",
              "      <td>1</td>\n",
              "    </tr>\n",
              "    <tr>\n",
              "      <th>1</th>\n",
              "      <td>18</td>\n",
              "      <td>1</td>\n",
              "      <td>1</td>\n",
              "      <td>0</td>\n",
              "      <td>4</td>\n",
              "      <td>1</td>\n",
              "      <td>1</td>\n",
              "      <td>1</td>\n",
              "      <td>0</td>\n",
              "      <td>2</td>\n",
              "      <td>...</td>\n",
              "      <td>0</td>\n",
              "      <td>0</td>\n",
              "      <td>1</td>\n",
              "      <td>0</td>\n",
              "      <td>0</td>\n",
              "      <td>0</td>\n",
              "      <td>0</td>\n",
              "      <td>0</td>\n",
              "      <td>0</td>\n",
              "      <td>0</td>\n",
              "    </tr>\n",
              "    <tr>\n",
              "      <th>2</th>\n",
              "      <td>11</td>\n",
              "      <td>0</td>\n",
              "      <td>1</td>\n",
              "      <td>1</td>\n",
              "      <td>1</td>\n",
              "      <td>0</td>\n",
              "      <td>1</td>\n",
              "      <td>2</td>\n",
              "      <td>2</td>\n",
              "      <td>1</td>\n",
              "      <td>...</td>\n",
              "      <td>0</td>\n",
              "      <td>0</td>\n",
              "      <td>0</td>\n",
              "      <td>0</td>\n",
              "      <td>0</td>\n",
              "      <td>0</td>\n",
              "      <td>0</td>\n",
              "      <td>0</td>\n",
              "      <td>0</td>\n",
              "      <td>1</td>\n",
              "    </tr>\n",
              "    <tr>\n",
              "      <th>3</th>\n",
              "      <td>13</td>\n",
              "      <td>1</td>\n",
              "      <td>0</td>\n",
              "      <td>0</td>\n",
              "      <td>0</td>\n",
              "      <td>1</td>\n",
              "      <td>1</td>\n",
              "      <td>1</td>\n",
              "      <td>0</td>\n",
              "      <td>1</td>\n",
              "      <td>...</td>\n",
              "      <td>0</td>\n",
              "      <td>0</td>\n",
              "      <td>0</td>\n",
              "      <td>0</td>\n",
              "      <td>0</td>\n",
              "      <td>0</td>\n",
              "      <td>0</td>\n",
              "      <td>0</td>\n",
              "      <td>0</td>\n",
              "      <td>1</td>\n",
              "    </tr>\n",
              "    <tr>\n",
              "      <th>4</th>\n",
              "      <td>28</td>\n",
              "      <td>0</td>\n",
              "      <td>0</td>\n",
              "      <td>1</td>\n",
              "      <td>2</td>\n",
              "      <td>1</td>\n",
              "      <td>1</td>\n",
              "      <td>2</td>\n",
              "      <td>2</td>\n",
              "      <td>1</td>\n",
              "      <td>...</td>\n",
              "      <td>0</td>\n",
              "      <td>0</td>\n",
              "      <td>0</td>\n",
              "      <td>0</td>\n",
              "      <td>0</td>\n",
              "      <td>0</td>\n",
              "      <td>0</td>\n",
              "      <td>0</td>\n",
              "      <td>0</td>\n",
              "      <td>1</td>\n",
              "    </tr>\n",
              "  </tbody>\n",
              "</table>\n",
              "<p>5 rows × 34 columns</p>\n",
              "</div>\n",
              "      <button class=\"colab-df-convert\" onclick=\"convertToInteractive('df-1d874bb2-b230-4956-8b88-cc170c74216c')\"\n",
              "              title=\"Convert this dataframe to an interactive table.\"\n",
              "              style=\"display:none;\">\n",
              "        \n",
              "  <svg xmlns=\"http://www.w3.org/2000/svg\" height=\"24px\"viewBox=\"0 0 24 24\"\n",
              "       width=\"24px\">\n",
              "    <path d=\"M0 0h24v24H0V0z\" fill=\"none\"/>\n",
              "    <path d=\"M18.56 5.44l.94 2.06.94-2.06 2.06-.94-2.06-.94-.94-2.06-.94 2.06-2.06.94zm-11 1L8.5 8.5l.94-2.06 2.06-.94-2.06-.94L8.5 2.5l-.94 2.06-2.06.94zm10 10l.94 2.06.94-2.06 2.06-.94-2.06-.94-.94-2.06-.94 2.06-2.06.94z\"/><path d=\"M17.41 7.96l-1.37-1.37c-.4-.4-.92-.59-1.43-.59-.52 0-1.04.2-1.43.59L10.3 9.45l-7.72 7.72c-.78.78-.78 2.05 0 2.83L4 21.41c.39.39.9.59 1.41.59.51 0 1.02-.2 1.41-.59l7.78-7.78 2.81-2.81c.8-.78.8-2.07 0-2.86zM5.41 20L4 18.59l7.72-7.72 1.47 1.35L5.41 20z\"/>\n",
              "  </svg>\n",
              "      </button>\n",
              "      \n",
              "  <style>\n",
              "    .colab-df-container {\n",
              "      display:flex;\n",
              "      flex-wrap:wrap;\n",
              "      gap: 12px;\n",
              "    }\n",
              "\n",
              "    .colab-df-convert {\n",
              "      background-color: #E8F0FE;\n",
              "      border: none;\n",
              "      border-radius: 50%;\n",
              "      cursor: pointer;\n",
              "      display: none;\n",
              "      fill: #1967D2;\n",
              "      height: 32px;\n",
              "      padding: 0 0 0 0;\n",
              "      width: 32px;\n",
              "    }\n",
              "\n",
              "    .colab-df-convert:hover {\n",
              "      background-color: #E2EBFA;\n",
              "      box-shadow: 0px 1px 2px rgba(60, 64, 67, 0.3), 0px 1px 3px 1px rgba(60, 64, 67, 0.15);\n",
              "      fill: #174EA6;\n",
              "    }\n",
              "\n",
              "    [theme=dark] .colab-df-convert {\n",
              "      background-color: #3B4455;\n",
              "      fill: #D2E3FC;\n",
              "    }\n",
              "\n",
              "    [theme=dark] .colab-df-convert:hover {\n",
              "      background-color: #434B5C;\n",
              "      box-shadow: 0px 1px 3px 1px rgba(0, 0, 0, 0.15);\n",
              "      filter: drop-shadow(0px 1px 2px rgba(0, 0, 0, 0.3));\n",
              "      fill: #FFFFFF;\n",
              "    }\n",
              "  </style>\n",
              "\n",
              "      <script>\n",
              "        const buttonEl =\n",
              "          document.querySelector('#df-1d874bb2-b230-4956-8b88-cc170c74216c button.colab-df-convert');\n",
              "        buttonEl.style.display =\n",
              "          google.colab.kernel.accessAllowed ? 'block' : 'none';\n",
              "\n",
              "        async function convertToInteractive(key) {\n",
              "          const element = document.querySelector('#df-1d874bb2-b230-4956-8b88-cc170c74216c');\n",
              "          const dataTable =\n",
              "            await google.colab.kernel.invokeFunction('convertToInteractive',\n",
              "                                                     [key], {});\n",
              "          if (!dataTable) return;\n",
              "\n",
              "          const docLinkHtml = 'Like what you see? Visit the ' +\n",
              "            '<a target=\"_blank\" href=https://colab.research.google.com/notebooks/data_table.ipynb>data table notebook</a>'\n",
              "            + ' to learn more about interactive tables.';\n",
              "          element.innerHTML = '';\n",
              "          dataTable['output_type'] = 'display_data';\n",
              "          await google.colab.output.renderOutput(dataTable, element);\n",
              "          const docLink = document.createElement('div');\n",
              "          docLink.innerHTML = docLinkHtml;\n",
              "          element.appendChild(docLink);\n",
              "        }\n",
              "      </script>\n",
              "    </div>\n",
              "  </div>\n",
              "  "
            ]
          },
          "metadata": {},
          "execution_count": 55
        }
      ]
    },
    {
      "cell_type": "markdown",
      "source": [
        "##Splitting data into X and y values\n",
        "X includes all columns except treatment column, and y is only the treatment column."
      ],
      "metadata": {
        "id": "MX7XBdcElyD5"
      }
    },
    {
      "cell_type": "code",
      "source": [
        "X = df.drop(['treatment'], axis=1)\n",
        "Y = df['treatment']\n",
        "X.shape"
      ],
      "metadata": {
        "colab": {
          "base_uri": "https://localhost:8080/"
        },
        "id": "_opAaL7flvqR",
        "outputId": "55663b82-372f-40dd-a832-e722cfb92f5e"
      },
      "execution_count": null,
      "outputs": [
        {
          "output_type": "execute_result",
          "data": {
            "text/plain": [
              "(1241, 33)"
            ]
          },
          "metadata": {},
          "execution_count": 56
        }
      ]
    },
    {
      "cell_type": "code",
      "source": [
        "Y.shape"
      ],
      "metadata": {
        "colab": {
          "base_uri": "https://localhost:8080/"
        },
        "id": "BiwMNox0l1P1",
        "outputId": "9b9d0e80-6ac0-4acd-db00-ed643e8d117d"
      },
      "execution_count": null,
      "outputs": [
        {
          "output_type": "execute_result",
          "data": {
            "text/plain": [
              "(1241,)"
            ]
          },
          "metadata": {},
          "execution_count": 57
        }
      ]
    },
    {
      "cell_type": "markdown",
      "source": [
        "##Train/test split on X and y values"
      ],
      "metadata": {
        "id": "f6Xayqxol49m"
      }
    },
    {
      "cell_type": "code",
      "source": [
        "from sklearn.model_selection import train_test_split"
      ],
      "metadata": {
        "id": "BF5OhWhwl5cl"
      },
      "execution_count": null,
      "outputs": []
    },
    {
      "cell_type": "code",
      "source": [
        "X_train, X_test, y_train, y_test = train_test_split(X, Y, test_size=0.2, random_state=0)"
      ],
      "metadata": {
        "id": "BPBDtQBZl6Me"
      },
      "execution_count": null,
      "outputs": []
    },
    {
      "cell_type": "markdown",
      "source": [
        "##Defining and fitting a logistic regression model"
      ],
      "metadata": {
        "id": "11aKRyTQl_LK"
      }
    },
    {
      "cell_type": "code",
      "source": [
        "X_train = np.array(X_train)\n",
        "y_train = np.array(y_train).reshape(-1, 1)\n",
        "X_test = np.array(X_test)\n",
        "y_test = np.array(y_test)\n",
        "print(X_train.shape, y_train.shape, X_test.shape, y_test.shape)"
      ],
      "metadata": {
        "colab": {
          "base_uri": "https://localhost:8080/"
        },
        "id": "nJf-ZElxl8DW",
        "outputId": "0eedd9d2-b77a-40eb-d776-6b4356ebad6a"
      },
      "execution_count": null,
      "outputs": [
        {
          "output_type": "stream",
          "name": "stdout",
          "text": [
            "(992, 33) (992, 1) (249, 33) (249,)\n"
          ]
        }
      ]
    },
    {
      "cell_type": "code",
      "source": [
        "from sklearn.linear_model import LogisticRegression"
      ],
      "metadata": {
        "id": "-adx69lEmFGC"
      },
      "execution_count": null,
      "outputs": []
    },
    {
      "cell_type": "code",
      "source": [
        "logit_model = LogisticRegression()\n",
        "logit_model.fit(X_train, y_train)"
      ],
      "metadata": {
        "colab": {
          "base_uri": "https://localhost:8080/",
          "height": 75
        },
        "id": "hY6fcM7zmHbv",
        "outputId": "7e08f246-ceaf-4dfb-f359-aeedebba03e0"
      },
      "execution_count": null,
      "outputs": [
        {
          "output_type": "execute_result",
          "data": {
            "text/plain": [
              "LogisticRegression()"
            ],
            "text/html": [
              "<style>#sk-container-id-1 {color: black;background-color: white;}#sk-container-id-1 pre{padding: 0;}#sk-container-id-1 div.sk-toggleable {background-color: white;}#sk-container-id-1 label.sk-toggleable__label {cursor: pointer;display: block;width: 100%;margin-bottom: 0;padding: 0.3em;box-sizing: border-box;text-align: center;}#sk-container-id-1 label.sk-toggleable__label-arrow:before {content: \"▸\";float: left;margin-right: 0.25em;color: #696969;}#sk-container-id-1 label.sk-toggleable__label-arrow:hover:before {color: black;}#sk-container-id-1 div.sk-estimator:hover label.sk-toggleable__label-arrow:before {color: black;}#sk-container-id-1 div.sk-toggleable__content {max-height: 0;max-width: 0;overflow: hidden;text-align: left;background-color: #f0f8ff;}#sk-container-id-1 div.sk-toggleable__content pre {margin: 0.2em;color: black;border-radius: 0.25em;background-color: #f0f8ff;}#sk-container-id-1 input.sk-toggleable__control:checked~div.sk-toggleable__content {max-height: 200px;max-width: 100%;overflow: auto;}#sk-container-id-1 input.sk-toggleable__control:checked~label.sk-toggleable__label-arrow:before {content: \"▾\";}#sk-container-id-1 div.sk-estimator input.sk-toggleable__control:checked~label.sk-toggleable__label {background-color: #d4ebff;}#sk-container-id-1 div.sk-label input.sk-toggleable__control:checked~label.sk-toggleable__label {background-color: #d4ebff;}#sk-container-id-1 input.sk-hidden--visually {border: 0;clip: rect(1px 1px 1px 1px);clip: rect(1px, 1px, 1px, 1px);height: 1px;margin: -1px;overflow: hidden;padding: 0;position: absolute;width: 1px;}#sk-container-id-1 div.sk-estimator {font-family: monospace;background-color: #f0f8ff;border: 1px dotted black;border-radius: 0.25em;box-sizing: border-box;margin-bottom: 0.5em;}#sk-container-id-1 div.sk-estimator:hover {background-color: #d4ebff;}#sk-container-id-1 div.sk-parallel-item::after {content: \"\";width: 100%;border-bottom: 1px solid gray;flex-grow: 1;}#sk-container-id-1 div.sk-label:hover label.sk-toggleable__label {background-color: #d4ebff;}#sk-container-id-1 div.sk-serial::before {content: \"\";position: absolute;border-left: 1px solid gray;box-sizing: border-box;top: 0;bottom: 0;left: 50%;z-index: 0;}#sk-container-id-1 div.sk-serial {display: flex;flex-direction: column;align-items: center;background-color: white;padding-right: 0.2em;padding-left: 0.2em;position: relative;}#sk-container-id-1 div.sk-item {position: relative;z-index: 1;}#sk-container-id-1 div.sk-parallel {display: flex;align-items: stretch;justify-content: center;background-color: white;position: relative;}#sk-container-id-1 div.sk-item::before, #sk-container-id-1 div.sk-parallel-item::before {content: \"\";position: absolute;border-left: 1px solid gray;box-sizing: border-box;top: 0;bottom: 0;left: 50%;z-index: -1;}#sk-container-id-1 div.sk-parallel-item {display: flex;flex-direction: column;z-index: 1;position: relative;background-color: white;}#sk-container-id-1 div.sk-parallel-item:first-child::after {align-self: flex-end;width: 50%;}#sk-container-id-1 div.sk-parallel-item:last-child::after {align-self: flex-start;width: 50%;}#sk-container-id-1 div.sk-parallel-item:only-child::after {width: 0;}#sk-container-id-1 div.sk-dashed-wrapped {border: 1px dashed gray;margin: 0 0.4em 0.5em 0.4em;box-sizing: border-box;padding-bottom: 0.4em;background-color: white;}#sk-container-id-1 div.sk-label label {font-family: monospace;font-weight: bold;display: inline-block;line-height: 1.2em;}#sk-container-id-1 div.sk-label-container {text-align: center;}#sk-container-id-1 div.sk-container {/* jupyter's `normalize.less` sets `[hidden] { display: none; }` but bootstrap.min.css set `[hidden] { display: none !important; }` so we also need the `!important` here to be able to override the default hidden behavior on the sphinx rendered scikit-learn.org. See: https://github.com/scikit-learn/scikit-learn/issues/21755 */display: inline-block !important;position: relative;}#sk-container-id-1 div.sk-text-repr-fallback {display: none;}</style><div id=\"sk-container-id-1\" class=\"sk-top-container\"><div class=\"sk-text-repr-fallback\"><pre>LogisticRegression()</pre><b>In a Jupyter environment, please rerun this cell to show the HTML representation or trust the notebook. <br />On GitHub, the HTML representation is unable to render, please try loading this page with nbviewer.org.</b></div><div class=\"sk-container\" hidden><div class=\"sk-item\"><div class=\"sk-estimator sk-toggleable\"><input class=\"sk-toggleable__control sk-hidden--visually\" id=\"sk-estimator-id-1\" type=\"checkbox\" checked><label for=\"sk-estimator-id-1\" class=\"sk-toggleable__label sk-toggleable__label-arrow\">LogisticRegression</label><div class=\"sk-toggleable__content\"><pre>LogisticRegression()</pre></div></div></div></div></div>"
            ]
          },
          "metadata": {},
          "execution_count": 62
        }
      ]
    },
    {
      "cell_type": "markdown",
      "source": [
        "##Coefficients of the model"
      ],
      "metadata": {
        "id": "kbGD4KBCmA4V"
      }
    },
    {
      "cell_type": "code",
      "source": [
        "logit_model.coef_"
      ],
      "metadata": {
        "colab": {
          "base_uri": "https://localhost:8080/"
        },
        "id": "vq4CnO4QmJr4",
        "outputId": "6b0f3cf0-d7dc-4d5e-a5ae-dd8a81b24226"
      },
      "execution_count": null,
      "outputs": [
        {
          "output_type": "execute_result",
          "data": {
            "text/plain": [
              "array([[ 0.02113148, -0.5115365 ,  1.48594092, -0.09203437, -0.03729742,\n",
              "         0.15459845,  0.34299565,  0.27099317,  0.04868983, -0.14346575,\n",
              "         0.18180889,  0.04337348,  0.01474796,  0.00550872,  0.59802608,\n",
              "        -0.34929943,  0.35586417,  0.07957681,  0.04999184,  0.69999477,\n",
              "        -0.0975576 , -0.81602066,  0.13876104,  0.13999378,  0.30494298,\n",
              "        -0.78469997, -0.14760333,  0.51050906,  0.09141457, -0.6058609 ,\n",
              "        -0.64085944,  0.33779972,  0.0195463 ]])"
            ]
          },
          "metadata": {},
          "execution_count": 63
        }
      ]
    },
    {
      "cell_type": "markdown",
      "source": [
        "##Finding the accuracy of the model\n",
        "The accuracy of the model is the number of correct predictions over the total number of predictions."
      ],
      "metadata": {
        "id": "lqYL_deRmN3r"
      }
    },
    {
      "cell_type": "code",
      "source": [
        "y_test_pred = logit_model.predict(X_test)"
      ],
      "metadata": {
        "id": "OSPQZYMSmOMx"
      },
      "execution_count": null,
      "outputs": []
    },
    {
      "cell_type": "code",
      "source": [
        "y_test_pred"
      ],
      "metadata": {
        "id": "Wvtl0kbNmOrd"
      },
      "execution_count": null,
      "outputs": []
    },
    {
      "cell_type": "code",
      "source": [
        "np.sum(y_test_pred == y_test)/len(y_test)"
      ],
      "metadata": {
        "colab": {
          "base_uri": "https://localhost:8080/"
        },
        "id": "mechR6t2mQyv",
        "outputId": "5332094a-1dc2-42b8-f0e0-a8feadcaa1f3"
      },
      "execution_count": null,
      "outputs": [
        {
          "output_type": "execute_result",
          "data": {
            "text/plain": [
              "0.714859437751004"
            ]
          },
          "metadata": {},
          "execution_count": 66
        }
      ]
    },
    {
      "cell_type": "markdown",
      "source": [
        "##Creating a confusion matrix\n",
        "The confusion matrix helps find the number of false negatives and false positives. There are 45 false negatives and 26 false positives."
      ],
      "metadata": {
        "id": "xgiPLhsmmTaJ"
      }
    },
    {
      "cell_type": "code",
      "source": [
        "from sklearn.metrics import confusion_matrix, ConfusionMatrixDisplay"
      ],
      "metadata": {
        "id": "AiYQPu2GmW-I"
      },
      "execution_count": null,
      "outputs": []
    },
    {
      "cell_type": "code",
      "source": [
        "cm = confusion_matrix(y_test, y_test_pred)\n",
        "ConfusionMatrixDisplay(confusion_matrix=cm).plot()"
      ],
      "metadata": {
        "colab": {
          "base_uri": "https://localhost:8080/",
          "height": 467
        },
        "id": "dqzDkCNImZ4D",
        "outputId": "26450e36-c18d-429b-c11a-966707175506"
      },
      "execution_count": null,
      "outputs": [
        {
          "output_type": "execute_result",
          "data": {
            "text/plain": [
              "<sklearn.metrics._plot.confusion_matrix.ConfusionMatrixDisplay at 0x7f7361028df0>"
            ]
          },
          "metadata": {},
          "execution_count": 68
        },
        {
          "output_type": "display_data",
          "data": {
            "text/plain": [
              "<Figure size 640x480 with 2 Axes>"
            ],
            "image/png": "[encoded data removed]"
          },
          "metadata": {}
        }
      ]
    },
    {
      "cell_type": "markdown",
      "source": [
        "## Finding the best combination of dataset features for the logistic regression model"
      ],
      "metadata": {
        "id": "XCPAyYWymjNm"
      }
    },
    {
      "cell_type": "code",
      "source": [
        "def logistic_regression_model(X, Y, test_size):\n",
        "  # 1. Separate training and test set data\n",
        "  X_train, X_test, y_train, y_test = train_test_split(X, Y, test_size=0.2, random_state=0)\n",
        "\n",
        "  # 2. Ensure data is in the numpy array\n",
        "  X_train = np.array(X_train)\n",
        "  y_train = np.array(y_train)\n",
        "  X_test = np.array(X_test)\n",
        "  y_test = np.array(y_test)\n",
        "\n",
        "  # 3. Define model and fit the training set data\n",
        "  logit_model = LogisticRegression()\n",
        "  logit_model.fit(X_train, y_train)\n",
        "\n",
        "  # 4. Compute predicted values using training set X\n",
        "  y_train_pred = logit_model.predict(X_train)\n",
        "\n",
        "  # 5. Compute predicted values using test set X\n",
        "  y_test_pred = logit_model.predict(X_test)\n",
        "\n",
        "  test_acc = np.sum(y_test_pred == y_test)/len(y_test)\n",
        "  train_acc = np.sum(y_train_pred == y_train)/len(y_train)\n",
        "\n",
        "  return {\n",
        "      \"model\": logit_model,\n",
        "      \"accuracy\": [train_acc, test_acc],\n",
        "      \"test_predictions\": [y_test, y_test_pred]\n",
        "  }"
      ],
      "metadata": {
        "id": "yBoNyfdUmejE"
      },
      "execution_count": null,
      "outputs": []
    },
    {
      "cell_type": "code",
      "source": [
        "#Test\n",
        "test_result = logistic_regression_model(X, Y, 0.3)\n",
        "test_result['accuracy']"
      ],
      "metadata": {
        "colab": {
          "base_uri": "https://localhost:8080/"
        },
        "id": "f5gB8Kh4mihP",
        "outputId": "926729a3-b389-451e-c98c-ded60e98c26f"
      },
      "execution_count": null,
      "outputs": [
        {
          "output_type": "execute_result",
          "data": {
            "text/plain": [
              "[0.7328629032258065, 0.714859437751004]"
            ]
          },
          "metadata": {},
          "execution_count": 70
        }
      ]
    },
    {
      "cell_type": "code",
      "source": [
        "results = []\n",
        "models = []\n",
        "preds = []\n",
        "\n",
        "for i in range(1000):\n",
        "  sampleX = X.sample(n=np.random.choice(list(range(1, X.shape[1]))), axis='columns')\n",
        "  test_result = logistic_regression_model(sampleX, Y, 0.2)\n",
        "  results.append(test_result['accuracy'][1])\n",
        "  models.append(test_result['model'])\n",
        "  preds.append(test_result['test_predictions'])"
      ],
      "metadata": {
        "id": "mJy0LOaYmmhy"
      },
      "execution_count": null,
      "outputs": []
    },
    {
      "cell_type": "code",
      "source": [
        "np.argmax(results)"
      ],
      "metadata": {
        "colab": {
          "base_uri": "https://localhost:8080/"
        },
        "id": "mAGNj99Dmov8",
        "outputId": "9b3d4c17-88fe-4f35-b2c3-d8595f3da67a"
      },
      "execution_count": null,
      "outputs": [
        {
          "output_type": "execute_result",
          "data": {
            "text/plain": [
              "480"
            ]
          },
          "metadata": {},
          "execution_count": 72
        }
      ]
    },
    {
      "cell_type": "markdown",
      "source": [
        "##Best model"
      ],
      "metadata": {
        "id": "WNqn06eRmr7N"
      }
    },
    {
      "cell_type": "code",
      "source": [
        "results[np.argmax(results)]"
      ],
      "metadata": {
        "colab": {
          "base_uri": "https://localhost:8080/"
        },
        "id": "ta_Rt3RWmsNW",
        "outputId": "8a0c437d-0188-4d62-8cbc-f320fbc89334"
      },
      "execution_count": null,
      "outputs": [
        {
          "output_type": "execute_result",
          "data": {
            "text/plain": [
              "0.7349397590361446"
            ]
          },
          "metadata": {},
          "execution_count": 73
        }
      ]
    },
    {
      "cell_type": "code",
      "source": [
        "y_test = preds[np.argmax(results)][0]\n",
        "y_test_pred = preds[np.argmax(results)][1]\n",
        "cm = confusion_matrix(y_test, y_test_pred)\n",
        "ConfusionMatrixDisplay(confusion_matrix=cm).plot()"
      ],
      "metadata": {
        "colab": {
          "base_uri": "https://localhost:8080/",
          "height": 467
        },
        "id": "cXLYVylrmvLg",
        "outputId": "a779fff9-6e79-487c-e170-4408b9854193"
      },
      "execution_count": null,
      "outputs": [
        {
          "output_type": "execute_result",
          "data": {
            "text/plain": [
              "<sklearn.metrics._plot.confusion_matrix.ConfusionMatrixDisplay at 0x7f73610c5630>"
            ]
          },
          "metadata": {},
          "execution_count": 74
        },
        {
          "output_type": "display_data",
          "data": {
            "text/plain": [
              "<Figure size 640x480 with 2 Axes>"
            ],
            "image/png": "[encoded data removed]"
          },
          "metadata": {}
        }
      ]
    },
    {
      "cell_type": "markdown",
      "source": [
        "##Exporting cleaned data"
      ],
      "metadata": {
        "id": "HeYWwd0VmyP3"
      }
    },
    {
      "cell_type": "code",
      "source": [
        "df.to_csv('/content/drive/My Drive/survey_cleaned2.csv',index =False)"
      ],
      "metadata": {
        "id": "wW30dOzym2WF"
      },
      "execution_count": null,
      "outputs": []
    },
    {
      "cell_type": "markdown",
      "source": [
        "#Neural Network"
      ],
      "metadata": {
        "id": "JkmWNcjqSndh"
      }
    },
    {
      "cell_type": "code",
      "source": [
        "df = pd.read_csv('/content/drive/My Drive/survey_cleaned2.csv')\n",
        "import tensorflow as tf # for neural network models\n",
        "print(tf.__version__)"
      ],
      "metadata": {
        "id": "S2My0skmSsjd",
        "colab": {
          "base_uri": "https://localhost:8080/"
        },
        "outputId": "3f244ff1-d7c7-44d3-e8bf-d031bc90876b"
      },
      "execution_count": null,
      "outputs": [
        {
          "output_type": "stream",
          "name": "stdout",
          "text": [
            "2.12.0\n"
          ]
        }
      ]
    },
    {
      "cell_type": "markdown",
      "source": [
        "##Splitting dataset into X and y values"
      ],
      "metadata": {
        "id": "a-w24Z3hnBOd"
      }
    },
    {
      "cell_type": "code",
      "source": [
        "X = df.drop(['treatment'], axis=1)\n",
        "Y = df['treatment']\n",
        "X.shape"
      ],
      "metadata": {
        "colab": {
          "base_uri": "https://localhost:8080/"
        },
        "id": "6c6EYd8DnBkc",
        "outputId": "e410b248-cd9a-4721-8a4c-06496897d079"
      },
      "execution_count": null,
      "outputs": [
        {
          "output_type": "execute_result",
          "data": {
            "text/plain": [
              "(1241, 33)"
            ]
          },
          "metadata": {},
          "execution_count": 77
        }
      ]
    },
    {
      "cell_type": "markdown",
      "source": [
        "##Normalizing each column in  𝑋  to be between 0 and 1"
      ],
      "metadata": {
        "id": "6DN3M8nbnHYf"
      }
    },
    {
      "cell_type": "code",
      "source": [
        "# Your code here\n",
        "X = (X-X.min())/(X.max()-X.min())"
      ],
      "metadata": {
        "id": "1mcdqJ3GnE9N"
      },
      "execution_count": null,
      "outputs": []
    },
    {
      "cell_type": "code",
      "source": [
        "X['Age'].max()"
      ],
      "metadata": {
        "colab": {
          "base_uri": "https://localhost:8080/"
        },
        "id": "TqXAlv2_nIA_",
        "outputId": "445d8d19-c34e-49b2-8e03-a30a1e482f10"
      },
      "execution_count": null,
      "outputs": [
        {
          "output_type": "execute_result",
          "data": {
            "text/plain": [
              "1.0"
            ]
          },
          "metadata": {},
          "execution_count": 79
        }
      ]
    },
    {
      "cell_type": "markdown",
      "source": [
        "##Train/test split on the $X$ and $y$ values"
      ],
      "metadata": {
        "id": "9qQQBi8AnMYp"
      }
    },
    {
      "cell_type": "code",
      "source": [
        "# Your code here\n",
        "\n",
        "from sklearn.model_selection import train_test_split\n",
        "X_train, X_test, y_train, y_test = train_test_split(X, Y, test_size=0.2, random_state=0)"
      ],
      "metadata": {
        "id": "So7ofeUUnM3y"
      },
      "execution_count": null,
      "outputs": []
    },
    {
      "cell_type": "code",
      "source": [
        "# Your code here\n",
        "\n",
        "X_train = np.array(X_train)\n",
        "y_train = np.array(y_train)\n",
        "\n",
        "X_test = np.array(X_test)\n",
        "y_test = np.array(y_test)\n",
        "\n",
        "print(X_train.shape, y_train.shape, X_test.shape, y_test.shape)"
      ],
      "metadata": {
        "colab": {
          "base_uri": "https://localhost:8080/"
        },
        "id": "bJ3KvcVznNqn",
        "outputId": "2051b98a-62aa-455c-d363-f5f8812b82e1"
      },
      "execution_count": null,
      "outputs": [
        {
          "output_type": "stream",
          "name": "stdout",
          "text": [
            "(992, 33) (992,) (249, 33) (249,)\n"
          ]
        }
      ]
    },
    {
      "cell_type": "markdown",
      "source": [
        "##Building and training a simple neural network"
      ],
      "metadata": {
        "id": "FLR9yUR-nbYC"
      }
    },
    {
      "cell_type": "code",
      "source": [
        "model = tf.keras.models.Sequential([\n",
        "  #tf.keras.layers.Dense(100, activation='relu'), # hidden layer\n",
        "  #tf.keras.layers.Dense(75, activation='relu'), # hidden layer\n",
        "  tf.keras.layers.Dense(15, activation='relu'), # hidden layer\n",
        "  tf.keras.layers.Dense(2, activation='softmax') # output layer\n",
        "\n",
        "])"
      ],
      "metadata": {
        "id": "9pJtOJnKnb0c"
      },
      "execution_count": null,
      "outputs": []
    },
    {
      "cell_type": "markdown",
      "source": [
        "##Accuracy of the best neural network model"
      ],
      "metadata": {
        "id": "c8uZz6VongrF"
      }
    },
    {
      "cell_type": "code",
      "source": [
        "# compile model\n",
        "model.compile(\n",
        "    optimizer = 'adam',\n",
        "    loss = 'sparse_categorical_crossentropy',\n",
        "    metrics=['accuracy'])"
      ],
      "metadata": {
        "id": "Q8KP7Yd9ng9W"
      },
      "execution_count": null,
      "outputs": []
    },
    {
      "cell_type": "code",
      "source": [
        "model.fit(X_train, y_train, epochs = 15)"
      ],
      "metadata": {
        "id": "1_xwgdocnhip",
        "colab": {
          "base_uri": "https://localhost:8080/"
        },
        "outputId": "975eec0a-072e-4cea-8f98-b4fbbee0e415"
      },
      "execution_count": null,
      "outputs": [
        {
          "output_type": "stream",
          "name": "stdout",
          "text": [
            "Epoch 1/15\n",
            "31/31 [==============================] - 1s 2ms/step - loss: 0.6882 - accuracy: 0.5373\n",
            "Epoch 2/15\n",
            "31/31 [==============================] - 0s 2ms/step - loss: 0.6665 - accuracy: 0.5857\n",
            "Epoch 3/15\n",
            "31/31 [==============================] - 0s 2ms/step - loss: 0.6468 - accuracy: 0.6200\n",
            "Epoch 4/15\n",
            "31/31 [==============================] - 0s 2ms/step - loss: 0.6322 - accuracy: 0.6482\n",
            "Epoch 5/15\n",
            "31/31 [==============================] - 0s 2ms/step - loss: 0.6192 - accuracy: 0.6562\n",
            "Epoch 6/15\n",
            "31/31 [==============================] - 0s 2ms/step - loss: 0.6090 - accuracy: 0.6673\n",
            "Epoch 7/15\n",
            "31/31 [==============================] - 0s 2ms/step - loss: 0.6003 - accuracy: 0.6744\n",
            "Epoch 8/15\n",
            "31/31 [==============================] - 0s 2ms/step - loss: 0.5919 - accuracy: 0.6915\n",
            "Epoch 9/15\n",
            "31/31 [==============================] - 0s 2ms/step - loss: 0.5846 - accuracy: 0.6946\n",
            "Epoch 10/15\n",
            "31/31 [==============================] - 0s 2ms/step - loss: 0.5788 - accuracy: 0.7046\n",
            "Epoch 11/15\n",
            "31/31 [==============================] - 0s 2ms/step - loss: 0.5748 - accuracy: 0.7117\n",
            "Epoch 12/15\n",
            "31/31 [==============================] - 0s 2ms/step - loss: 0.5714 - accuracy: 0.7137\n",
            "Epoch 13/15\n",
            "31/31 [==============================] - 0s 2ms/step - loss: 0.5679 - accuracy: 0.7067\n",
            "Epoch 14/15\n",
            "31/31 [==============================] - 0s 2ms/step - loss: 0.5658 - accuracy: 0.7198\n",
            "Epoch 15/15\n",
            "31/31 [==============================] - 0s 2ms/step - loss: 0.5618 - accuracy: 0.7218\n"
          ]
        },
        {
          "output_type": "execute_result",
          "data": {
            "text/plain": [
              "<keras.callbacks.History at 0x7f730c0a7d30>"
            ]
          },
          "metadata": {},
          "execution_count": 84
        }
      ]
    },
    {
      "cell_type": "code",
      "source": [
        "# Get predictions on test set\n",
        "predictions = model.predict(X_test)\n",
        "predictions = np.argmax(predictions, axis = 1)\n",
        "# Find accuracy on test set\n",
        "print('Test accuracy: ', np.mean(y_test == predictions))"
      ],
      "metadata": {
        "colab": {
          "base_uri": "https://localhost:8080/"
        },
        "id": "NWG2aoyJnlUP",
        "outputId": "50337ec2-e765-4b47-bcef-3ba113a2626c"
      },
      "execution_count": null,
      "outputs": [
        {
          "output_type": "stream",
          "name": "stdout",
          "text": [
            "8/8 [==============================] - 0s 2ms/step\n",
            "Test accuracy:  0.714859437751004\n"
          ]
        }
      ]
    },
    {
      "cell_type": "markdown",
      "source": [
        "##Creating a confusion matrix for the model"
      ],
      "metadata": {
        "id": "_xH_HecEnl6C"
      }
    },
    {
      "cell_type": "code",
      "source": [
        "# Your code here\n",
        "cm = confusion_matrix(y_test, predictions)\n",
        "ConfusionMatrixDisplay(confusion_matrix=cm).plot()"
      ],
      "metadata": {
        "colab": {
          "base_uri": "https://localhost:8080/",
          "height": 467
        },
        "id": "_1ljpoIgnmPF",
        "outputId": "b6deff71-3763-4d2b-f20d-c69be8416bfc"
      },
      "execution_count": null,
      "outputs": [
        {
          "output_type": "execute_result",
          "data": {
            "text/plain": [
              "<sklearn.metrics._plot.confusion_matrix.ConfusionMatrixDisplay at 0x7f7360e1f6d0>"
            ]
          },
          "metadata": {},
          "execution_count": 86
        },
        {
          "output_type": "display_data",
          "data": {
            "text/plain": [
              "<Figure size 640x480 with 2 Axes>"
            ],
            "image/png": "[encoded data removed]"
          },
          "metadata": {}
        }
      ]
    },
    {
      "cell_type": "code",
      "source": [
        "# percent of false positives\n",
        "26/(26+45)"
      ],
      "metadata": {
        "colab": {
          "base_uri": "https://localhost:8080/"
        },
        "id": "Ocp4Y6NRntu8",
        "outputId": "e1a237fd-5079-4ee8-c7d5-3dbfa25ee872"
      },
      "execution_count": null,
      "outputs": [
        {
          "output_type": "execute_result",
          "data": {
            "text/plain": [
              "0.36619718309859156"
            ]
          },
          "metadata": {},
          "execution_count": 87
        }
      ]
    },
    {
      "cell_type": "markdown",
      "source": [
        "##Fine-tuning model architecture"
      ],
      "metadata": {
        "id": "1LO9gOkhny7e"
      }
    },
    {
      "cell_type": "code",
      "source": [
        "# Split train set into a train and validation set\n",
        "from sklearn.model_selection import train_test_split\n",
        "\n",
        "X_train, X_valid, y_train, y_valid = train_test_split(X_train,y_train, random_state = 0, test_size = 0.2)\n",
        "X_train.shape, X_valid.shape"
      ],
      "metadata": {
        "colab": {
          "base_uri": "https://localhost:8080/"
        },
        "id": "L74T-6FEn1_q",
        "outputId": "d67329cd-0364-4275-fe7e-94677e082457"
      },
      "execution_count": null,
      "outputs": [
        {
          "output_type": "execute_result",
          "data": {
            "text/plain": [
              "((793, 33), (199, 33))"
            ]
          },
          "metadata": {},
          "execution_count": 88
        }
      ]
    },
    {
      "cell_type": "code",
      "source": [
        "#define a helper function that will build the model inside a loop.\n",
        "def build_model(n_hidden=1, n_neurons=30):\n",
        "    model = tf.keras.models.Sequential()\n",
        "\n",
        "    # Start by flattening image\n",
        "    model.add(tf.keras.layers.Flatten())\n",
        "\n",
        "    # Add n_hidden number of hidden layers, each with n_neurons\n",
        "    for layer in range(n_hidden):\n",
        "        model.add(tf.keras.layers.Dense(n_neurons, activation=\"relu\"))\n",
        "\n",
        "    # Output layer -> 10 neurons for 10 digits, with softmax activation\n",
        "    model.add(tf.keras.layers.Dense(10, activation = 'softmax'))\n",
        "\n",
        "    # Compile model\n",
        "    model.compile(loss=\"sparse_categorical_crossentropy\",\n",
        "                  optimizer='adam',\n",
        "                  metrics=['accuracy'])\n",
        "\n",
        "    return model"
      ],
      "metadata": {
        "id": "k2ySLTQXn4n6"
      },
      "execution_count": null,
      "outputs": []
    },
    {
      "cell_type": "code",
      "source": [
        "num_layers = [1,3,5,8,15,20]\n",
        "num_neurons = [10,30,50,70,100,110]\n",
        "\n",
        "\n",
        "for n_hidden in num_layers:\n",
        "\n",
        "  for n_neurons in num_neurons:\n",
        "    model = build_model(n_hidden, n_neurons)\n",
        "\n",
        "    print('Number of hidden layers: ', n_hidden)\n",
        "    print('Number of neurons per layer: ', n_neurons)\n",
        "    history = model.fit(X_train, y_train, epochs=10,\n",
        "                    validation_data=[X_valid, y_valid])"
      ],
      "metadata": {
        "colab": {
          "base_uri": "https://localhost:8080/"
        },
        "id": "2hSfkrf7n5Pw",
        "outputId": "3a4b73c3-541b-4211-88c3-13accb00cc8e"
      },
      "execution_count": null,
      "outputs": [
        {
          "output_type": "stream",
          "name": "stdout",
          "text": [
            "Number of hidden layers:  1\n",
            "Number of neurons per layer:  10\n",
            "Epoch 1/10\n",
            "25/25 [==============================] - 1s 17ms/step - loss: 2.2267 - accuracy: 0.2472 - val_loss: 2.0389 - val_accuracy: 0.3518\n",
            "Epoch 2/10\n",
            "25/25 [==============================] - 0s 6ms/step - loss: 1.7889 - accuracy: 0.4943 - val_loss: 1.5914 - val_accuracy: 0.4422\n",
            "Epoch 3/10\n",
            "25/25 [==============================] - 0s 5ms/step - loss: 1.3732 - accuracy: 0.5183 - val_loss: 1.1912 - val_accuracy: 0.4824\n",
            "Epoch 4/10\n",
            "25/25 [==============================] - 0s 5ms/step - loss: 1.0601 - accuracy: 0.5120 - val_loss: 0.9431 - val_accuracy: 0.5578\n",
            "Epoch 5/10\n",
            "25/25 [==============================] - 0s 6ms/step - loss: 0.8873 - accuracy: 0.5259 - val_loss: 0.8202 - val_accuracy: 0.6030\n",
            "Epoch 6/10\n",
            "25/25 [==============================] - 0s 5ms/step - loss: 0.8000 - accuracy: 0.5624 - val_loss: 0.7577 - val_accuracy: 0.6030\n",
            "Epoch 7/10\n",
            "25/25 [==============================] - 0s 6ms/step - loss: 0.7518 - accuracy: 0.5839 - val_loss: 0.7204 - val_accuracy: 0.6332\n",
            "Epoch 8/10\n",
            "25/25 [==============================] - 0s 6ms/step - loss: 0.7211 - accuracy: 0.6003 - val_loss: 0.6955 - val_accuracy: 0.6281\n",
            "Epoch 9/10\n",
            "25/25 [==============================] - 0s 5ms/step - loss: 0.6999 - accuracy: 0.6204 - val_loss: 0.6780 - val_accuracy: 0.6382\n",
            "Epoch 10/10\n",
            "25/25 [==============================] - 0s 5ms/step - loss: 0.6822 - accuracy: 0.6469 - val_loss: 0.6595 - val_accuracy: 0.6734\n",
            "Number of hidden layers:  1\n",
            "Number of neurons per layer:  30\n",
            "Epoch 1/10\n",
            "25/25 [==============================] - 1s 16ms/step - loss: 1.9994 - accuracy: 0.3556 - val_loss: 1.7099 - val_accuracy: 0.4673\n",
            "Epoch 2/10\n",
            "25/25 [==============================] - 0s 5ms/step - loss: 1.4414 - accuracy: 0.5309 - val_loss: 1.1701 - val_accuracy: 0.5176\n",
            "Epoch 3/10\n",
            "25/25 [==============================] - 0s 6ms/step - loss: 0.9893 - accuracy: 0.5952 - val_loss: 0.8196 - val_accuracy: 0.6633\n",
            "Epoch 4/10\n",
            "25/25 [==============================] - 0s 6ms/step - loss: 0.7643 - accuracy: 0.6444 - val_loss: 0.6963 - val_accuracy: 0.6734\n",
            "Epoch 5/10\n",
            "25/25 [==============================] - 0s 5ms/step - loss: 0.6836 - accuracy: 0.6721 - val_loss: 0.6484 - val_accuracy: 0.6884\n",
            "Epoch 6/10\n",
            "25/25 [==============================] - 0s 5ms/step - loss: 0.6500 - accuracy: 0.6734 - val_loss: 0.6303 - val_accuracy: 0.6884\n",
            "Epoch 7/10\n",
            "25/25 [==============================] - 0s 6ms/step - loss: 0.6285 - accuracy: 0.6885 - val_loss: 0.6046 - val_accuracy: 0.6985\n",
            "Epoch 8/10\n",
            "25/25 [==============================] - 0s 6ms/step - loss: 0.6160 - accuracy: 0.6873 - val_loss: 0.5922 - val_accuracy: 0.6884\n",
            "Epoch 9/10\n",
            "25/25 [==============================] - 0s 5ms/step - loss: 0.6043 - accuracy: 0.6936 - val_loss: 0.5843 - val_accuracy: 0.7085\n",
            "Epoch 10/10\n",
            "25/25 [==============================] - 0s 5ms/step - loss: 0.5957 - accuracy: 0.6948 - val_loss: 0.5786 - val_accuracy: 0.7035\n",
            "Number of hidden layers:  1\n",
            "Number of neurons per layer:  50\n",
            "Epoch 1/10\n",
            "25/25 [==============================] - 1s 10ms/step - loss: 2.0853 - accuracy: 0.2686 - val_loss: 1.7435 - val_accuracy: 0.5377\n",
            "Epoch 2/10\n",
            "25/25 [==============================] - 0s 4ms/step - loss: 1.4297 - accuracy: 0.5334 - val_loss: 1.1331 - val_accuracy: 0.5528\n",
            "Epoch 3/10\n",
            "25/25 [==============================] - 0s 4ms/step - loss: 0.9379 - accuracy: 0.5750 - val_loss: 0.8174 - val_accuracy: 0.5528\n",
            "Epoch 4/10\n",
            "25/25 [==============================] - 0s 4ms/step - loss: 0.7389 - accuracy: 0.6204 - val_loss: 0.7078 - val_accuracy: 0.5829\n",
            "Epoch 5/10\n",
            "25/25 [==============================] - 0s 4ms/step - loss: 0.6682 - accuracy: 0.6570 - val_loss: 0.6543 - val_accuracy: 0.6281\n",
            "Epoch 6/10\n",
            "25/25 [==============================] - 0s 4ms/step - loss: 0.6325 - accuracy: 0.6974 - val_loss: 0.6239 - val_accuracy: 0.6482\n",
            "Epoch 7/10\n",
            "25/25 [==============================] - 0s 3ms/step - loss: 0.6091 - accuracy: 0.7150 - val_loss: 0.6082 - val_accuracy: 0.6784\n",
            "Epoch 8/10\n",
            "25/25 [==============================] - 0s 4ms/step - loss: 0.5947 - accuracy: 0.7251 - val_loss: 0.5882 - val_accuracy: 0.6683\n",
            "Epoch 9/10\n",
            "25/25 [==============================] - 0s 4ms/step - loss: 0.5855 - accuracy: 0.7213 - val_loss: 0.5774 - val_accuracy: 0.6633\n",
            "Epoch 10/10\n",
            "25/25 [==============================] - 0s 4ms/step - loss: 0.5773 - accuracy: 0.7251 - val_loss: 0.5731 - val_accuracy: 0.6633\n",
            "Number of hidden layers:  1\n",
            "Number of neurons per layer:  70\n",
            "Epoch 1/10\n",
            "25/25 [==============================] - 1s 10ms/step - loss: 1.6417 - accuracy: 0.4741 - val_loss: 1.1738 - val_accuracy: 0.5276\n",
            "Epoch 2/10\n",
            "25/25 [==============================] - 0s 4ms/step - loss: 0.9841 - accuracy: 0.5032 - val_loss: 0.7919 - val_accuracy: 0.5930\n",
            "Epoch 3/10\n",
            "25/25 [==============================] - 0s 3ms/step - loss: 0.7441 - accuracy: 0.6482 - val_loss: 0.6781 - val_accuracy: 0.6935\n",
            "Epoch 4/10\n",
            "25/25 [==============================] - 0s 3ms/step - loss: 0.6701 - accuracy: 0.6784 - val_loss: 0.6433 - val_accuracy: 0.6834\n",
            "Epoch 5/10\n",
            "25/25 [==============================] - 0s 4ms/step - loss: 0.6360 - accuracy: 0.6898 - val_loss: 0.6168 - val_accuracy: 0.7035\n",
            "Epoch 6/10\n",
            "25/25 [==============================] - 0s 3ms/step - loss: 0.6160 - accuracy: 0.7037 - val_loss: 0.6047 - val_accuracy: 0.6935\n",
            "Epoch 7/10\n",
            "25/25 [==============================] - 0s 3ms/step - loss: 0.6020 - accuracy: 0.7112 - val_loss: 0.5921 - val_accuracy: 0.7085\n",
            "Epoch 8/10\n",
            "25/25 [==============================] - 0s 3ms/step - loss: 0.5902 - accuracy: 0.7087 - val_loss: 0.5812 - val_accuracy: 0.7085\n",
            "Epoch 9/10\n",
            "25/25 [==============================] - 0s 4ms/step - loss: 0.5807 - accuracy: 0.7175 - val_loss: 0.5704 - val_accuracy: 0.7136\n",
            "Epoch 10/10\n",
            "25/25 [==============================] - 0s 4ms/step - loss: 0.5763 - accuracy: 0.7087 - val_loss: 0.5634 - val_accuracy: 0.7286\n",
            "Number of hidden layers:  1\n",
            "Number of neurons per layer:  100\n",
            "Epoch 1/10\n",
            "25/25 [==============================] - 1s 23ms/step - loss: 2.1116 - accuracy: 0.3140 - val_loss: 1.3721 - val_accuracy: 0.5276\n",
            "Epoch 2/10\n",
            "25/25 [==============================] - 0s 4ms/step - loss: 1.0709 - accuracy: 0.5095 - val_loss: 0.7686 - val_accuracy: 0.6583\n",
            "Epoch 3/10\n",
            "25/25 [==============================] - 0s 4ms/step - loss: 0.7279 - accuracy: 0.6280 - val_loss: 0.6497 - val_accuracy: 0.6784\n",
            "Epoch 4/10\n",
            "25/25 [==============================] - 0s 4ms/step - loss: 0.6516 - accuracy: 0.6608 - val_loss: 0.6088 - val_accuracy: 0.6985\n",
            "Epoch 5/10\n",
            "25/25 [==============================] - 0s 4ms/step - loss: 0.6242 - accuracy: 0.6658 - val_loss: 0.5876 - val_accuracy: 0.6884\n",
            "Epoch 6/10\n",
            "25/25 [==============================] - 0s 4ms/step - loss: 0.6035 - accuracy: 0.6948 - val_loss: 0.5957 - val_accuracy: 0.6884\n",
            "Epoch 7/10\n",
            "25/25 [==============================] - 0s 3ms/step - loss: 0.5920 - accuracy: 0.6999 - val_loss: 0.5693 - val_accuracy: 0.6935\n",
            "Epoch 8/10\n",
            "25/25 [==============================] - 0s 4ms/step - loss: 0.5826 - accuracy: 0.7112 - val_loss: 0.5761 - val_accuracy: 0.6884\n",
            "Epoch 9/10\n",
            "25/25 [==============================] - 0s 4ms/step - loss: 0.5785 - accuracy: 0.7150 - val_loss: 0.5699 - val_accuracy: 0.6884\n",
            "Epoch 10/10\n",
            "25/25 [==============================] - 0s 4ms/step - loss: 0.5690 - accuracy: 0.7125 - val_loss: 0.5583 - val_accuracy: 0.7136\n",
            "Number of hidden layers:  1\n",
            "Number of neurons per layer:  110\n",
            "Epoch 1/10\n",
            "25/25 [==============================] - 1s 10ms/step - loss: 1.3793 - accuracy: 0.5359 - val_loss: 0.8912 - val_accuracy: 0.6080\n",
            "Epoch 2/10\n",
            "25/25 [==============================] - 0s 4ms/step - loss: 0.7617 - accuracy: 0.6381 - val_loss: 0.6767 - val_accuracy: 0.6432\n",
            "Epoch 3/10\n",
            "25/25 [==============================] - 0s 4ms/step - loss: 0.6473 - accuracy: 0.6759 - val_loss: 0.6217 - val_accuracy: 0.6784\n",
            "Epoch 4/10\n",
            "25/25 [==============================] - 0s 4ms/step - loss: 0.6114 - accuracy: 0.6797 - val_loss: 0.5922 - val_accuracy: 0.6683\n",
            "Epoch 5/10\n",
            "25/25 [==============================] - 0s 4ms/step - loss: 0.5908 - accuracy: 0.6986 - val_loss: 0.5975 - val_accuracy: 0.6985\n",
            "Epoch 6/10\n",
            "25/25 [==============================] - 0s 4ms/step - loss: 0.5797 - accuracy: 0.7049 - val_loss: 0.5748 - val_accuracy: 0.6884\n",
            "Epoch 7/10\n",
            "25/25 [==============================] - 0s 4ms/step - loss: 0.5725 - accuracy: 0.7150 - val_loss: 0.5768 - val_accuracy: 0.6784\n",
            "Epoch 8/10\n",
            "25/25 [==============================] - 0s 4ms/step - loss: 0.5641 - accuracy: 0.7238 - val_loss: 0.5686 - val_accuracy: 0.6834\n",
            "Epoch 9/10\n",
            "25/25 [==============================] - 0s 4ms/step - loss: 0.5588 - accuracy: 0.7150 - val_loss: 0.5724 - val_accuracy: 0.6935\n",
            "Epoch 10/10\n",
            "25/25 [==============================] - 0s 3ms/step - loss: 0.5548 - accuracy: 0.7201 - val_loss: 0.5633 - val_accuracy: 0.6834\n",
            "Number of hidden layers:  3\n",
            "Number of neurons per layer:  10\n",
            "Epoch 1/10\n",
            "25/25 [==============================] - 1s 12ms/step - loss: 2.4395 - accuracy: 0.0290 - val_loss: 2.2668 - val_accuracy: 0.1759\n",
            "Epoch 2/10\n",
            "25/25 [==============================] - 0s 4ms/step - loss: 2.1687 - accuracy: 0.4023 - val_loss: 2.0625 - val_accuracy: 0.5075\n",
            "Epoch 3/10\n",
            "25/25 [==============================] - 0s 4ms/step - loss: 1.8987 - accuracy: 0.5536 - val_loss: 1.6915 - val_accuracy: 0.5377\n",
            "Epoch 4/10\n",
            "25/25 [==============================] - 0s 4ms/step - loss: 1.4454 - accuracy: 0.5435 - val_loss: 1.1982 - val_accuracy: 0.5176\n",
            "Epoch 5/10\n",
            "25/25 [==============================] - 0s 4ms/step - loss: 0.9936 - accuracy: 0.5662 - val_loss: 0.8236 - val_accuracy: 0.6231\n",
            "Epoch 6/10\n",
            "25/25 [==============================] - 0s 5ms/step - loss: 0.7599 - accuracy: 0.5876 - val_loss: 0.6926 - val_accuracy: 0.6231\n",
            "Epoch 7/10\n",
            "25/25 [==============================] - 0s 4ms/step - loss: 0.6949 - accuracy: 0.5990 - val_loss: 0.6636 - val_accuracy: 0.6482\n",
            "Epoch 8/10\n",
            "25/25 [==============================] - 0s 4ms/step - loss: 0.6708 - accuracy: 0.6192 - val_loss: 0.6376 - val_accuracy: 0.6533\n",
            "Epoch 9/10\n",
            "25/25 [==============================] - 0s 5ms/step - loss: 0.6540 - accuracy: 0.6280 - val_loss: 0.6278 - val_accuracy: 0.6683\n",
            "Epoch 10/10\n",
            "25/25 [==============================] - 0s 6ms/step - loss: 0.6428 - accuracy: 0.6393 - val_loss: 0.6155 - val_accuracy: 0.6734\n",
            "Number of hidden layers:  3\n",
            "Number of neurons per layer:  30\n",
            "Epoch 1/10\n",
            "25/25 [==============================] - 2s 17ms/step - loss: 2.1136 - accuracy: 0.2295 - val_loss: 1.7105 - val_accuracy: 0.5176\n",
            "Epoch 2/10\n",
            "25/25 [==============================] - 0s 6ms/step - loss: 1.2118 - accuracy: 0.5397 - val_loss: 0.8029 - val_accuracy: 0.6181\n",
            "Epoch 3/10\n",
            "25/25 [==============================] - 0s 6ms/step - loss: 0.6921 - accuracy: 0.6255 - val_loss: 0.6595 - val_accuracy: 0.6784\n",
            "Epoch 4/10\n",
            "25/25 [==============================] - 0s 6ms/step - loss: 0.6309 - accuracy: 0.6494 - val_loss: 0.6152 - val_accuracy: 0.6784\n",
            "Epoch 5/10\n",
            "25/25 [==============================] - 0s 6ms/step - loss: 0.6080 - accuracy: 0.6658 - val_loss: 0.5991 - val_accuracy: 0.6935\n",
            "Epoch 6/10\n",
            "25/25 [==============================] - 0s 6ms/step - loss: 0.5904 - accuracy: 0.6910 - val_loss: 0.5854 - val_accuracy: 0.7035\n",
            "Epoch 7/10\n",
            "25/25 [==============================] - 0s 6ms/step - loss: 0.5917 - accuracy: 0.6898 - val_loss: 0.5774 - val_accuracy: 0.6985\n",
            "Epoch 8/10\n",
            "25/25 [==============================] - 0s 5ms/step - loss: 0.5778 - accuracy: 0.6961 - val_loss: 0.5689 - val_accuracy: 0.7035\n",
            "Epoch 9/10\n",
            "25/25 [==============================] - 0s 5ms/step - loss: 0.5731 - accuracy: 0.7175 - val_loss: 0.6117 - val_accuracy: 0.6633\n",
            "Epoch 10/10\n",
            "25/25 [==============================] - 0s 6ms/step - loss: 0.5777 - accuracy: 0.7074 - val_loss: 0.5958 - val_accuracy: 0.6834\n",
            "Number of hidden layers:  3\n",
            "Number of neurons per layer:  50\n",
            "Epoch 1/10\n",
            "25/25 [==============================] - 1s 11ms/step - loss: 1.8695 - accuracy: 0.4515 - val_loss: 1.2057 - val_accuracy: 0.4724\n",
            "Epoch 2/10\n",
            "25/25 [==============================] - 0s 4ms/step - loss: 0.8096 - accuracy: 0.6078 - val_loss: 0.6579 - val_accuracy: 0.6131\n",
            "Epoch 3/10\n",
            "25/25 [==============================] - 0s 4ms/step - loss: 0.6163 - accuracy: 0.6910 - val_loss: 0.5779 - val_accuracy: 0.6985\n",
            "Epoch 4/10\n",
            "25/25 [==============================] - 0s 4ms/step - loss: 0.5944 - accuracy: 0.6810 - val_loss: 0.5785 - val_accuracy: 0.6935\n",
            "Epoch 5/10\n",
            "25/25 [==============================] - 0s 4ms/step - loss: 0.5675 - accuracy: 0.7150 - val_loss: 0.5662 - val_accuracy: 0.6985\n",
            "Epoch 6/10\n",
            "25/25 [==============================] - 0s 4ms/step - loss: 0.5622 - accuracy: 0.7188 - val_loss: 0.5884 - val_accuracy: 0.7085\n",
            "Epoch 7/10\n",
            "25/25 [==============================] - 0s 5ms/step - loss: 0.5550 - accuracy: 0.7163 - val_loss: 0.5507 - val_accuracy: 0.6884\n",
            "Epoch 8/10\n",
            "25/25 [==============================] - 0s 4ms/step - loss: 0.5461 - accuracy: 0.7364 - val_loss: 0.5541 - val_accuracy: 0.7085\n",
            "Epoch 9/10\n",
            "25/25 [==============================] - 0s 4ms/step - loss: 0.5373 - accuracy: 0.7289 - val_loss: 0.5547 - val_accuracy: 0.7085\n",
            "Epoch 10/10\n",
            "25/25 [==============================] - 0s 3ms/step - loss: 0.5295 - accuracy: 0.7415 - val_loss: 0.5485 - val_accuracy: 0.7035\n",
            "Number of hidden layers:  3\n",
            "Number of neurons per layer:  70\n",
            "Epoch 1/10\n",
            "25/25 [==============================] - 1s 10ms/step - loss: 1.4939 - accuracy: 0.4805 - val_loss: 0.7801 - val_accuracy: 0.5930\n",
            "Epoch 2/10\n",
            "25/25 [==============================] - 0s 5ms/step - loss: 0.6889 - accuracy: 0.5990 - val_loss: 0.5961 - val_accuracy: 0.6884\n",
            "Epoch 3/10\n",
            "25/25 [==============================] - 0s 4ms/step - loss: 0.6004 - accuracy: 0.6910 - val_loss: 0.5596 - val_accuracy: 0.7035\n",
            "Epoch 4/10\n",
            "25/25 [==============================] - 0s 4ms/step - loss: 0.5783 - accuracy: 0.7125 - val_loss: 0.5585 - val_accuracy: 0.6985\n",
            "Epoch 5/10\n",
            "25/25 [==============================] - 0s 5ms/step - loss: 0.5639 - accuracy: 0.7188 - val_loss: 0.5534 - val_accuracy: 0.6834\n",
            "Epoch 6/10\n",
            "25/25 [==============================] - 0s 5ms/step - loss: 0.5517 - accuracy: 0.7276 - val_loss: 0.5587 - val_accuracy: 0.7186\n",
            "Epoch 7/10\n",
            "25/25 [==============================] - 0s 4ms/step - loss: 0.5515 - accuracy: 0.7201 - val_loss: 0.5675 - val_accuracy: 0.7085\n",
            "Epoch 8/10\n",
            "25/25 [==============================] - 0s 4ms/step - loss: 0.5432 - accuracy: 0.7503 - val_loss: 0.5889 - val_accuracy: 0.6935\n",
            "Epoch 9/10\n",
            "25/25 [==============================] - 0s 4ms/step - loss: 0.5350 - accuracy: 0.7352 - val_loss: 0.5861 - val_accuracy: 0.7085\n",
            "Epoch 10/10\n",
            "25/25 [==============================] - 0s 4ms/step - loss: 0.5225 - accuracy: 0.7465 - val_loss: 0.5507 - val_accuracy: 0.6884\n",
            "Number of hidden layers:  3\n",
            "Number of neurons per layer:  100\n",
            "Epoch 1/10\n",
            "25/25 [==============================] - 1s 12ms/step - loss: 1.3415 - accuracy: 0.5069 - val_loss: 0.6716 - val_accuracy: 0.5477\n",
            "Epoch 2/10\n",
            "25/25 [==============================] - 0s 5ms/step - loss: 0.6358 - accuracy: 0.6393 - val_loss: 0.5958 - val_accuracy: 0.6784\n",
            "Epoch 3/10\n",
            "25/25 [==============================] - 0s 4ms/step - loss: 0.5956 - accuracy: 0.6974 - val_loss: 0.5788 - val_accuracy: 0.7136\n",
            "Epoch 4/10\n",
            "25/25 [==============================] - 0s 5ms/step - loss: 0.5736 - accuracy: 0.7062 - val_loss: 0.5611 - val_accuracy: 0.6935\n",
            "Epoch 5/10\n",
            "25/25 [==============================] - 0s 5ms/step - loss: 0.5565 - accuracy: 0.7289 - val_loss: 0.5637 - val_accuracy: 0.6985\n",
            "Epoch 6/10\n",
            "25/25 [==============================] - 0s 5ms/step - loss: 0.5553 - accuracy: 0.7339 - val_loss: 0.5721 - val_accuracy: 0.7085\n",
            "Epoch 7/10\n",
            "25/25 [==============================] - 0s 4ms/step - loss: 0.5382 - accuracy: 0.7301 - val_loss: 0.5639 - val_accuracy: 0.6884\n",
            "Epoch 8/10\n",
            "25/25 [==============================] - 0s 5ms/step - loss: 0.5253 - accuracy: 0.7516 - val_loss: 0.5617 - val_accuracy: 0.6884\n",
            "Epoch 9/10\n",
            "25/25 [==============================] - 0s 5ms/step - loss: 0.5177 - accuracy: 0.7415 - val_loss: 0.5708 - val_accuracy: 0.6985\n",
            "Epoch 10/10\n",
            "25/25 [==============================] - 0s 4ms/step - loss: 0.5081 - accuracy: 0.7591 - val_loss: 0.5879 - val_accuracy: 0.6935\n",
            "Number of hidden layers:  3\n",
            "Number of neurons per layer:  110\n",
            "Epoch 1/10\n",
            "25/25 [==============================] - 1s 13ms/step - loss: 1.2311 - accuracy: 0.5044 - val_loss: 0.6431 - val_accuracy: 0.6734\n",
            "Epoch 2/10\n",
            "25/25 [==============================] - 0s 9ms/step - loss: 0.6198 - accuracy: 0.6709 - val_loss: 0.5898 - val_accuracy: 0.6884\n",
            "Epoch 3/10\n",
            "25/25 [==============================] - 0s 7ms/step - loss: 0.5741 - accuracy: 0.7037 - val_loss: 0.5558 - val_accuracy: 0.7085\n",
            "Epoch 4/10\n",
            "25/25 [==============================] - 0s 7ms/step - loss: 0.5683 - accuracy: 0.7100 - val_loss: 0.5474 - val_accuracy: 0.7136\n",
            "Epoch 5/10\n",
            "25/25 [==============================] - 0s 8ms/step - loss: 0.5451 - accuracy: 0.7364 - val_loss: 0.5581 - val_accuracy: 0.7186\n",
            "Epoch 6/10\n",
            "25/25 [==============================] - 0s 7ms/step - loss: 0.5419 - accuracy: 0.7339 - val_loss: 0.5569 - val_accuracy: 0.7136\n",
            "Epoch 7/10\n",
            "25/25 [==============================] - 0s 7ms/step - loss: 0.5276 - accuracy: 0.7440 - val_loss: 0.5656 - val_accuracy: 0.7085\n",
            "Epoch 8/10\n",
            "25/25 [==============================] - 0s 6ms/step - loss: 0.5093 - accuracy: 0.7528 - val_loss: 0.5623 - val_accuracy: 0.7136\n",
            "Epoch 9/10\n",
            "25/25 [==============================] - 0s 8ms/step - loss: 0.5170 - accuracy: 0.7465 - val_loss: 0.6370 - val_accuracy: 0.6784\n",
            "Epoch 10/10\n",
            "25/25 [==============================] - 0s 7ms/step - loss: 0.4863 - accuracy: 0.7818 - val_loss: 0.6286 - val_accuracy: 0.6884\n",
            "Number of hidden layers:  5\n",
            "Number of neurons per layer:  10\n",
            "Epoch 1/10\n",
            "25/25 [==============================] - 2s 13ms/step - loss: 2.2359 - accuracy: 0.4199 - val_loss: 2.1321 - val_accuracy: 0.5276\n",
            "Epoch 2/10\n",
            "25/25 [==============================] - 0s 5ms/step - loss: 1.9716 - accuracy: 0.4842 - val_loss: 1.7218 - val_accuracy: 0.5276\n",
            "Epoch 3/10\n",
            "25/25 [==============================] - 0s 4ms/step - loss: 1.4359 - accuracy: 0.4842 - val_loss: 1.0870 - val_accuracy: 0.5276\n",
            "Epoch 4/10\n",
            "25/25 [==============================] - 0s 4ms/step - loss: 1.0001 - accuracy: 0.4842 - val_loss: 0.8471 - val_accuracy: 0.5276\n",
            "Epoch 5/10\n",
            "25/25 [==============================] - 0s 5ms/step - loss: 0.8277 - accuracy: 0.4842 - val_loss: 0.7410 - val_accuracy: 0.5276\n",
            "Epoch 6/10\n",
            "25/25 [==============================] - 0s 5ms/step - loss: 0.7389 - accuracy: 0.4842 - val_loss: 0.7024 - val_accuracy: 0.5276\n",
            "Epoch 7/10\n",
            "25/25 [==============================] - 0s 5ms/step - loss: 0.7025 - accuracy: 0.4830 - val_loss: 0.6898 - val_accuracy: 0.5276\n",
            "Epoch 8/10\n",
            "25/25 [==============================] - 0s 4ms/step - loss: 0.6939 - accuracy: 0.4918 - val_loss: 0.6894 - val_accuracy: 0.5980\n",
            "Epoch 9/10\n",
            "25/25 [==============================] - 0s 5ms/step - loss: 0.6931 - accuracy: 0.4830 - val_loss: 0.6864 - val_accuracy: 0.5779\n",
            "Epoch 10/10\n",
            "25/25 [==============================] - 0s 5ms/step - loss: 0.6900 - accuracy: 0.6293 - val_loss: 0.6851 - val_accuracy: 0.6181\n",
            "Number of hidden layers:  5\n",
            "Number of neurons per layer:  30\n",
            "Epoch 1/10\n",
            "25/25 [==============================] - 2s 13ms/step - loss: 2.0429 - accuracy: 0.4161 - val_loss: 1.6211 - val_accuracy: 0.5276\n",
            "Epoch 2/10\n",
            "25/25 [==============================] - 0s 4ms/step - loss: 1.1299 - accuracy: 0.4893 - val_loss: 0.7515 - val_accuracy: 0.4724\n",
            "Epoch 3/10\n",
            "25/25 [==============================] - 0s 5ms/step - loss: 0.7278 - accuracy: 0.5057 - val_loss: 0.7069 - val_accuracy: 0.4724\n",
            "Epoch 4/10\n",
            "25/25 [==============================] - 0s 5ms/step - loss: 0.6931 - accuracy: 0.5549 - val_loss: 0.6861 - val_accuracy: 0.5628\n",
            "Epoch 5/10\n",
            "25/25 [==============================] - 0s 4ms/step - loss: 0.6846 - accuracy: 0.5561 - val_loss: 0.6725 - val_accuracy: 0.6683\n",
            "Epoch 6/10\n",
            "25/25 [==============================] - 0s 5ms/step - loss: 0.6674 - accuracy: 0.6066 - val_loss: 0.6507 - val_accuracy: 0.6884\n",
            "Epoch 7/10\n",
            "25/25 [==============================] - 0s 5ms/step - loss: 0.6265 - accuracy: 0.6860 - val_loss: 0.5867 - val_accuracy: 0.6884\n",
            "Epoch 8/10\n",
            "25/25 [==============================] - 0s 4ms/step - loss: 0.5843 - accuracy: 0.6936 - val_loss: 0.5663 - val_accuracy: 0.7035\n",
            "Epoch 9/10\n",
            "25/25 [==============================] - 0s 5ms/step - loss: 0.5772 - accuracy: 0.7024 - val_loss: 0.5634 - val_accuracy: 0.7035\n",
            "Epoch 10/10\n",
            "25/25 [==============================] - 0s 4ms/step - loss: 0.5770 - accuracy: 0.7087 - val_loss: 0.5476 - val_accuracy: 0.7085\n",
            "Number of hidden layers:  5\n",
            "Number of neurons per layer:  50\n",
            "Epoch 1/10\n",
            "25/25 [==============================] - 2s 13ms/step - loss: 1.5942 - accuracy: 0.4830 - val_loss: 0.7491 - val_accuracy: 0.5276\n",
            "Epoch 2/10\n",
            "25/25 [==============================] - 0s 5ms/step - loss: 0.6568 - accuracy: 0.6406 - val_loss: 0.6291 - val_accuracy: 0.6533\n",
            "Epoch 3/10\n",
            "25/25 [==============================] - 0s 4ms/step - loss: 0.6232 - accuracy: 0.6444 - val_loss: 0.5795 - val_accuracy: 0.6633\n",
            "Epoch 4/10\n",
            "25/25 [==============================] - 0s 5ms/step - loss: 0.5834 - accuracy: 0.6961 - val_loss: 0.5676 - val_accuracy: 0.6734\n",
            "Epoch 5/10\n",
            "25/25 [==============================] - 0s 4ms/step - loss: 0.5613 - accuracy: 0.7213 - val_loss: 0.6612 - val_accuracy: 0.6583\n",
            "Epoch 6/10\n",
            "25/25 [==============================] - 0s 4ms/step - loss: 0.5907 - accuracy: 0.6974 - val_loss: 0.5554 - val_accuracy: 0.6784\n",
            "Epoch 7/10\n",
            "25/25 [==============================] - 0s 4ms/step - loss: 0.5520 - accuracy: 0.7276 - val_loss: 0.5780 - val_accuracy: 0.7085\n",
            "Epoch 8/10\n",
            "25/25 [==============================] - 0s 4ms/step - loss: 0.5499 - accuracy: 0.7264 - val_loss: 0.5683 - val_accuracy: 0.7085\n",
            "Epoch 9/10\n",
            "25/25 [==============================] - 0s 4ms/step - loss: 0.5459 - accuracy: 0.7339 - val_loss: 0.5602 - val_accuracy: 0.7136\n",
            "Epoch 10/10\n",
            "25/25 [==============================] - 0s 5ms/step - loss: 0.5249 - accuracy: 0.7402 - val_loss: 0.5541 - val_accuracy: 0.6884\n",
            "Number of hidden layers:  5\n",
            "Number of neurons per layer:  70\n",
            "Epoch 1/10\n",
            "25/25 [==============================] - 3s 20ms/step - loss: 1.6580 - accuracy: 0.4439 - val_loss: 0.6979 - val_accuracy: 0.6332\n",
            "Epoch 2/10\n",
            "25/25 [==============================] - 0s 7ms/step - loss: 0.6488 - accuracy: 0.6381 - val_loss: 0.6269 - val_accuracy: 0.6482\n",
            "Epoch 3/10\n",
            "25/25 [==============================] - 0s 7ms/step - loss: 0.6220 - accuracy: 0.6633 - val_loss: 0.5577 - val_accuracy: 0.7186\n",
            "Epoch 4/10\n",
            "25/25 [==============================] - 0s 7ms/step - loss: 0.5847 - accuracy: 0.6898 - val_loss: 0.5510 - val_accuracy: 0.7136\n",
            "Epoch 5/10\n",
            "25/25 [==============================] - 0s 8ms/step - loss: 0.5614 - accuracy: 0.7024 - val_loss: 0.5472 - val_accuracy: 0.7236\n",
            "Epoch 6/10\n",
            "25/25 [==============================] - 0s 7ms/step - loss: 0.5523 - accuracy: 0.7238 - val_loss: 0.5498 - val_accuracy: 0.6935\n",
            "Epoch 7/10\n",
            "25/25 [==============================] - 0s 7ms/step - loss: 0.5429 - accuracy: 0.7314 - val_loss: 0.5536 - val_accuracy: 0.7085\n",
            "Epoch 8/10\n",
            "25/25 [==============================] - 0s 6ms/step - loss: 0.5256 - accuracy: 0.7415 - val_loss: 0.5527 - val_accuracy: 0.6935\n",
            "Epoch 9/10\n",
            "25/25 [==============================] - 0s 7ms/step - loss: 0.5296 - accuracy: 0.7352 - val_loss: 0.6116 - val_accuracy: 0.6884\n",
            "Epoch 10/10\n",
            "25/25 [==============================] - 0s 7ms/step - loss: 0.5211 - accuracy: 0.7415 - val_loss: 0.5693 - val_accuracy: 0.6985\n",
            "Number of hidden layers:  5\n",
            "Number of neurons per layer:  100\n",
            "Epoch 1/10\n",
            "25/25 [==============================] - 2s 44ms/step - loss: 1.1628 - accuracy: 0.5082 - val_loss: 0.6647 - val_accuracy: 0.5779\n",
            "Epoch 2/10\n",
            "25/25 [==============================] - 0s 5ms/step - loss: 0.6634 - accuracy: 0.6129 - val_loss: 0.6684 - val_accuracy: 0.5829\n",
            "Epoch 3/10\n",
            "25/25 [==============================] - 0s 5ms/step - loss: 0.6053 - accuracy: 0.6784 - val_loss: 0.5618 - val_accuracy: 0.7085\n",
            "Epoch 4/10\n",
            "25/25 [==============================] - 0s 8ms/step - loss: 0.5899 - accuracy: 0.7037 - val_loss: 0.5609 - val_accuracy: 0.7236\n",
            "Epoch 5/10\n",
            "25/25 [==============================] - 0s 18ms/step - loss: 0.5728 - accuracy: 0.7074 - val_loss: 0.5659 - val_accuracy: 0.7136\n",
            "Epoch 6/10\n",
            "25/25 [==============================] - 0s 12ms/step - loss: 0.5434 - accuracy: 0.7377 - val_loss: 0.5548 - val_accuracy: 0.7035\n",
            "Epoch 7/10\n",
            "25/25 [==============================] - 0s 10ms/step - loss: 0.5255 - accuracy: 0.7465 - val_loss: 0.5703 - val_accuracy: 0.6985\n",
            "Epoch 8/10\n",
            "25/25 [==============================] - 0s 6ms/step - loss: 0.5255 - accuracy: 0.7276 - val_loss: 0.7247 - val_accuracy: 0.6633\n",
            "Epoch 9/10\n",
            "25/25 [==============================] - 0s 6ms/step - loss: 0.5518 - accuracy: 0.7301 - val_loss: 0.5733 - val_accuracy: 0.6985\n",
            "Epoch 10/10\n",
            "25/25 [==============================] - 0s 15ms/step - loss: 0.4952 - accuracy: 0.7667 - val_loss: 0.5748 - val_accuracy: 0.7085\n",
            "Number of hidden layers:  5\n",
            "Number of neurons per layer:  110\n",
            "Epoch 1/10\n",
            "25/25 [==============================] - 2s 14ms/step - loss: 1.2813 - accuracy: 0.5032 - val_loss: 0.6469 - val_accuracy: 0.6834\n",
            "Epoch 2/10\n",
            "25/25 [==============================] - 0s 5ms/step - loss: 0.6754 - accuracy: 0.6053 - val_loss: 0.6666 - val_accuracy: 0.5628\n",
            "Epoch 3/10\n",
            "25/25 [==============================] - 0s 5ms/step - loss: 0.6328 - accuracy: 0.6393 - val_loss: 0.6468 - val_accuracy: 0.6583\n",
            "Epoch 4/10\n",
            "25/25 [==============================] - 0s 5ms/step - loss: 0.5854 - accuracy: 0.7100 - val_loss: 0.5492 - val_accuracy: 0.7186\n",
            "Epoch 5/10\n",
            "25/25 [==============================] - 0s 6ms/step - loss: 0.5563 - accuracy: 0.7175 - val_loss: 0.5521 - val_accuracy: 0.7035\n",
            "Epoch 6/10\n",
            "25/25 [==============================] - 0s 5ms/step - loss: 0.5463 - accuracy: 0.7238 - val_loss: 0.5602 - val_accuracy: 0.7085\n",
            "Epoch 7/10\n",
            "25/25 [==============================] - 0s 5ms/step - loss: 0.5402 - accuracy: 0.7276 - val_loss: 0.5455 - val_accuracy: 0.6935\n",
            "Epoch 8/10\n",
            "25/25 [==============================] - 0s 6ms/step - loss: 0.5432 - accuracy: 0.7251 - val_loss: 0.5608 - val_accuracy: 0.6935\n",
            "Epoch 9/10\n",
            "25/25 [==============================] - 0s 5ms/step - loss: 0.5158 - accuracy: 0.7579 - val_loss: 0.5551 - val_accuracy: 0.7085\n",
            "Epoch 10/10\n",
            "25/25 [==============================] - 0s 5ms/step - loss: 0.4832 - accuracy: 0.7743 - val_loss: 0.5940 - val_accuracy: 0.6935\n",
            "Number of hidden layers:  8\n",
            "Number of neurons per layer:  10\n",
            "Epoch 1/10\n",
            "25/25 [==============================] - 2s 15ms/step - loss: 2.2855 - accuracy: 0.4262 - val_loss: 2.2633 - val_accuracy: 0.5276\n",
            "Epoch 2/10\n",
            "25/25 [==============================] - 0s 7ms/step - loss: 2.2449 - accuracy: 0.4842 - val_loss: 2.2245 - val_accuracy: 0.5276\n",
            "Epoch 3/10\n",
            "25/25 [==============================] - 0s 7ms/step - loss: 2.2065 - accuracy: 0.4842 - val_loss: 2.1865 - val_accuracy: 0.5276\n",
            "Epoch 4/10\n",
            "25/25 [==============================] - 0s 7ms/step - loss: 2.1687 - accuracy: 0.4842 - val_loss: 2.1490 - val_accuracy: 0.5276\n",
            "Epoch 5/10\n",
            "25/25 [==============================] - 0s 7ms/step - loss: 2.1314 - accuracy: 0.4842 - val_loss: 2.1121 - val_accuracy: 0.5276\n",
            "Epoch 6/10\n",
            "25/25 [==============================] - 0s 6ms/step - loss: 2.0948 - accuracy: 0.4842 - val_loss: 2.0759 - val_accuracy: 0.5276\n",
            "Epoch 7/10\n",
            "25/25 [==============================] - 0s 7ms/step - loss: 2.0589 - accuracy: 0.4842 - val_loss: 2.0402 - val_accuracy: 0.5276\n",
            "Epoch 8/10\n",
            "25/25 [==============================] - 0s 7ms/step - loss: 2.0236 - accuracy: 0.4842 - val_loss: 2.0052 - val_accuracy: 0.5276\n",
            "Epoch 9/10\n",
            "25/25 [==============================] - 0s 7ms/step - loss: 1.9889 - accuracy: 0.4603 - val_loss: 1.9710 - val_accuracy: 0.5276\n",
            "Epoch 10/10\n",
            "25/25 [==============================] - 0s 6ms/step - loss: 1.9549 - accuracy: 0.4842 - val_loss: 1.9373 - val_accuracy: 0.5276\n",
            "Number of hidden layers:  8\n",
            "Number of neurons per layer:  30\n",
            "Epoch 1/10\n",
            "25/25 [==============================] - 3s 17ms/step - loss: 2.0913 - accuracy: 0.4817 - val_loss: 1.5895 - val_accuracy: 0.5276\n",
            "Epoch 2/10\n",
            "25/25 [==============================] - 0s 5ms/step - loss: 0.9763 - accuracy: 0.5044 - val_loss: 0.6948 - val_accuracy: 0.5276\n",
            "Epoch 3/10\n",
            "25/25 [==============================] - 0s 5ms/step - loss: 0.7027 - accuracy: 0.5107 - val_loss: 0.6993 - val_accuracy: 0.4824\n",
            "Epoch 4/10\n",
            "25/25 [==============================] - 0s 5ms/step - loss: 0.6773 - accuracy: 0.5637 - val_loss: 0.6532 - val_accuracy: 0.5628\n",
            "Epoch 5/10\n",
            "25/25 [==============================] - 0s 5ms/step - loss: 0.6386 - accuracy: 0.6204 - val_loss: 0.6142 - val_accuracy: 0.6482\n",
            "Epoch 6/10\n",
            "25/25 [==============================] - 0s 5ms/step - loss: 0.6237 - accuracy: 0.6696 - val_loss: 0.6529 - val_accuracy: 0.6281\n",
            "Epoch 7/10\n",
            "25/25 [==============================] - 0s 5ms/step - loss: 0.6166 - accuracy: 0.6810 - val_loss: 0.6074 - val_accuracy: 0.6834\n",
            "Epoch 8/10\n",
            "25/25 [==============================] - 0s 5ms/step - loss: 0.5838 - accuracy: 0.7062 - val_loss: 0.5799 - val_accuracy: 0.6734\n",
            "Epoch 9/10\n",
            "25/25 [==============================] - 0s 4ms/step - loss: 0.5689 - accuracy: 0.7238 - val_loss: 0.5779 - val_accuracy: 0.6633\n",
            "Epoch 10/10\n",
            "25/25 [==============================] - 0s 5ms/step - loss: 0.5745 - accuracy: 0.7112 - val_loss: 0.5896 - val_accuracy: 0.6633\n",
            "Number of hidden layers:  8\n",
            "Number of neurons per layer:  50\n",
            "Epoch 1/10\n",
            "25/25 [==============================] - 2s 13ms/step - loss: 1.7405 - accuracy: 0.4590 - val_loss: 0.7524 - val_accuracy: 0.5276\n",
            "Epoch 2/10\n",
            "25/25 [==============================] - 0s 5ms/step - loss: 0.7085 - accuracy: 0.5208 - val_loss: 0.6785 - val_accuracy: 0.5276\n",
            "Epoch 3/10\n",
            "25/25 [==============================] - 0s 5ms/step - loss: 0.6974 - accuracy: 0.4968 - val_loss: 0.6790 - val_accuracy: 0.5276\n",
            "Epoch 4/10\n",
            "25/25 [==============================] - 0s 5ms/step - loss: 0.6770 - accuracy: 0.5612 - val_loss: 0.7045 - val_accuracy: 0.4874\n",
            "Epoch 5/10\n",
            "25/25 [==============================] - 0s 5ms/step - loss: 0.6284 - accuracy: 0.6734 - val_loss: 0.5825 - val_accuracy: 0.6884\n",
            "Epoch 6/10\n",
            "25/25 [==============================] - 0s 5ms/step - loss: 0.6067 - accuracy: 0.7011 - val_loss: 0.5751 - val_accuracy: 0.6985\n",
            "Epoch 7/10\n",
            "25/25 [==============================] - 0s 6ms/step - loss: 0.5712 - accuracy: 0.7112 - val_loss: 0.5627 - val_accuracy: 0.6935\n",
            "Epoch 8/10\n",
            "25/25 [==============================] - 0s 5ms/step - loss: 0.5652 - accuracy: 0.7201 - val_loss: 0.5778 - val_accuracy: 0.7035\n",
            "Epoch 9/10\n",
            "25/25 [==============================] - 0s 6ms/step - loss: 0.5534 - accuracy: 0.7314 - val_loss: 0.5721 - val_accuracy: 0.6985\n",
            "Epoch 10/10\n",
            "25/25 [==============================] - 0s 5ms/step - loss: 0.5460 - accuracy: 0.7440 - val_loss: 0.5638 - val_accuracy: 0.7035\n",
            "Number of hidden layers:  8\n",
            "Number of neurons per layer:  70\n",
            "Epoch 1/10\n",
            "25/25 [==============================] - 2s 14ms/step - loss: 1.6210 - accuracy: 0.4968 - val_loss: 0.7406 - val_accuracy: 0.4724\n",
            "Epoch 2/10\n",
            "25/25 [==============================] - 0s 5ms/step - loss: 0.7076 - accuracy: 0.5296 - val_loss: 0.6530 - val_accuracy: 0.5779\n",
            "Epoch 3/10\n",
            "25/25 [==============================] - 0s 5ms/step - loss: 0.6364 - accuracy: 0.6431 - val_loss: 0.5594 - val_accuracy: 0.7136\n",
            "Epoch 4/10\n",
            "25/25 [==============================] - 0s 5ms/step - loss: 0.5851 - accuracy: 0.6999 - val_loss: 0.5617 - val_accuracy: 0.7186\n",
            "Epoch 5/10\n",
            "25/25 [==============================] - 0s 6ms/step - loss: 0.5753 - accuracy: 0.7188 - val_loss: 0.5575 - val_accuracy: 0.7136\n",
            "Epoch 6/10\n",
            "25/25 [==============================] - 0s 5ms/step - loss: 0.5559 - accuracy: 0.7314 - val_loss: 0.6512 - val_accuracy: 0.6884\n",
            "Epoch 7/10\n",
            "25/25 [==============================] - 0s 5ms/step - loss: 0.5754 - accuracy: 0.7150 - val_loss: 0.5614 - val_accuracy: 0.6985\n",
            "Epoch 8/10\n",
            "25/25 [==============================] - 0s 6ms/step - loss: 0.5331 - accuracy: 0.7402 - val_loss: 0.5832 - val_accuracy: 0.7085\n",
            "Epoch 9/10\n",
            "25/25 [==============================] - 0s 5ms/step - loss: 0.5330 - accuracy: 0.7440 - val_loss: 0.5510 - val_accuracy: 0.7186\n",
            "Epoch 10/10\n",
            "25/25 [==============================] - 0s 5ms/step - loss: 0.5342 - accuracy: 0.7541 - val_loss: 0.5628 - val_accuracy: 0.7085\n",
            "Number of hidden layers:  8\n",
            "Number of neurons per layer:  100\n",
            "Epoch 1/10\n",
            "25/25 [==============================] - 3s 22ms/step - loss: 1.3910 - accuracy: 0.5170 - val_loss: 0.6806 - val_accuracy: 0.5276\n",
            "Epoch 2/10\n",
            "25/25 [==============================] - 0s 9ms/step - loss: 0.7069 - accuracy: 0.5624 - val_loss: 0.6311 - val_accuracy: 0.6935\n",
            "Epoch 3/10\n",
            "25/25 [==============================] - 0s 9ms/step - loss: 0.6172 - accuracy: 0.6784 - val_loss: 0.5919 - val_accuracy: 0.6884\n",
            "Epoch 4/10\n",
            "25/25 [==============================] - 0s 9ms/step - loss: 0.5869 - accuracy: 0.7087 - val_loss: 0.5974 - val_accuracy: 0.6683\n",
            "Epoch 5/10\n",
            "25/25 [==============================] - 0s 8ms/step - loss: 0.5615 - accuracy: 0.7226 - val_loss: 0.5759 - val_accuracy: 0.6935\n",
            "Epoch 6/10\n",
            "25/25 [==============================] - 0s 10ms/step - loss: 0.5450 - accuracy: 0.7364 - val_loss: 0.5657 - val_accuracy: 0.7035\n",
            "Epoch 7/10\n",
            "25/25 [==============================] - 0s 6ms/step - loss: 0.5278 - accuracy: 0.7528 - val_loss: 0.5630 - val_accuracy: 0.7035\n",
            "Epoch 8/10\n",
            "25/25 [==============================] - 0s 7ms/step - loss: 0.5153 - accuracy: 0.7692 - val_loss: 0.5755 - val_accuracy: 0.7085\n",
            "Epoch 9/10\n",
            "25/25 [==============================] - 0s 6ms/step - loss: 0.5024 - accuracy: 0.7629 - val_loss: 0.5718 - val_accuracy: 0.6935\n",
            "Epoch 10/10\n",
            "25/25 [==============================] - 0s 6ms/step - loss: 0.4728 - accuracy: 0.7881 - val_loss: 0.7243 - val_accuracy: 0.6935\n",
            "Number of hidden layers:  8\n",
            "Number of neurons per layer:  110\n",
            "Epoch 1/10\n",
            "25/25 [==============================] - 3s 15ms/step - loss: 1.1528 - accuracy: 0.5120 - val_loss: 0.8126 - val_accuracy: 0.4724\n",
            "Epoch 2/10\n",
            "25/25 [==============================] - 0s 6ms/step - loss: 0.7243 - accuracy: 0.5019 - val_loss: 0.7413 - val_accuracy: 0.4724\n",
            "Epoch 3/10\n",
            "25/25 [==============================] - 0s 6ms/step - loss: 0.6745 - accuracy: 0.5927 - val_loss: 0.6195 - val_accuracy: 0.6834\n",
            "Epoch 4/10\n",
            "25/25 [==============================] - 0s 7ms/step - loss: 0.5927 - accuracy: 0.7011 - val_loss: 0.5787 - val_accuracy: 0.6734\n",
            "Epoch 5/10\n",
            "25/25 [==============================] - 0s 8ms/step - loss: 0.5797 - accuracy: 0.7289 - val_loss: 0.5765 - val_accuracy: 0.7035\n",
            "Epoch 6/10\n",
            "25/25 [==============================] - 0s 7ms/step - loss: 0.5501 - accuracy: 0.7478 - val_loss: 0.5650 - val_accuracy: 0.6985\n",
            "Epoch 7/10\n",
            "25/25 [==============================] - 0s 8ms/step - loss: 0.5406 - accuracy: 0.7352 - val_loss: 0.5655 - val_accuracy: 0.7236\n",
            "Epoch 8/10\n",
            "25/25 [==============================] - 0s 7ms/step - loss: 0.5304 - accuracy: 0.7617 - val_loss: 0.5997 - val_accuracy: 0.7085\n",
            "Epoch 9/10\n",
            "25/25 [==============================] - 0s 7ms/step - loss: 0.4964 - accuracy: 0.7743 - val_loss: 0.6093 - val_accuracy: 0.7035\n",
            "Epoch 10/10\n",
            "25/25 [==============================] - 0s 7ms/step - loss: 0.4866 - accuracy: 0.7768 - val_loss: 0.7020 - val_accuracy: 0.6382\n",
            "Number of hidden layers:  15\n",
            "Number of neurons per layer:  10\n",
            "Epoch 1/10\n",
            "25/25 [==============================] - 3s 17ms/step - loss: 2.2708 - accuracy: 0.4653 - val_loss: 2.2291 - val_accuracy: 0.5276\n",
            "Epoch 2/10\n",
            "25/25 [==============================] - 0s 5ms/step - loss: 2.1691 - accuracy: 0.4842 - val_loss: 2.0655 - val_accuracy: 0.5276\n",
            "Epoch 3/10\n",
            "25/25 [==============================] - 0s 5ms/step - loss: 1.7921 - accuracy: 0.4842 - val_loss: 1.2547 - val_accuracy: 0.5276\n",
            "Epoch 4/10\n",
            "25/25 [==============================] - 0s 6ms/step - loss: 0.9899 - accuracy: 0.4842 - val_loss: 0.7896 - val_accuracy: 0.5276\n",
            "Epoch 5/10\n",
            "25/25 [==============================] - 0s 6ms/step - loss: 0.7600 - accuracy: 0.4842 - val_loss: 0.7047 - val_accuracy: 0.5276\n",
            "Epoch 6/10\n",
            "25/25 [==============================] - 0s 5ms/step - loss: 0.7037 - accuracy: 0.4943 - val_loss: 0.6984 - val_accuracy: 0.4724\n",
            "Epoch 7/10\n",
            "25/25 [==============================] - 0s 5ms/step - loss: 0.6995 - accuracy: 0.4893 - val_loss: 0.6960 - val_accuracy: 0.4724\n",
            "Epoch 8/10\n",
            "25/25 [==============================] - 0s 5ms/step - loss: 0.6956 - accuracy: 0.5435 - val_loss: 0.6891 - val_accuracy: 0.5276\n",
            "Epoch 9/10\n",
            "25/25 [==============================] - 0s 6ms/step - loss: 0.6953 - accuracy: 0.4842 - val_loss: 0.6900 - val_accuracy: 0.5276\n",
            "Epoch 10/10\n",
            "25/25 [==============================] - 0s 10ms/step - loss: 0.6951 - accuracy: 0.5107 - val_loss: 0.6865 - val_accuracy: 0.5276\n",
            "Number of hidden layers:  15\n",
            "Number of neurons per layer:  30\n",
            "Epoch 1/10\n",
            "25/25 [==============================] - 5s 19ms/step - loss: 1.9179 - accuracy: 0.5069 - val_loss: 1.1309 - val_accuracy: 0.4724\n",
            "Epoch 2/10\n",
            "25/25 [==============================] - 0s 7ms/step - loss: 0.7871 - accuracy: 0.5208 - val_loss: 0.7421 - val_accuracy: 0.4724\n",
            "Epoch 3/10\n",
            "25/25 [==============================] - 0s 7ms/step - loss: 0.7123 - accuracy: 0.4792 - val_loss: 0.6932 - val_accuracy: 0.5276\n",
            "Epoch 4/10\n",
            "25/25 [==============================] - 0s 7ms/step - loss: 0.6997 - accuracy: 0.4741 - val_loss: 0.7065 - val_accuracy: 0.4724\n",
            "Epoch 5/10\n",
            "25/25 [==============================] - 0s 5ms/step - loss: 0.6990 - accuracy: 0.5271 - val_loss: 0.6949 - val_accuracy: 0.5276\n",
            "Epoch 6/10\n",
            "25/25 [==============================] - 0s 6ms/step - loss: 0.7034 - accuracy: 0.5069 - val_loss: 0.6971 - val_accuracy: 0.5276\n",
            "Epoch 7/10\n",
            "25/25 [==============================] - 0s 6ms/step - loss: 0.6994 - accuracy: 0.5082 - val_loss: 0.6927 - val_accuracy: 0.5276\n",
            "Epoch 8/10\n",
            "25/25 [==============================] - 0s 7ms/step - loss: 0.6987 - accuracy: 0.5233 - val_loss: 0.6951 - val_accuracy: 0.4724\n",
            "Epoch 9/10\n",
            "25/25 [==============================] - 0s 6ms/step - loss: 0.6997 - accuracy: 0.5032 - val_loss: 0.6958 - val_accuracy: 0.4724\n",
            "Epoch 10/10\n",
            "25/25 [==============================] - 0s 7ms/step - loss: 0.6967 - accuracy: 0.5057 - val_loss: 0.7297 - val_accuracy: 0.4724\n",
            "Number of hidden layers:  15\n",
            "Number of neurons per layer:  50\n",
            "Epoch 1/10\n",
            "25/25 [==============================] - 3s 17ms/step - loss: 1.7200 - accuracy: 0.4666 - val_loss: 0.7162 - val_accuracy: 0.4724\n",
            "Epoch 2/10\n",
            "25/25 [==============================] - 0s 6ms/step - loss: 0.7285 - accuracy: 0.5006 - val_loss: 0.7020 - val_accuracy: 0.4724\n",
            "Epoch 3/10\n",
            "25/25 [==============================] - 0s 6ms/step - loss: 0.6968 - accuracy: 0.4842 - val_loss: 0.6826 - val_accuracy: 0.5276\n",
            "Epoch 4/10\n",
            "25/25 [==============================] - 0s 6ms/step - loss: 0.6955 - accuracy: 0.4868 - val_loss: 0.6822 - val_accuracy: 0.5226\n",
            "Epoch 5/10\n",
            "25/25 [==============================] - 0s 6ms/step - loss: 0.6907 - accuracy: 0.5271 - val_loss: 0.6779 - val_accuracy: 0.7286\n",
            "Epoch 6/10\n",
            "25/25 [==============================] - 0s 6ms/step - loss: 0.6715 - accuracy: 0.6078 - val_loss: 0.5957 - val_accuracy: 0.7085\n",
            "Epoch 7/10\n",
            "25/25 [==============================] - 0s 7ms/step - loss: 0.6102 - accuracy: 0.6961 - val_loss: 0.5681 - val_accuracy: 0.7538\n",
            "Epoch 8/10\n",
            "25/25 [==============================] - 0s 7ms/step - loss: 0.5919 - accuracy: 0.7238 - val_loss: 0.5670 - val_accuracy: 0.7085\n",
            "Epoch 9/10\n",
            "25/25 [==============================] - 0s 7ms/step - loss: 0.5755 - accuracy: 0.7364 - val_loss: 0.5869 - val_accuracy: 0.7136\n",
            "Epoch 10/10\n",
            "25/25 [==============================] - 0s 7ms/step - loss: 0.5514 - accuracy: 0.7453 - val_loss: 0.6092 - val_accuracy: 0.7186\n",
            "Number of hidden layers:  15\n",
            "Number of neurons per layer:  70\n",
            "Epoch 1/10\n",
            "25/25 [==============================] - 4s 28ms/step - loss: 1.5277 - accuracy: 0.4615 - val_loss: 0.7243 - val_accuracy: 0.4724\n",
            "Epoch 2/10\n",
            "25/25 [==============================] - 0s 12ms/step - loss: 0.7427 - accuracy: 0.5019 - val_loss: 0.7021 - val_accuracy: 0.5276\n",
            "Epoch 3/10\n",
            "25/25 [==============================] - 0s 10ms/step - loss: 0.7089 - accuracy: 0.5044 - val_loss: 0.7177 - val_accuracy: 0.4724\n",
            "Epoch 4/10\n",
            "25/25 [==============================] - 0s 11ms/step - loss: 0.7034 - accuracy: 0.5107 - val_loss: 0.7005 - val_accuracy: 0.4724\n",
            "Epoch 5/10\n",
            "25/25 [==============================] - 0s 10ms/step - loss: 0.6949 - accuracy: 0.5069 - val_loss: 0.6879 - val_accuracy: 0.5276\n",
            "Epoch 6/10\n",
            "25/25 [==============================] - 0s 12ms/step - loss: 0.6995 - accuracy: 0.5082 - val_loss: 0.6876 - val_accuracy: 0.5276\n",
            "Epoch 7/10\n",
            "25/25 [==============================] - 0s 13ms/step - loss: 0.6929 - accuracy: 0.5057 - val_loss: 0.6978 - val_accuracy: 0.4724\n",
            "Epoch 8/10\n",
            "25/25 [==============================] - 0s 12ms/step - loss: 0.6903 - accuracy: 0.5158 - val_loss: 0.6957 - val_accuracy: 0.4724\n",
            "Epoch 9/10\n",
            "25/25 [==============================] - 0s 11ms/step - loss: 0.6777 - accuracy: 0.5712 - val_loss: 0.6650 - val_accuracy: 0.6784\n",
            "Epoch 10/10\n",
            "25/25 [==============================] - 0s 11ms/step - loss: 0.6480 - accuracy: 0.6393 - val_loss: 0.6309 - val_accuracy: 0.6784\n",
            "Number of hidden layers:  15\n",
            "Number of neurons per layer:  100\n",
            "Epoch 1/10\n",
            "25/25 [==============================] - 4s 20ms/step - loss: 1.3336 - accuracy: 0.4489 - val_loss: 0.7808 - val_accuracy: 0.4724\n",
            "Epoch 2/10\n",
            "25/25 [==============================] - 0s 9ms/step - loss: 0.7097 - accuracy: 0.4905 - val_loss: 0.7019 - val_accuracy: 0.4724\n",
            "Epoch 3/10\n",
            "25/25 [==============================] - 0s 8ms/step - loss: 0.6997 - accuracy: 0.5044 - val_loss: 0.6913 - val_accuracy: 0.5276\n",
            "Epoch 4/10\n",
            "25/25 [==============================] - 0s 8ms/step - loss: 0.6960 - accuracy: 0.4956 - val_loss: 0.6915 - val_accuracy: 0.5276\n",
            "Epoch 5/10\n",
            "25/25 [==============================] - 0s 9ms/step - loss: 0.6955 - accuracy: 0.5057 - val_loss: 0.6890 - val_accuracy: 0.5276\n",
            "Epoch 6/10\n",
            "25/25 [==============================] - 0s 9ms/step - loss: 0.6984 - accuracy: 0.5145 - val_loss: 0.6881 - val_accuracy: 0.5276\n",
            "Epoch 7/10\n",
            "25/25 [==============================] - 0s 8ms/step - loss: 0.6959 - accuracy: 0.5233 - val_loss: 0.6775 - val_accuracy: 0.5276\n",
            "Epoch 8/10\n",
            "25/25 [==============================] - 0s 9ms/step - loss: 0.6858 - accuracy: 0.5359 - val_loss: 0.6479 - val_accuracy: 0.5276\n",
            "Epoch 9/10\n",
            "25/25 [==============================] - 0s 9ms/step - loss: 0.6739 - accuracy: 0.5927 - val_loss: 0.6306 - val_accuracy: 0.5276\n",
            "Epoch 10/10\n",
            "25/25 [==============================] - 0s 8ms/step - loss: 0.6668 - accuracy: 0.6103 - val_loss: 0.5896 - val_accuracy: 0.7136\n",
            "Number of hidden layers:  15\n",
            "Number of neurons per layer:  110\n",
            "Epoch 1/10\n",
            "25/25 [==============================] - 3s 20ms/step - loss: 1.1601 - accuracy: 0.5095 - val_loss: 0.7464 - val_accuracy: 0.4724\n",
            "Epoch 2/10\n",
            "25/25 [==============================] - 0s 13ms/step - loss: 0.7263 - accuracy: 0.4779 - val_loss: 0.6999 - val_accuracy: 0.4724\n",
            "Epoch 3/10\n",
            "25/25 [==============================] - 0s 16ms/step - loss: 0.6994 - accuracy: 0.5019 - val_loss: 0.7163 - val_accuracy: 0.4724\n",
            "Epoch 4/10\n",
            "25/25 [==============================] - 0s 13ms/step - loss: 0.6996 - accuracy: 0.4994 - val_loss: 0.6939 - val_accuracy: 0.4724\n",
            "Epoch 5/10\n",
            "25/25 [==============================] - 0s 15ms/step - loss: 0.6966 - accuracy: 0.5095 - val_loss: 0.6904 - val_accuracy: 0.5779\n",
            "Epoch 6/10\n",
            "25/25 [==============================] - 0s 15ms/step - loss: 0.6987 - accuracy: 0.5019 - val_loss: 0.6860 - val_accuracy: 0.6985\n",
            "Epoch 7/10\n",
            "25/25 [==============================] - 0s 14ms/step - loss: 0.6926 - accuracy: 0.5284 - val_loss: 0.6578 - val_accuracy: 0.5729\n",
            "Epoch 8/10\n",
            "25/25 [==============================] - 0s 13ms/step - loss: 0.6526 - accuracy: 0.6759 - val_loss: 0.5984 - val_accuracy: 0.7035\n",
            "Epoch 9/10\n",
            "25/25 [==============================] - 0s 14ms/step - loss: 0.6586 - accuracy: 0.6494 - val_loss: 0.6284 - val_accuracy: 0.6985\n",
            "Epoch 10/10\n",
            "25/25 [==============================] - 0s 14ms/step - loss: 0.5835 - accuracy: 0.7175 - val_loss: 0.5985 - val_accuracy: 0.6834\n",
            "Number of hidden layers:  20\n",
            "Number of neurons per layer:  10\n",
            "Epoch 1/10\n",
            "25/25 [==============================] - 4s 20ms/step - loss: 2.2753 - accuracy: 0.5032 - val_loss: 2.2425 - val_accuracy: 0.5276\n",
            "Epoch 2/10\n",
            "25/25 [==============================] - 0s 7ms/step - loss: 2.2065 - accuracy: 0.4729 - val_loss: 2.1619 - val_accuracy: 0.4724\n",
            "Epoch 3/10\n",
            "25/25 [==============================] - 0s 6ms/step - loss: 2.1102 - accuracy: 0.5158 - val_loss: 2.0456 - val_accuracy: 0.4724\n",
            "Epoch 4/10\n",
            "25/25 [==============================] - 0s 7ms/step - loss: 1.9706 - accuracy: 0.5158 - val_loss: 1.8783 - val_accuracy: 0.4724\n",
            "Epoch 5/10\n",
            "25/25 [==============================] - 0s 6ms/step - loss: 1.7756 - accuracy: 0.5158 - val_loss: 1.6537 - val_accuracy: 0.4724\n",
            "Epoch 6/10\n",
            "25/25 [==============================] - 0s 6ms/step - loss: 1.5291 - accuracy: 0.5158 - val_loss: 1.3894 - val_accuracy: 0.4724\n",
            "Epoch 7/10\n",
            "25/25 [==============================] - 0s 6ms/step - loss: 1.2654 - accuracy: 0.5158 - val_loss: 1.1377 - val_accuracy: 0.4724\n",
            "Epoch 8/10\n",
            "25/25 [==============================] - 0s 7ms/step - loss: 1.0424 - accuracy: 0.5158 - val_loss: 0.9528 - val_accuracy: 0.4724\n",
            "Epoch 9/10\n",
            "25/25 [==============================] - 0s 6ms/step - loss: 0.8951 - accuracy: 0.5158 - val_loss: 0.8444 - val_accuracy: 0.4724\n",
            "Epoch 10/10\n",
            "25/25 [==============================] - 0s 6ms/step - loss: 0.8135 - accuracy: 0.5158 - val_loss: 0.7869 - val_accuracy: 0.4724\n",
            "Number of hidden layers:  20\n",
            "Number of neurons per layer:  30\n",
            "Epoch 1/10\n",
            "25/25 [==============================] - 5s 28ms/step - loss: 2.1157 - accuracy: 0.4565 - val_loss: 1.3315 - val_accuracy: 0.5276\n",
            "Epoch 2/10\n",
            "25/25 [==============================] - 0s 10ms/step - loss: 0.8052 - accuracy: 0.4855 - val_loss: 0.7301 - val_accuracy: 0.4724\n",
            "Epoch 3/10\n",
            "25/25 [==============================] - 0s 11ms/step - loss: 0.7170 - accuracy: 0.4767 - val_loss: 0.6818 - val_accuracy: 0.5276\n",
            "Epoch 4/10\n",
            "25/25 [==============================] - 0s 10ms/step - loss: 0.6937 - accuracy: 0.5221 - val_loss: 0.6767 - val_accuracy: 0.5427\n",
            "Epoch 5/10\n",
            "25/25 [==============================] - 0s 10ms/step - loss: 0.6864 - accuracy: 0.5523 - val_loss: 0.6749 - val_accuracy: 0.6935\n",
            "Epoch 6/10\n",
            "25/25 [==============================] - 0s 12ms/step - loss: 0.6935 - accuracy: 0.5498 - val_loss: 0.6717 - val_accuracy: 0.5276\n",
            "Epoch 7/10\n",
            "25/25 [==============================] - 0s 10ms/step - loss: 0.6857 - accuracy: 0.5422 - val_loss: 0.6521 - val_accuracy: 0.6281\n",
            "Epoch 8/10\n",
            "25/25 [==============================] - 0s 10ms/step - loss: 0.6675 - accuracy: 0.5675 - val_loss: 0.6292 - val_accuracy: 0.6683\n",
            "Epoch 9/10\n",
            "25/25 [==============================] - 0s 10ms/step - loss: 0.6500 - accuracy: 0.6608 - val_loss: 0.5986 - val_accuracy: 0.7136\n",
            "Epoch 10/10\n",
            "25/25 [==============================] - 0s 11ms/step - loss: 0.6550 - accuracy: 0.6431 - val_loss: 0.6040 - val_accuracy: 0.7186\n",
            "Number of hidden layers:  20\n",
            "Number of neurons per layer:  50\n",
            "Epoch 1/10\n",
            "25/25 [==============================] - 4s 19ms/step - loss: 1.6843 - accuracy: 0.4603 - val_loss: 0.8816 - val_accuracy: 0.4724\n",
            "Epoch 2/10\n",
            "25/25 [==============================] - 0s 8ms/step - loss: 0.7279 - accuracy: 0.5259 - val_loss: 0.7048 - val_accuracy: 0.5276\n",
            "Epoch 3/10\n",
            "25/25 [==============================] - 0s 8ms/step - loss: 0.7100 - accuracy: 0.4792 - val_loss: 0.6871 - val_accuracy: 0.5276\n",
            "Epoch 4/10\n",
            "25/25 [==============================] - 0s 7ms/step - loss: 0.7048 - accuracy: 0.4817 - val_loss: 0.6886 - val_accuracy: 0.5276\n",
            "Epoch 5/10\n",
            "25/25 [==============================] - 0s 7ms/step - loss: 0.7059 - accuracy: 0.4704 - val_loss: 0.6900 - val_accuracy: 0.6231\n",
            "Epoch 6/10\n",
            "25/25 [==============================] - 0s 7ms/step - loss: 0.6957 - accuracy: 0.4994 - val_loss: 0.6816 - val_accuracy: 0.5276\n",
            "Epoch 7/10\n",
            "25/25 [==============================] - 0s 7ms/step - loss: 0.6996 - accuracy: 0.4805 - val_loss: 0.6837 - val_accuracy: 0.5226\n",
            "Epoch 8/10\n",
            "25/25 [==============================] - 0s 7ms/step - loss: 0.6941 - accuracy: 0.4893 - val_loss: 0.6801 - val_accuracy: 0.7035\n",
            "Epoch 9/10\n",
            "25/25 [==============================] - 0s 7ms/step - loss: 0.6833 - accuracy: 0.5675 - val_loss: 0.6506 - val_accuracy: 0.5327\n",
            "Epoch 10/10\n",
            "25/25 [==============================] - 0s 7ms/step - loss: 0.6671 - accuracy: 0.5889 - val_loss: 0.6287 - val_accuracy: 0.6935\n",
            "Number of hidden layers:  20\n",
            "Number of neurons per layer:  70\n",
            "Epoch 1/10\n",
            "25/25 [==============================] - 6s 32ms/step - loss: 1.4624 - accuracy: 0.4641 - val_loss: 0.7265 - val_accuracy: 0.5276\n",
            "Epoch 2/10\n",
            "25/25 [==============================] - 0s 14ms/step - loss: 0.7113 - accuracy: 0.4842 - val_loss: 0.6948 - val_accuracy: 0.5276\n",
            "Epoch 3/10\n",
            "25/25 [==============================] - 0s 12ms/step - loss: 0.6973 - accuracy: 0.4893 - val_loss: 0.6884 - val_accuracy: 0.5276\n",
            "Epoch 4/10\n",
            "25/25 [==============================] - 0s 14ms/step - loss: 0.6951 - accuracy: 0.4893 - val_loss: 0.6933 - val_accuracy: 0.4724\n",
            "Epoch 5/10\n",
            "25/25 [==============================] - 0s 14ms/step - loss: 0.6936 - accuracy: 0.5158 - val_loss: 0.6936 - val_accuracy: 0.4724\n",
            "Epoch 6/10\n",
            "25/25 [==============================] - 0s 14ms/step - loss: 0.7055 - accuracy: 0.5057 - val_loss: 0.6894 - val_accuracy: 0.5276\n",
            "Epoch 7/10\n",
            "25/25 [==============================] - 0s 13ms/step - loss: 0.6890 - accuracy: 0.5158 - val_loss: 0.7501 - val_accuracy: 0.4724\n",
            "Epoch 8/10\n",
            "25/25 [==============================] - 0s 13ms/step - loss: 0.7003 - accuracy: 0.5536 - val_loss: 0.6651 - val_accuracy: 0.6332\n",
            "Epoch 9/10\n",
            "25/25 [==============================] - 0s 14ms/step - loss: 0.6661 - accuracy: 0.5889 - val_loss: 0.6239 - val_accuracy: 0.6432\n",
            "Epoch 10/10\n",
            "25/25 [==============================] - 0s 12ms/step - loss: 0.6204 - accuracy: 0.7150 - val_loss: 0.5910 - val_accuracy: 0.6935\n",
            "Number of hidden layers:  20\n",
            "Number of neurons per layer:  100\n",
            "Epoch 1/10\n",
            "25/25 [==============================] - 4s 22ms/step - loss: 1.2404 - accuracy: 0.5019 - val_loss: 0.7194 - val_accuracy: 0.5276\n",
            "Epoch 2/10\n",
            "25/25 [==============================] - 0s 10ms/step - loss: 0.7168 - accuracy: 0.4956 - val_loss: 0.6932 - val_accuracy: 0.4724\n",
            "Epoch 3/10\n",
            "25/25 [==============================] - 0s 10ms/step - loss: 0.7052 - accuracy: 0.5233 - val_loss: 0.7181 - val_accuracy: 0.4724\n",
            "Epoch 4/10\n",
            "25/25 [==============================] - 0s 10ms/step - loss: 0.6985 - accuracy: 0.5107 - val_loss: 0.6950 - val_accuracy: 0.4724\n",
            "Epoch 5/10\n",
            "25/25 [==============================] - 0s 10ms/step - loss: 0.6942 - accuracy: 0.5107 - val_loss: 0.7148 - val_accuracy: 0.4724\n",
            "Epoch 6/10\n",
            "25/25 [==============================] - 0s 10ms/step - loss: 0.6966 - accuracy: 0.5044 - val_loss: 0.7112 - val_accuracy: 0.4724\n",
            "Epoch 7/10\n",
            "25/25 [==============================] - 0s 9ms/step - loss: 0.7007 - accuracy: 0.5006 - val_loss: 0.6969 - val_accuracy: 0.4724\n",
            "Epoch 8/10\n",
            "25/25 [==============================] - 0s 10ms/step - loss: 0.6921 - accuracy: 0.5422 - val_loss: 0.6891 - val_accuracy: 0.5276\n",
            "Epoch 9/10\n",
            "25/25 [==============================] - 0s 10ms/step - loss: 0.6991 - accuracy: 0.4968 - val_loss: 0.6878 - val_accuracy: 0.5276\n",
            "Epoch 10/10\n",
            "25/25 [==============================] - 0s 11ms/step - loss: 0.6893 - accuracy: 0.5284 - val_loss: 0.6641 - val_accuracy: 0.5276\n",
            "Number of hidden layers:  20\n",
            "Number of neurons per layer:  110\n",
            "Epoch 1/10\n",
            "25/25 [==============================] - 5s 23ms/step - loss: 1.2726 - accuracy: 0.4779 - val_loss: 0.6962 - val_accuracy: 0.5276\n",
            "Epoch 2/10\n",
            "25/25 [==============================] - 0s 10ms/step - loss: 0.7095 - accuracy: 0.4918 - val_loss: 0.6896 - val_accuracy: 0.6633\n",
            "Epoch 3/10\n",
            "25/25 [==============================] - 0s 10ms/step - loss: 0.7055 - accuracy: 0.4956 - val_loss: 0.6896 - val_accuracy: 0.5276\n",
            "Epoch 4/10\n",
            "25/25 [==============================] - 0s 10ms/step - loss: 0.6947 - accuracy: 0.5208 - val_loss: 0.7049 - val_accuracy: 0.4724\n",
            "Epoch 5/10\n",
            "25/25 [==============================] - 0s 10ms/step - loss: 0.6937 - accuracy: 0.5448 - val_loss: 0.6522 - val_accuracy: 0.6231\n",
            "Epoch 6/10\n",
            "25/25 [==============================] - 0s 9ms/step - loss: 0.6623 - accuracy: 0.6255 - val_loss: 0.7159 - val_accuracy: 0.4724\n",
            "Epoch 7/10\n",
            "25/25 [==============================] - 0s 10ms/step - loss: 0.6559 - accuracy: 0.6343 - val_loss: 0.6051 - val_accuracy: 0.7085\n",
            "Epoch 8/10\n",
            "25/25 [==============================] - 0s 10ms/step - loss: 0.5951 - accuracy: 0.7100 - val_loss: 0.5769 - val_accuracy: 0.7136\n",
            "Epoch 9/10\n",
            "25/25 [==============================] - 0s 10ms/step - loss: 0.5903 - accuracy: 0.7125 - val_loss: 0.5870 - val_accuracy: 0.6985\n",
            "Epoch 10/10\n",
            "25/25 [==============================] - 0s 10ms/step - loss: 0.5755 - accuracy: 0.7251 - val_loss: 0.5617 - val_accuracy: 0.6985\n"
          ]
        }
      ]
    },
    {
      "cell_type": "markdown",
      "source": [
        "##Neural network visualization\n",
        "This will help us visualize the loss and accuracy of the best neural network model."
      ],
      "metadata": {
        "id": "DEvk7Gj9Eq1n"
      }
    },
    {
      "cell_type": "code",
      "source": [
        "import tensorflow as tf # for neural network models\n",
        "print(tf.__version__)"
      ],
      "metadata": {
        "colab": {
          "base_uri": "https://localhost:8080/"
        },
        "id": "sgu0G7bbEzbX",
        "outputId": "776d0a5c-39f9-4903-ce14-44c0f06cb224"
      },
      "execution_count": null,
      "outputs": [
        {
          "output_type": "stream",
          "name": "stdout",
          "text": [
            "2.12.0\n"
          ]
        }
      ]
    },
    {
      "cell_type": "code",
      "source": [
        "X = df.drop(['treatment'], axis=1)\n",
        "Y = df['treatment']\n",
        "X.shape"
      ],
      "metadata": {
        "colab": {
          "base_uri": "https://localhost:8080/"
        },
        "id": "n1EhjkwME2--",
        "outputId": "8f7723c6-c7f8-43aa-a33b-932585dae580"
      },
      "execution_count": null,
      "outputs": [
        {
          "output_type": "execute_result",
          "data": {
            "text/plain": [
              "(1241, 33)"
            ]
          },
          "metadata": {},
          "execution_count": 92
        }
      ]
    },
    {
      "cell_type": "code",
      "source": [
        "X = (X - X.min())/(X.max()-X.min())"
      ],
      "metadata": {
        "id": "Jbds1aSvE5Gv"
      },
      "execution_count": null,
      "outputs": []
    },
    {
      "cell_type": "code",
      "source": [
        "from sklearn.model_selection import train_test_split\n",
        "X_train, X_test, y_train, y_test = train_test_split(X, Y, test_size=0.2, random_state=0)"
      ],
      "metadata": {
        "id": "4TQZZBhUE7Kx"
      },
      "execution_count": null,
      "outputs": []
    },
    {
      "cell_type": "code",
      "source": [
        "X_train = np.array(X_train)\n",
        "y_train = np.array(y_train)\n",
        "\n",
        "X_test = np.array(X_test)\n",
        "y_test = np.array(y_test)\n",
        "\n",
        "print(X_train.shape, y_train.shape, X_test.shape, y_test.shape)"
      ],
      "metadata": {
        "colab": {
          "base_uri": "https://localhost:8080/"
        },
        "id": "49EacaDsE9oT",
        "outputId": "46e182e4-3b9c-4588-b0fd-6dff5102db3b"
      },
      "execution_count": null,
      "outputs": [
        {
          "output_type": "stream",
          "name": "stdout",
          "text": [
            "(992, 33) (992,) (249, 33) (249,)\n"
          ]
        }
      ]
    },
    {
      "cell_type": "code",
      "source": [
        "model = tf.keras.models.Sequential([\n",
        "  tf.keras.layers.Dense(5, activation='relu'), # hidden layer\n",
        "  tf.keras.layers.Dense(5, activation='relu'), # hidden layer\n",
        "  tf.keras.layers.Dense(5, activation='relu'), # hidden layer\n",
        "  tf.keras.layers.Dense(10, activation='relu'), # hidden layer\n",
        "  tf.keras.layers.Dense(10, activation='relu'), # hidden layer\n",
        "  tf.keras.layers.Dense(15, activation='relu'), # hidden layer\n",
        "  tf.keras.layers.Dense(2, activation='softmax') # output layer\n",
        "])"
      ],
      "metadata": {
        "id": "YvUZVrqwFCFN"
      },
      "execution_count": null,
      "outputs": []
    },
    {
      "cell_type": "code",
      "source": [
        "model.compile(\n",
        "    optimizer = 'adam', # for this course, we always use adam\n",
        "    loss = 'sparse_categorical_crossentropy', # since this is classification, we use categorical crossentropy (rather than MSE)\n",
        "    metrics=['accuracy']) # we'll evaluate based on the accuracy of our predictions"
      ],
      "metadata": {
        "id": "Gv_FsvjcFCnI"
      },
      "execution_count": null,
      "outputs": []
    },
    {
      "cell_type": "code",
      "source": [
        "history = model.fit(X_train, y_train, validation_split = 0.1, epochs = 25) # have to assign the fit function to a variable"
      ],
      "metadata": {
        "colab": {
          "base_uri": "https://localhost:8080/"
        },
        "id": "NZpPKMbmFEqW",
        "outputId": "d85c5d2f-a395-4a33-8cef-1b625988b8e2"
      },
      "execution_count": null,
      "outputs": [
        {
          "output_type": "stream",
          "name": "stdout",
          "text": [
            "Epoch 1/25\n",
            "28/28 [==============================] - 2s 11ms/step - loss: 0.6899 - accuracy: 0.5258 - val_loss: 0.6941 - val_accuracy: 0.5000\n",
            "Epoch 2/25\n",
            "28/28 [==============================] - 0s 4ms/step - loss: 0.6822 - accuracy: 0.5852 - val_loss: 0.6896 - val_accuracy: 0.5700\n",
            "Epoch 3/25\n",
            "28/28 [==============================] - 0s 5ms/step - loss: 0.6730 - accuracy: 0.6110 - val_loss: 0.6808 - val_accuracy: 0.5800\n",
            "Epoch 4/25\n",
            "28/28 [==============================] - 0s 4ms/step - loss: 0.6603 - accuracy: 0.6267 - val_loss: 0.6679 - val_accuracy: 0.5900\n",
            "Epoch 5/25\n",
            "28/28 [==============================] - 0s 4ms/step - loss: 0.6442 - accuracy: 0.6491 - val_loss: 0.6536 - val_accuracy: 0.6000\n",
            "Epoch 6/25\n",
            "28/28 [==============================] - 0s 4ms/step - loss: 0.6292 - accuracy: 0.6637 - val_loss: 0.6423 - val_accuracy: 0.6100\n",
            "Epoch 7/25\n",
            "28/28 [==============================] - 0s 4ms/step - loss: 0.6213 - accuracy: 0.6670 - val_loss: 0.6342 - val_accuracy: 0.6100\n",
            "Epoch 8/25\n",
            "28/28 [==============================] - 0s 4ms/step - loss: 0.6110 - accuracy: 0.6704 - val_loss: 0.6316 - val_accuracy: 0.6700\n",
            "Epoch 9/25\n",
            "28/28 [==============================] - 0s 4ms/step - loss: 0.6020 - accuracy: 0.6771 - val_loss: 0.6234 - val_accuracy: 0.6200\n",
            "Epoch 10/25\n",
            "28/28 [==============================] - 0s 4ms/step - loss: 0.5974 - accuracy: 0.6749 - val_loss: 0.6253 - val_accuracy: 0.6700\n",
            "Epoch 11/25\n",
            "28/28 [==============================] - 0s 4ms/step - loss: 0.5909 - accuracy: 0.6861 - val_loss: 0.6176 - val_accuracy: 0.6400\n",
            "Epoch 12/25\n",
            "28/28 [==============================] - 0s 4ms/step - loss: 0.5927 - accuracy: 0.6872 - val_loss: 0.6128 - val_accuracy: 0.6500\n",
            "Epoch 13/25\n",
            "28/28 [==============================] - 0s 4ms/step - loss: 0.5855 - accuracy: 0.6839 - val_loss: 0.6106 - val_accuracy: 0.6700\n",
            "Epoch 14/25\n",
            "28/28 [==============================] - 0s 4ms/step - loss: 0.5792 - accuracy: 0.6883 - val_loss: 0.6100 - val_accuracy: 0.6600\n",
            "Epoch 15/25\n",
            "28/28 [==============================] - 0s 4ms/step - loss: 0.5752 - accuracy: 0.6973 - val_loss: 0.6098 - val_accuracy: 0.6600\n",
            "Epoch 16/25\n",
            "28/28 [==============================] - 0s 4ms/step - loss: 0.5703 - accuracy: 0.7074 - val_loss: 0.6120 - val_accuracy: 0.6800\n",
            "Epoch 17/25\n",
            "28/28 [==============================] - 0s 4ms/step - loss: 0.5683 - accuracy: 0.7119 - val_loss: 0.6077 - val_accuracy: 0.6800\n",
            "Epoch 18/25\n",
            "28/28 [==============================] - 0s 4ms/step - loss: 0.5641 - accuracy: 0.7119 - val_loss: 0.6084 - val_accuracy: 0.6700\n",
            "Epoch 19/25\n",
            "28/28 [==============================] - 0s 4ms/step - loss: 0.5622 - accuracy: 0.7152 - val_loss: 0.6080 - val_accuracy: 0.6700\n",
            "Epoch 20/25\n",
            "28/28 [==============================] - 0s 4ms/step - loss: 0.5606 - accuracy: 0.7108 - val_loss: 0.6101 - val_accuracy: 0.6700\n",
            "Epoch 21/25\n",
            "28/28 [==============================] - 0s 5ms/step - loss: 0.5558 - accuracy: 0.7209 - val_loss: 0.6099 - val_accuracy: 0.6800\n",
            "Epoch 22/25\n",
            "28/28 [==============================] - 0s 4ms/step - loss: 0.5559 - accuracy: 0.7231 - val_loss: 0.6124 - val_accuracy: 0.6800\n",
            "Epoch 23/25\n",
            "28/28 [==============================] - 0s 4ms/step - loss: 0.5533 - accuracy: 0.7186 - val_loss: 0.6164 - val_accuracy: 0.6700\n",
            "Epoch 24/25\n",
            "28/28 [==============================] - 0s 4ms/step - loss: 0.5491 - accuracy: 0.7276 - val_loss: 0.6118 - val_accuracy: 0.6800\n",
            "Epoch 25/25\n",
            "28/28 [==============================] - 0s 3ms/step - loss: 0.5486 - accuracy: 0.7231 - val_loss: 0.6145 - val_accuracy: 0.6500\n"
          ]
        }
      ]
    },
    {
      "cell_type": "code",
      "source": [
        "import keras\n",
        "from matplotlib import pyplot as plt\n",
        "plt.plot(history.history['accuracy'])\n",
        "plt.plot(history.history['val_accuracy'])\n",
        "plt.title('model accuracy')\n",
        "plt.ylabel('accuracy')\n",
        "plt.xlabel('epoch')\n",
        "plt.legend(['train', 'val'], loc='upper left')\n",
        "plt.show()"
      ],
      "metadata": {
        "colab": {
          "base_uri": "https://localhost:8080/",
          "height": 472
        },
        "id": "94wMu4b_FH-S",
        "outputId": "b71c1c6c-44a9-41a7-c1a3-508498a86936"
      },
      "execution_count": null,
      "outputs": [
        {
          "output_type": "display_data",
          "data": {
            "text/plain": [
              "<Figure size 640x480 with 1 Axes>"
            ],
            "image/png": "[encoded data removed]"
          },
          "metadata": {}
        }
      ]
    },
    {
      "cell_type": "code",
      "source": [
        "import keras\n",
        "from matplotlib import pyplot as plt\n",
        "plt.plot(history.history['loss'])\n",
        "plt.plot(history.history['val_loss'])\n",
        "plt.title('model loss')\n",
        "plt.ylabel('loss')\n",
        "plt.xlabel('epoch')\n",
        "plt.legend(['train', 'val'], loc='upper left')\n",
        "plt.show()"
      ],
      "metadata": {
        "colab": {
          "base_uri": "https://localhost:8080/",
          "height": 472
        },
        "id": "FtMfMTJzFIg8",
        "outputId": "e0516777-ced2-4c49-8572-76d9c52af146"
      },
      "execution_count": null,
      "outputs": [
        {
          "output_type": "display_data",
          "data": {
            "text/plain": [
              "<Figure size 640x480 with 1 Axes>"
            ],
            "image/png": "[encoded data removed]"
          },
          "metadata": {}
        }
      ]
    },
    {
      "cell_type": "code",
      "source": [
        "# Get predictions on test set\n",
        "predictions = model.predict(X_test) # gives us predicted probabilities for each digit\n",
        "predictions = np.argmax(predictions, axis = 1) # makes predicted digit the classification with highest probability\n",
        "\n",
        "# Find accuracy on test set\n",
        "print('Test accuracy: ', np.mean(y_test == predictions))"
      ],
      "metadata": {
        "colab": {
          "base_uri": "https://localhost:8080/"
        },
        "id": "RQZHvHrAFLpP",
        "outputId": "85428dac-89a7-429f-f622-d7c712eccb93"
      },
      "execution_count": null,
      "outputs": [
        {
          "output_type": "stream",
          "name": "stdout",
          "text": [
            "8/8 [==============================] - 0s 3ms/step\n",
            "Test accuracy:  0.7028112449799196\n"
          ]
        }
      ]
    },
    {
      "cell_type": "markdown",
      "source": [
        "#Random Forest"
      ],
      "metadata": {
        "id": "q_b26XxbStH4"
      }
    },
    {
      "cell_type": "code",
      "source": [
        "df = pd.read_csv('/content/drive/My Drive/survey_cleaned2.csv')\n",
        "from sklearn import tree"
      ],
      "metadata": {
        "id": "Qo7ZZ4yESz6w"
      },
      "execution_count": null,
      "outputs": []
    },
    {
      "cell_type": "markdown",
      "source": [
        "##Split dataset into X and y values"
      ],
      "metadata": {
        "id": "l2mag9cVDGSX"
      }
    },
    {
      "cell_type": "code",
      "source": [
        "X = df.drop(['treatment'], axis=1)\n",
        "Y = df['treatment']\n",
        "X.shape"
      ],
      "metadata": {
        "colab": {
          "base_uri": "https://localhost:8080/"
        },
        "id": "7kgv2_MXDFgD",
        "outputId": "b8429f32-fafc-49d7-c64b-dd7e80a1ae95"
      },
      "execution_count": null,
      "outputs": [
        {
          "output_type": "execute_result",
          "data": {
            "text/plain": [
              "(1241, 33)"
            ]
          },
          "metadata": {},
          "execution_count": 103
        }
      ]
    },
    {
      "cell_type": "markdown",
      "source": [
        "##Train/test split on the $X$ and $y$ values"
      ],
      "metadata": {
        "id": "tkctTQOsDKGY"
      }
    },
    {
      "cell_type": "code",
      "source": [
        "from sklearn.model_selection import train_test_split\n",
        "X_train, X_test, y_train, y_test = train_test_split(X, Y, test_size=0.2, random_state=0)"
      ],
      "metadata": {
        "id": "DrU1cCK4DKzT"
      },
      "execution_count": null,
      "outputs": []
    },
    {
      "cell_type": "code",
      "source": [
        "X_train = np.array(X_train)\n",
        "y_train = np.array(y_train)\n",
        "\n",
        "X_test = np.array(X_test)\n",
        "y_test = np.array(y_test)\n",
        "\n",
        "print(X_train.shape, y_train.shape, X_test.shape, y_test.shape)"
      ],
      "metadata": {
        "colab": {
          "base_uri": "https://localhost:8080/"
        },
        "id": "o2hJuf-cDQ-9",
        "outputId": "3ab7c26c-9b63-4b2a-ac79-792fec8e45ac"
      },
      "execution_count": null,
      "outputs": [
        {
          "output_type": "stream",
          "name": "stdout",
          "text": [
            "(992, 33) (992,) (249, 33) (249,)\n"
          ]
        }
      ]
    },
    {
      "cell_type": "markdown",
      "source": [
        "##Creating and training a decision tree"
      ],
      "metadata": {
        "id": "pzbvuui_DUFH"
      }
    },
    {
      "cell_type": "code",
      "source": [
        "from sklearn import tree\n",
        "clf = tree.DecisionTreeClassifier()\n",
        "clf = clf.fit(X_train, y_train)"
      ],
      "metadata": {
        "id": "ZL4hPD3GDUbX"
      },
      "execution_count": null,
      "outputs": []
    },
    {
      "cell_type": "markdown",
      "source": [
        "##Creating and training a random forest and assessing performance\n",
        "A Random Forest is a series of decision trees."
      ],
      "metadata": {
        "id": "UB5uMbbVDb-V"
      }
    },
    {
      "cell_type": "code",
      "source": [
        "y_test_pred = clf.predict(X_test)\n",
        "np.sum(y_test_pred == y_test)/len(y_test)"
      ],
      "metadata": {
        "id": "4rAWp5YwDcNm"
      },
      "execution_count": null,
      "outputs": []
    },
    {
      "cell_type": "code",
      "source": [
        "from sklearn.ensemble import RandomForestClassifier\n",
        "for x in range(1,30):\n",
        "  clf = RandomForestClassifier(max_depth=x, random_state=0)\n",
        "  clf.fit(X_train, y_train)\n",
        "  y_test_pred = clf.predict(X_test)\n",
        "  print('Number of trees: ', x)\n",
        "  print(np.sum(y_test_pred == y_test)/len(y_test))"
      ],
      "metadata": {
        "colab": {
          "base_uri": "https://localhost:8080/"
        },
        "id": "6-Zj4kLYDej8",
        "outputId": "e7c5acb9-ac26-4176-c1c4-d460ca840052"
      },
      "execution_count": null,
      "outputs": [
        {
          "output_type": "stream",
          "name": "stdout",
          "text": [
            "Number of trees:  1\n",
            "0.6706827309236948\n",
            "Number of trees:  2\n",
            "0.6867469879518072\n",
            "Number of trees:  3\n",
            "0.7028112449799196\n",
            "Number of trees:  4\n",
            "0.7068273092369478\n",
            "Number of trees:  5\n",
            "0.7068273092369478\n",
            "Number of trees:  6\n",
            "0.6907630522088354\n",
            "Number of trees:  7\n",
            "0.7028112449799196\n",
            "Number of trees:  8\n",
            "0.6987951807228916\n",
            "Number of trees:  9\n",
            "0.6666666666666666\n",
            "Number of trees:  10\n",
            "0.6907630522088354\n",
            "Number of trees:  11\n",
            "0.6746987951807228\n",
            "Number of trees:  12\n",
            "0.7028112449799196\n",
            "Number of trees:  13\n",
            "0.6987951807228916\n",
            "Number of trees:  14\n",
            "0.6947791164658634\n",
            "Number of trees:  15\n",
            "0.6947791164658634\n",
            "Number of trees:  16\n",
            "0.6827309236947792\n",
            "Number of trees:  17\n",
            "0.6827309236947792\n",
            "Number of trees:  18\n",
            "0.6827309236947792\n",
            "Number of trees:  19\n",
            "0.6907630522088354\n",
            "Number of trees:  20\n",
            "0.678714859437751\n",
            "Number of trees:  21\n",
            "0.6827309236947792\n",
            "Number of trees:  22\n",
            "0.6907630522088354\n",
            "Number of trees:  23\n",
            "0.6867469879518072\n",
            "Number of trees:  24\n",
            "0.6827309236947792\n",
            "Number of trees:  25\n",
            "0.6827309236947792\n",
            "Number of trees:  26\n",
            "0.6827309236947792\n",
            "Number of trees:  27\n",
            "0.6827309236947792\n",
            "Number of trees:  28\n",
            "0.6827309236947792\n",
            "Number of trees:  29\n",
            "0.6827309236947792\n"
          ]
        }
      ]
    }
  ]
}